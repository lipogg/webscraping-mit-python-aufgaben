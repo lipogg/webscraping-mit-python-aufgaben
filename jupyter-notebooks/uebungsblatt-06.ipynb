{
 "cells": [
  {
   "attachments": {},
   "cell_type": "markdown",
   "metadata": {},
   "source": [
    "**Abgabe bis 01.12.2024, 23:59 Uhr per Mail: l.poggel@fu-berlin.de**"
   ]
  },
  {
   "attachments": {},
   "cell_type": "markdown",
   "metadata": {
    "collapsed": false
   },
   "source": [
    "#### Aufgabe 1: Wiederholung\n",
    "&nbsp;"
   ]
  },
  {
   "attachments": {},
   "cell_type": "markdown",
   "metadata": {
    "collapsed": false
   },
   "source": [
    "Lest euch nochmal das neue Kapitel \"Statische Webseiten\" auf unserer [Kurs-Website](https://lipogg.github.io/webscraping-mit-python) durch. Formuliert eine Frage zu einem Inhalt, der euch noch nicht ganz klar ist."
   ]
  },
  {
   "cell_type": "markdown",
   "metadata": {
    "collapsed": false
   },
   "source": [
    "#### Aufgabe 2: Praxis\n",
    "&nbsp;"
   ]
  },
  {
   "cell_type": "markdown",
   "metadata": {
    "collapsed": false
   },
   "source": [
    "1.) Öffnet euer Terminal bzw. Anaconda Prompt. Navigiert mit dem Befehl `cd` in euren Projektordner. Aktiviert die virtuelle Umgebung, indem ihr eingebt `conda activate ws-env` und Enter drückt. Startet JupyterLab, indem ihr `jupyter lab` eingebt und auf Enter drückt."
   ]
  },
  {
   "cell_type": "markdown",
   "metadata": {
    "collapsed": false
   },
   "source": [
    "2.) Wechselt jetzt in das Browserfenster, in dem JupyterLab geöffnet wurde. Erstellt ein neues Jupyter Notebook, indem ihr auf den Kernel \"Python 3.12 (Webscraping)” klickt. Verfasst einen Kommentar mit dem Namen der Lehrveranstaltung, der Nummer des Übungsblatts und eurem Namen. Speichert das Notebook mit einem geeigneten Dateinamen ab."
   ]
  },
  {
   "cell_type": "markdown",
   "metadata": {
    "collapsed": false
   },
   "source": [
    "3.) Importiert die beiden Pakete requests und BeautifulSoup. "
   ]
  },
  {
   "cell_type": "markdown",
   "metadata": {
    "collapsed": false
   },
   "source": [
    "4.) Stellt eine HTTP GET-Anfrage an den Server der Seite https://quotes.toscrape.com und weist die HTTP-Response einer Variable `antwort` zu."
   ]
  },
  {
   "cell_type": "markdown",
   "metadata": {
    "collapsed": false
   },
   "source": [
    "5.) Ruft den Statuscode der HTTP-Response ab. War die Anfrage erfolgreich?"
   ]
  },
  {
   "cell_type": "markdown",
   "metadata": {
    "collapsed": false
   },
   "source": [
    "6.) Erstellt ein BeautifulSoup-Objekt. Hinweis: Dazu könnt ihr der Vorlage auf unserer Kurs-Website folgen. Ihr müsst nur die Variable `page` durch die Variable `antwort` ersetzen."
   ]
  },
  {
   "cell_type": "markdown",
   "metadata": {
    "collapsed": false
   },
   "source": [
    "7.) Oben rechts auf der Webseite https://quotes.toscrape.com seht ihr eine Überschrift \"Top Ten tags\". Wir wollen jetzt alle zehn Tags aus dem Quellcode der Webseite extrahieren. Wenn ihr herausgefordert werden wollt, versucht, die Aufgabe nur mithilfe den Browser-Entwicklertools, den BeautifulSoup-Dokumentationsseiten und/oder den bereits bekannten BeautifulSoup-Methoden zu lösen. Ansonsten könnt ihr auch dieser Anleitung folgen:\n",
    "\n",
    "Öffnet in den Browser-Entwicklertools den Tab \"Elemente\". Bewegt den Cursor über die HTML-Elemente, bis der Bereich der Webseite, der die Top Ten Tags enthält, markiert wird. Falls ihr das HTML-Element nicht findet, könnt ihr auch die Überschrift \"Top Ten Tags\" auf der Webseite markieren. Mit Rechtsklick wird euch ein Menü angezeigt mit der Option \"Inspect\". Wenn ihr darauf klickt, springt die Anzeige in den Entwicklertools automatisch zu dem HTML-Element, das ihr sucht. Schaut euch jetzt die HTML-Elemente an, die die Auflistung der Top Ten Tags strukturieren. Welche HTML-Elemente oder Attribute beschreiben ausschließlich die Top Ten Tags? Sucht nach diesen Elementen oder Attributen mithilfe der Methode `.find_all()`. Ihr könnt euch dabei an dem Beispiel im Abschnitt \"Einstieg BeautifulSoup\" auf der Kurs-Website orientieren. Schreibt anschließend die for-Schleife aus dem Beispiel um, sodass die Tags statt die Zitate auf dem Bildschirm ausgegeben werde."
   ]
  }
 ],
 "metadata": {
  "authors": [
   {
    "name": "Lisa Poggel"
   }
  ],
  "kernelspec": {
   "display_name": "Python 3",
   "language": "python",
   "name": "python3"
  },
  "language_info": {
   "codemirror_mode": {
    "name": "ipython",
    "version": 2
   },
   "file_extension": ".py",
   "mimetype": "text/x-python",
   "name": "python",
   "nbconvert_exporter": "python",
   "pygments_lexer": "ipython2",
   "version": "2.7.6"
  },
  "subtitle": "WiSe24 - 'Webscraping mit Python'",
  "title": "Übungsblatt 6"
 },
 "nbformat": 4,
 "nbformat_minor": 0
}
