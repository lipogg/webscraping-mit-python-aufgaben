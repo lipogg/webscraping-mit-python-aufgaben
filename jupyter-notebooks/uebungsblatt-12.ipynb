{
 "cells": [
  {
   "attachments": {},
   "cell_type": "markdown",
   "metadata": {},
   "source": [
    "**Abgabe bis 03.02.2025, 23:59 Uhr per Mail: l.poggel@fu-berlin.de**"
   ]
  },
  {
   "cell_type": "markdown",
   "metadata": {
    "collapsed": false
   },
   "source": [
    "#### Aufgabe 1: Wiederholung\n",
    "&nbsp;\n",
    "\n",
    "Lest euch nochmal die Inhalte im Abschnitt \"Fortsetzung Selenium\" und die Inhalte im Abschnitt \"Daten bereinigen mit Pandas\" auf der Kurs-Website durch. Formuliert eine Frage zu einem Inhalt, der euch noch nicht ganz klar ist."
   ]
  },
  {
   "attachments": {},
   "cell_type": "markdown",
   "metadata": {},
   "source": [
    "#### Aufgabe 2: Verständnis Pandas\n",
    "&nbsp;"
   ]
  },
  {
   "attachments": {},
   "cell_type": "markdown",
   "metadata": {
    "collapsed": false
   },
   "source": [
    "1.) Was ist der Zusammenhang zwischen Pandas Dataframes und Pandas Series-Objekten? \n",
    "\n",
    "2.) Angenommen, ihr habt an einem Tag Daten gescraped und in einem Pandas Dataframe gespeichert. In welchem Dateiformat sollte der  Dataframe gespeichert werden, wenn ihr ein paar Tage später in Python weiter mit den Daten arbeiten wollt und diese beispielsweise bereinigen und visualisieren möchtet? "
   ]
  },
  {
   "attachments": {},
   "cell_type": "markdown",
   "metadata": {
    "collapsed": false
   },
   "source": [
    "#### Aufgabe 3: Praxis\n",
    "&nbsp;\n",
    "\n",
    "1.) Im [Abschnitt 10.1.2. Daten extrahieren und bereinigen](https://lipogg.github.io/webscraping-mit-python/chapters/10/subchapters/01_pandas_bereinigen.html#daten-extrahieren-und-bereinigen) findet ihr ein Skript, das für drei ausgewählte Pins von der Seite https://www.pinterest.com/ideas/animals/925056443165/ die Kommentare und die URLs zu den Pinterestprofilen der Kommentator:innen extrahiert. Schreibt dieses Skript so um, dass diese Daten stattdessen für die *ersten* drei Pins von der Seite extrahiert werden. Dazu könnt ihr euren Code zum Übungsblatt 12 anpassen und mit dem Code von der Kurswebseite kombinieren. \n",
    "\n",
    "2.) Wandelt anschließend das Objekt `comments_dict` in einen Pandas Dataframe um. \n",
    "\n",
    "3.) Lasst euch die ersten 10 Zeilen des Dataframes ausgeben. \n",
    "\n",
    "4.) Lasst euch nur die Zeilen ausgeben, in denen in der Spalte `comment` ein leerer String steht. \n",
    "\n",
    ">Hinweis: Dazu müsst ihr die Zugriffsoperation `comments_df.loc[comments_df[\"commentator_id\"] == 5]` von der Kurswebseite anpassen.\n",
    "\n",
    "5.) Lasst euch nur die Zeilen ausgeben, in denen irgendwo im Kommentar in der Spalte `comment` der String \"cute\" vorkommt.\n",
    "\n",
    ">Hinweis: Dazu könnt ihr zum Beispiel die Methode str.contains() verwenden, welche für Pandas Series-Objekte definiert ist, verwenden: https://pandas.pydata.org/docs/reference/api/pandas.Series.str.contains.html. Den Methodenaufruf könnt ihr mit einer bedingten Zugriffsoperation wie in Teilaufgabe 4.) kombinieren, um die entsprechenden Zeilen zuzugreifen. \n",
    "\n",
    "6.) Entfernt die Leerzeichen um die Kommentare in der Spalte `comments`. \n",
    "\n",
    "7.) (fakultativ) Fügt dem Dataframe eine neue Spalte `contains_cute` hinzu, in der True steht, wenn in der Spalte `comments` \"cute\" vorkommt und sonst False. \n",
    "\n",
    ">Hinweis: Dazu könnt ihr wieder die Methode str.contains() aus Teilaufgabe 5.) nutzen. "
   ]
  }
 ],
 "metadata": {
  "authors": [
   {
    "name": "Lisa Poggel"
   }
  ],
  "kernelspec": {
   "display_name": "Python 3",
   "language": "python",
   "name": "python3"
  },
  "language_info": {
   "codemirror_mode": {
    "name": "ipython",
    "version": 2
   },
   "file_extension": ".py",
   "mimetype": "text/x-python",
   "name": "python",
   "nbconvert_exporter": "python",
   "pygments_lexer": "ipython2",
   "version": "2.7.6"
  },
  "subtitle": "WiSe 2024/25 - 'Webscraping mit Python'",
  "title": "Übungsblatt 12"
 },
 "nbformat": 4,
 "nbformat_minor": 0
}
