{
 "cells": [
  {
   "attachments": {},
   "cell_type": "markdown",
   "metadata": {},
   "source": [
    "**Abgabe bis 02.11.2024, 23:59 Uhr per Mail: l.poggel@fu-berlin.de**"
   ]
  },
  {
   "cell_type": "markdown",
   "metadata": {
    "collapsed": false
   },
   "source": [
    "#### Aufgabe 1: Wiederholung\n",
    "&nbsp;"
   ]
  },
  {
   "cell_type": "markdown",
   "metadata": {
    "collapsed": false
   },
   "source": [
    "Lest euch nochmal die Inhalte zur Sitzung am Donnerstag unter dem neuen Kapitel \"Python II\" auf unserer [Kurs-Website](https://lipogg.github.io/webscraping-mit-python/) durch. Formuliert eine Frage zu einem Inhalt, der euch noch nicht ganz klar ist und bringt eure Frage(n) nächste Woche mit."
   ]
  },
  {
   "cell_type": "markdown",
   "metadata": {
    "collapsed": false
   },
   "source": [
    "#### Aufgabe 2: Begriffsklärung\n",
    "&nbsp;"
   ]
  },
  {
   "cell_type": "markdown",
   "metadata": {
    "collapsed": false
   },
   "source": [
    "1.) Was bedeutet es, wenn ein Objekt **unveränderbar** ist? Erläutert kurz in euren eigenen Worten.\n",
    "\n",
    "2.) Sind die folgenden Datentypen **veränderbar**?\n",
    "a) Strings, b) Tupel, c) Sets, d) Dictionaries, e) Listen\n",
    "\n",
    "3.) Beschreibt in euren eigenen Worten, was in jeder Zeile passiert:"
   ]
  },
  {
   "cell_type": "code",
   "execution_count": null,
   "metadata": {
    "collapsed": true,
    "tags": [
     "remove-output"
    ]
   },
   "outputs": [],
   "source": [
    "genres = [\"Jazz\", \"Klassik\", \"Rap\", \"Punk\", \"Techno\"]\n",
    "genres[4] = \"House\"\n",
    "genres.append(\"Rock\")\n",
    "(genres[0], genres[1]) = (genres[1], genres[0])\n",
    "print(genres)"
   ]
  },
  {
   "cell_type": "markdown",
   "metadata": {
    "collapsed": false
   },
   "source": [
    "4.) Was wird auf dem Bildschirm ausgegeben und warum? Beantwortet die Frage ohne die Hilfe von Python und JupyterLite!"
   ]
  },
  {
   "cell_type": "code",
   "execution_count": null,
   "metadata": {
    "collapsed": false,
    "tags": [
     "remove-output"
    ]
   },
   "outputs": [],
   "source": [
    "fruechte = [\"Apfel\", \"Orange\", \"Apfel\", \"Birne\", \"Birne\", \"Banane\"]\n",
    "fruechte_set = set(fruechte)\n",
    "fruechte_neu = list(fruechte_set)\n",
    "print(fruechte_neu)"
   ]
  },
  {
   "cell_type": "markdown",
   "metadata": {
    "collapsed": false
   },
   "source": [
    "#### Aufgabe 3: Praxis\n",
    "&nbsp;"
   ]
  },
  {
   "attachments": {},
   "cell_type": "markdown",
   "metadata": {
    "collapsed": false
   },
   "source": [
    "1.) Öffnet JupyterLite. Erstellt ein neues Jupyter Notebook und verfasst einen Kommentar mit dem Namen der Lehrveranstaltung, der Nummer des Übungsblatts und eurem Namen. Speichert das Notebook mit einem geeigneten Dateinamen ab.\n",
    "\n",
    "2.) Stellt euch folgende Situation vor: In diesem Jahr seid ihr bisher oft ins Kino gegangen. Ihr habt euch fünf Mal einen Film im Kino \"International\" angesehen, drei Mal im \"Cinemaxx\" und sieben Mal im \"Babylon\". Ihr wollt am Ende des Jahres eine Visualisierung eurer Kinobesuche im Jahr 2024 in Python erstellen, um eure Freund:innen zu beeindrucken. Dazu wollt ihr die Kinobesuche nachverfolgen. Erstellt zunächst ein neues Dictionary, das eure bisherigen Kinobesuche enthält, und nennt es `kinobesuche`.\n",
    "\n",
    "3.) Zwei Wochen später geht ihr wieder ins Kino, diesmal ins Kino \"delphi LUX\". Fügt eurem Dictionary einen neuen Eintrag mit dem String \"delphi\" als Schlüssel hinzu.\n",
    "\n",
    "4.) Weitere zwei Wochen später geht ihr wieder ins Kino, und zwar in den \"Delphi Filmpalast\". Ihr wollt auch diesen Kinobesuch in eurem Dictionary festhalten, allerdings erinnert ihr euch nicht mehr daran, welchen Schlüssel ihr für das \"delphi LUX\" gewählt habt. Da ihr euch daran erinnert, dass jeder Schlüssel in einem Dictionary nur einmal vorkommen darf, wollt ihr einen anderen Schlüssel für euren Besuch im \"Delphi Filmpalast\" verwenden. Lasst euch alle Schlüssel eures Dictionaries ausgeben.\n",
    "\n",
    "5.) Der Schlüssel \"delphi\" ist also schon vergeben. Fügt eurem Dictionary einen neuen Eintrag für euren Besuch im \"Delphi Filmpalast\" hinzu und wählt dabei einen geeigneten Schlüssel.\n",
    "\n",
    "6.) Ihr bemerkt plötzlich, dass ihr euch beim Erstellen des Dictionaries vertan habt: Ihr ward gar nicht fünf mal im \"International\" und drei Mal im \"Cinemaxx\", sondern drei Mal im \"International\" und fünf Mal im \"Cinemaxx\". Korrigiert euren Fehler.\n",
    "\n",
    "7.) Lasst euch das korrigierte Dictionary auf dem Bildschirm ausgeben. In welchem Kino ward ihr am häufigsten?\n",
    "\n"
   ]
  },
  {
   "cell_type": "markdown",
   "metadata": {
    "collapsed": false
   },
   "source": []
  }
 ],
 "metadata": {
  "authors": [
   {
    "name": "Lisa Poggel"
   }
  ],
  "kernelspec": {
   "display_name": "Python 3",
   "language": "python",
   "name": "python3"
  },
  "language_info": {
   "codemirror_mode": {
    "name": "ipython",
    "version": 2
   },
   "file_extension": ".py",
   "mimetype": "text/x-python",
   "name": "python",
   "nbconvert_exporter": "python",
   "pygments_lexer": "ipython2",
   "version": "2.7.6"
  },
  "subtitle": "WiSe 2024/25 - 'Webscraping mit Python'",
  "title": "Übungsblatt 2"
 },
 "nbformat": 4,
 "nbformat_minor": 0
}
