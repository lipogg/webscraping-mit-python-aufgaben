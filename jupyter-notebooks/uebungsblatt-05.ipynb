{
 "cells": [
  {
   "attachments": {},
   "cell_type": "markdown",
   "metadata": {},
   "source": [
    "**Abgabe bis 23.11.2024, 23:59 Uhr per Mail: l.poggel@fu-berlin.de**"
   ]
  },
  {
   "attachments": {},
   "cell_type": "markdown",
   "metadata": {
    "collapsed": false
   },
   "source": [
    "#### Aufgabe 1: HTML und CSS\n",
    "&nbsp;"
   ]
  },
  {
   "attachments": {},
   "cell_type": "markdown",
   "metadata": {
    "collapsed": false
   },
   "source": [
    "1.) Lest euch nochmal die Abschnitte zu HTML und CSS im Kapitel \"Einstieg Webscraping\" auf unserer [Kurs-Website](https://lipogg.github.io/webscraping-mit-python) durch. Formuliert eine Frage zu einem Inhalt, der euch noch nicht ganz klar ist und beantwortet anschließend die folgenden Fragen.\n",
    "\n",
    "2.) Welchen Anwendungsbereich haben die Sprachen HTML, CSS und JavaScript in Webseiten?\n",
    "\n",
    "3.) Benennt alle Bestandteile des folgenden HTML Codes. Wie viele HTML-Elemente gibt es? Was ist die Bedeutung der Elemente? Sind sie auf der \"gerenderten\" Seite sichtbar oder unsichtbar? Was sind die Öffnungs- und Schließtags der Elemente? Welchen Inhalt haben die Elemente? Wie viele Kindelemente hat jedes Element? Welche Attribute gibt es und wozu werden sie verwendet? Hinweis: Gebt als Kindelemente nur die Elemente an, die sich direkt eine Ebene unterhalb des Elternelements befinden. Elemente, die auf tieferen Ebenen liegen (also Kindelemente von Kindelementen), sollten nicht berücksichtigt werden."
   ]
  },
  {
   "cell_type": "code",
   "execution_count": null,
   "metadata": {},
   "outputs": [],
   "source": [
    "<html>\n",
    "    <head>\n",
    "        <title>Meine Webseite</title>\n",
    "    </head>\n",
    "    <body>\n",
    "        <h1>Meine Webseite</h1>\n",
    "        <div id=\"welcome\">\n",
    "            <p>Willkommen auf meiner Webseite. Schaut euch auch mein\n",
    "            Portfolio auf <a href=\"https://github.com/\">Github</a> an.</p>\n",
    "        </div>\n",
    "        <div>\n",
    "            <p>Für Anfragen nutzt bitte das <a href=\"/contact.html\">\n",
    "            Kontaktformular</a>.</p>\n",
    "        </div>\n",
    "    </body>\n",
    "</html>\n"
   ]
  },
  {
   "cell_type": "markdown",
   "metadata": {},
   "source": [
    "#### Aufgabe 2: HTTP\n",
    "&nbsp;"
   ]
  },
  {
   "cell_type": "markdown",
   "metadata": {},
   "source": [
    "1.) Zur Vorbereitung auf die nächste Sitzung schaut bitte diese beiden Videos (je etwa 10 Minuten):\n",
    "\n",
    "- Network Fundamentals - Network Devices: https://www.youtube.com/watch?v=bj-Yfakjllc\n",
    "- Network Fundamentals - Network Protocols: https://www.youtube.com/watch?v=E5bSumTAHZE\n",
    "\n",
    "2.) Beschreibt kurz die folgenden Begriffe. Ihr könnt dazu einfach die Definitionen aus dem Video auf Deutsch übersetzen:\n",
    "\n",
    "Host, Client, Server, Webserver, IP-Adresse, Netzwerk, Internet, Protokoll, HTTP\n",
    "\n",
    "3.) Lest anschließend den Abschnitt zu HTTP im Kapitel \"Einstieg Webscraping\" auf unserer [Kurs-Website](https://lipogg.github.io/webscraping-mit-python). Formuliert eine Frage zu einem Inhalt, der euch noch nicht ganz klar ist und beantwortet anschließend die folgenden Fragen.\n",
    "\n",
    "4.) Was bedeutet der Statuscode im Header einer HTTP-Response?\n",
    "\n",
    "5.) Wozu wird die HTTP GET-Methode verwendet?"
   ]
  },
  {
   "cell_type": "markdown",
   "metadata": {
    "collapsed": false
   },
   "source": [
    "#### Aufgabe 3: Rechtlicher Rahmen und Projektidee\n",
    "&nbsp;"
   ]
  },
  {
   "cell_type": "markdown",
   "metadata": {},
   "source": [
    "1.) Lest euch nochmal das Kapitel zum rechtlichen Rahmen des Webscraping auf unserer [Kurs-Website](https://lipogg.github.io/webscraping-mit-python) durch. Formuliert eine Frage zu einem Inhalt, der euch noch nicht ganz klar ist.\n",
    "\n",
    "2.) Überlegt euch eine Projektidee für ein Webscraping-Projekt. Wenn ihr einen Leistungsschein für dieses Seminar machen wollt, kann das direkt das Projekt sein, das ihr am Ende des Seminars bearbeiten wollt. Wenn ihr keinen Leistungsschein machen wollt, beschreibt das Forschungsprojekt, an dem ihr arbeitet. Erläutert in drei Sätzen, welche Daten ihr von welcher Website (oder Websites) scrapen wollt, und welche Fragestellung ihr damit bearbeiten wollt. \n",
    "\n",
    "3.) Schaut euch die robots.txt-Datei eurer Website an, indem ihr die Website-URL eingebt gefolgt von `/robots.txt`. Darf euer Web Scraper alle Seiten aufrufen? Oder gibt es Unterseiten, die ihr nicht scrapen dürft? Müsst ihr beim Web Scrapen laut robots.txt sonst irgendetwas beachten? Zur Interpretation der robots.txt-Datei könnt ihr diese Seite zu Rate ziehen: [https://www.seerinteractive.com/insights/how-to-read-robots-txt](https://www.seerinteractive.com/insights/how-to-read-robots-txt).\n",
    "\n",
    "4.) Sind die Daten, die ihr sammeln wollt, urheberrechtlich geschützt? Handelt es sich dabei um personenbezogene Daten laut DSGVO?\n"
   ]
  }
 ],
 "metadata": {
  "authors": [
   {
    "name": "Lisa Poggel"
   }
  ],
  "kernelspec": {
   "display_name": "Python 3",
   "language": "python",
   "name": "python3"
  },
  "language_info": {
   "codemirror_mode": {
    "name": "ipython",
    "version": 2
   },
   "file_extension": ".py",
   "mimetype": "text/x-python",
   "name": "python",
   "nbconvert_exporter": "python",
   "pygments_lexer": "ipython2",
   "version": "2.7.6"
  },
  "subtitle": "WiSe2425 - 'Webscraping mit Python'",
  "title": "Übungsblatt 5"
 },
 "nbformat": 4,
 "nbformat_minor": 0
}
