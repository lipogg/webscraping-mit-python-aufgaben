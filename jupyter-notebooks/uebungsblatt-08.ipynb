{
 "cells": [
  {
   "attachments": {},
   "cell_type": "markdown",
   "metadata": {},
   "source": [
    "**Abgabe bis 15.12.2024, 23:59 Uhr per Mail: l.poggel@fu-berlin.de**"
   ]
  },
  {
   "attachments": {},
   "cell_type": "markdown",
   "metadata": {},
   "source": [
    "#### Aufgabe 1: Wiederholung\n",
    "&nbsp;"
   ]
  },
  {
   "attachments": {},
   "cell_type": "markdown",
   "metadata": {},
   "source": [
    "Lest euch nochmal das Kapitel \"APIs\" auf unserer [Kurs-Website](https://lipogg.github.io/webscraping-mit-python/) sowie das Beispiel zur DraCor-API durch. Zum Verständnis der Codebeispiele ist der Unterabschnitt 8.2.3 \"List Comprehension, F-Strings und Daten schreiben\" wichtig. Formuliert eine Frage zu einem Inhalt, der euch noch nicht ganz klar ist."
   ]
  },
  {
   "cell_type": "markdown",
   "metadata": {},
   "source": [
    "#### Aufgabe 2: Verständnis\n",
    "&nbsp;"
   ]
  },
  {
   "cell_type": "markdown",
   "metadata": {},
   "source": [
    "1.) Schreibt die folgende Codezeile unter Verwendung von F-Strings um:"
   ]
  },
  {
   "cell_type": "code",
   "execution_count": null,
   "metadata": {},
   "outputs": [],
   "source": [
    "name = \"Goethe\"\n",
    "jahr = 1787\n",
    "drama = \"Iphigenie auf Tauris\"\n",
    "print(\"Im Jahr \" + str(jahr) + \" hat \" + name + \" das Drama \" + drama + \" veröffentlicht.\")"
   ]
  },
  {
   "cell_type": "markdown",
   "metadata": {},
   "source": [
    "2.) Schreibt die folgende for-Schleife unter Verwendung von List Comprehension um:"
   ]
  },
  {
   "cell_type": "code",
   "execution_count": null,
   "metadata": {},
   "outputs": [],
   "source": [
    "marken_bestand = {\"filiale-1\": [\"Adidas\" ,\"Nike\", \"Puma\"], \"filiale-2\": [\"Adidas\", \"Reebok\"], \"filiale-3\": \"Nike\"}\n",
    "filialen = []\n",
    "for filiale in marken_bestand.keys():\n",
    "    if \"Adidas\" in marken_bestand[filiale]:\n",
    "        filialen.append(filiale)\n",
    "filialen"
   ]
  },
  {
   "attachments": {},
   "cell_type": "markdown",
   "metadata": {
    "collapsed": false
   },
   "source": [
    "#### Aufgabe 3: Praxis\n",
    "&nbsp;"
   ]
  },
  {
   "cell_type": "markdown",
   "metadata": {},
   "source": [
    "Hinweis: Bei der Bearbeitung dieser Aufgaben könnt ihr euch nach dem DraCor-Beispiel auf der Kurs-Website richten."
   ]
  },
  {
   "cell_type": "markdown",
   "metadata": {},
   "source": [
    "1.) Öffnet euer Terminal bzw. Anaconda Prompt. Navigiert mit dem Befehl `cd` in euren Projektordner. Aktiviert die virtuelle Umgebung, startet JupyterLab und wechselt in das Browserfenster, in dem JupyterLab geöffnet wurde. Erstellt ein neues Jupyter Notebook. Verfasst einen Kommentar mit dem Namen der Lehrveranstaltung, der Nummer des Übungsblatts und eurem Namen. Speichert das Notebook mit einem geeigneten Dateinamen ab."
   ]
  },
  {
   "cell_type": "markdown",
   "metadata": {},
   "source": [
    "2.) Seht euch die Dokumentation zur DraCor-API unter https://dracor.org/doc/api an. Über welche URL kann das Personenverzeichnis des Stücks \"Die Räuber\" als CSV-Tabelle abgefragt werden?"
   ]
  },
  {
   "cell_type": "markdown",
   "metadata": {},
   "source": [
    "3.) Stellt über die DraCor API eine HTTP-Anfrage, die als Antwort den Inhalt des deutschsprachigen DraCor-Korpus als JSON-String liefert."
   ]
  },
  {
   "cell_type": "markdown",
   "metadata": {},
   "source": [
    "4.) Wandelt den JSON-String in ein Python Dictionary um und weist das Dictionary einer Variable zu."
   ]
  },
  {
   "cell_type": "markdown",
   "metadata": {},
   "source": [
    "5.) Schreibt eine for-Schleife (entweder regulär oder unter Verwendung von List Comprehension), welche das Python Dictionary durchläuft und in jedem Schleifendurchlauf den Wert des Schlüssels \"name\" für jedes Stück von Friedrich Schiller im deutschsprachigen DraCor-Korpus in einer neuen Liste `schiller_dramen` speichert."
   ]
  },
  {
   "cell_type": "markdown",
   "metadata": {},
   "source": [
    "6.) Im Folgenden sollen die Personenverzeichnisse zu allen Stücken von Schiller über die API abgefragt werden. Schreibt zunächst eine weitere for-Schleife, welche die Elemente der Liste `schiller_dramen` in Abfrage-URLs einsetzt, über die die Personenverzeichnisse als CSV-Tabellen abgerufen werden können. Speichert die zusammengesetzten Abfrage-URLs in einer neuen Liste."
   ]
  },
  {
   "cell_type": "markdown",
   "metadata": {},
   "source": [
    "7.) Erstellt ein neues Verzeichnis (=Ordner) in dem Verzeichnis, in dem ihr die Jupyter Notebooks zum Seminar ablegt. Setzt euer Arbeitsverzeichnis auf das neue Verzeichnis. Hinweis: Auch hier könnt ihr euch nach dem Beispiel auf der Kurswebsite richten und das Verzeichnis aus eurem Notebook heraus anlegen."
   ]
  },
  {
   "cell_type": "markdown",
   "metadata": {},
   "source": [
    "8.) Schreibt eine for-Schleife, welche die Liste mit den Abfrage-URLs durchläuft. In jedem Schleifendurchlauf soll das Personenverzeichnis zum aktuellen Stück abgerufen und in einer CSV-Datei gespeichert werden."
   ]
  }
 ],
 "metadata": {
  "authors": [
   {
    "name": "Lisa Poggel"
   }
  ],
  "kernelspec": {
   "display_name": "Python 3",
   "language": "python",
   "name": "python3"
  },
  "language_info": {
   "codemirror_mode": {
    "name": "ipython",
    "version": 2
   },
   "file_extension": ".py",
   "mimetype": "text/x-python",
   "name": "python",
   "nbconvert_exporter": "python",
   "pygments_lexer": "ipython2",
   "version": "2.7.6"
  },
  "subtitle": "WiSe 2024/25 - 'Webscraping mit Python'",
  "title": "Übungsblatt 8"
 },
 "nbformat": 4,
 "nbformat_minor": 0
}
