{
 "cells": [
  {
   "attachments": {},
   "cell_type": "markdown",
   "metadata": {},
   "source": [
    "**Abgabe bis 18.11.2024, 14:00 Uhr per Mail: l.poggel@fu-berlin.de**"
   ]
  },
  {
   "cell_type": "markdown",
   "metadata": {},
   "source": [
    "#### Aufgabe 1: Wiederholung\n",
    "&nbsp;"
   ]
  },
  {
   "cell_type": "markdown",
   "metadata": {},
   "source": [
    "1.) Lest euch nochmal das Kapitel \"Python III\" auf unserer [Kurs-Website](https://lipogg.github.io/webscraping-mit-python) durch. Formuliert eine Frage zu einem Inhalt, der euch noch nicht ganz klar ist."
   ]
  },
  {
   "cell_type": "markdown",
   "metadata": {
    "vscode": {
     "languageId": "plaintext"
    }
   },
   "source": [
    "#### Aufgabe 2: Verständnis\n",
    "&nbsp;"
   ]
  },
  {
   "cell_type": "markdown",
   "metadata": {
    "vscode": {
     "languageId": "plaintext"
    }
   },
   "source": [
    "\n",
    "1.) Schaut euch die folgenden drei Funktionsdefinitionen an. Was sind Funktionsname, Parameter, Funktionskörper und Rückgabewert der Funktionen?"
   ]
  },
  {
   "cell_type": "code",
   "execution_count": null,
   "metadata": {},
   "outputs": [],
   "source": [
    "# Funktion 1\n",
    "def ist_gerade(zahl):\n",
    "    if zahl % 2 == 0:\n",
    "        print(\"Zahl ist durch 2 teilbar\")\n",
    "    else:\n",
    "        print(\"Zahl ist nicht durch 2 teilbar\")\n",
    "    return None"
   ]
  },
  {
   "cell_type": "code",
   "execution_count": null,
   "metadata": {},
   "outputs": [],
   "source": [
    "# Funktion 2\n",
    "def ist_gerade(zahl):\n",
    "    if zahl % 2 == 0:\n",
    "        return True\n",
    "    else:\n",
    "        return False"
   ]
  },
  {
   "cell_type": "code",
   "execution_count": null,
   "metadata": {},
   "outputs": [],
   "source": [
    "# Funktion 3\n",
    "def ist_gerade(zahl):\n",
    "    gerade = zahl % 2 == 0\n",
    "    return gerade"
   ]
  },
  {
   "cell_type": "markdown",
   "metadata": {
    "vscode": {
     "languageId": "plaintext"
    }
   },
   "source": [
    "2.) Was passiert in den folgenden Zeilen? Schaut in die pandas-Dokumentationsseiten, um die Frage zu beantworten: [https://pandas.pydata.org/docs/reference/api/pandas.Series.html](https://pandas.pydata.org/docs/reference/api/pandas.Series.html)."
   ]
  },
  {
   "cell_type": "code",
   "execution_count": null,
   "metadata": {},
   "outputs": [],
   "source": [
    "ist_gerade(4)"
   ]
  },
  {
   "cell_type": "code",
   "execution_count": null,
   "metadata": {},
   "outputs": [],
   "source": [
    "import pandas as pd"
   ]
  },
  {
   "cell_type": "code",
   "execution_count": null,
   "metadata": {},
   "outputs": [],
   "source": [
    "tiere = [\"Hund\", \"Katze\", \"Schwein\", \"Kuh\", \"Hund\"]\n",
    "tiere_ser = pd.Series(tiere)"
   ]
  },
  {
   "cell_type": "code",
   "execution_count": null,
   "metadata": {},
   "outputs": [],
   "source": [
    "tiere_ser.size"
   ]
  },
  {
   "cell_type": "code",
   "execution_count": null,
   "metadata": {},
   "outputs": [],
   "source": [
    "tiere_ser.isin([\"Hund\", \"Katze\"])"
   ]
  },
  {
   "cell_type": "markdown",
   "metadata": {},
   "source": [
    "#### Aufgabe 3: Praxis\n",
    "&nbsp;"
   ]
  },
  {
   "cell_type": "markdown",
   "metadata": {},
   "source": [
    "1.) Öffnet JupyterLite. Erstellt ein neues Jupyter Notebook und verfasst einen Kommentar mit dem Namen der Lehrveranstaltung, der Nummer des Übungsblatts und eurem Namen. Speichert das Notebook mit einem geeigneten Dateinamen ab."
   ]
  },
  {
   "cell_type": "markdown",
   "metadata": {},
   "source": [
    "2.) Erstellt ein neues Python-Dictionary, in dem ihr Metadaten zu drei Büchern sammelt, die ihr gerne noch lesen wollt. Das Dictionary soll drei Schlüssel enthalten: \"titel\", \"autor_in\" und \"jahr\" (= Publikationsjahr). Jeder Schlüssel hat als Wert eine Liste mit drei Elementen für die drei Bücher. Der Wert des Schlüssels \"jahr\" wäre also z.B. [1953, 2022, 1987] für drei Bücher mit den Publikationsjahren 1953, 2022 und 1987. Nennt das Dictionary `buecher`."
   ]
  },
  {
   "cell_type": "markdown",
   "metadata": {},
   "source": [
    "3.) Importiert die Bibliothek Pandas. Ertellt anschließend mithilfe des Dictionaries einen pandas-DataFrame. Richtet euch dabei nach dem Beispiel auf der Kurs-Website. Nennt den Dataframe `buecher_df`."
   ]
  },
  {
   "cell_type": "markdown",
   "metadata": {},
   "source": [
    "4.) Fragt eine Eigenschaft des DataFrames ab, indem ihr auf ein Attribut zugreift. Eine Liste aller Attribute, die für pandas DataFrames definiert sind, findet ihr auf den pandas-Dokumentationssseiten: [https://pandas.pydata.org/docs/reference/api/pandas.DataFrame.html](https://pandas.pydata.org/docs/reference/api/pandas.DataFrame.html)."
   ]
  },
  {
   "cell_type": "markdown",
   "metadata": {},
   "source": [
    "5.) Ihr könnt euch nicht entscheiden, welches der drei Bücher ihr als erstes lesen sollt. Durchsucht die Dokumentationsseite zum pandas-DataFrame nach einer Methode, die nach dem Zufallsprinzip irgendeine Zeile aus einem DataFrame auswählt und zurückgibt. Hinweis: eine Zufallsauswahl nennt man auf Englisch auch sample. Ruft die Methode auf. Welches Buch sollt ihr zuerst lesen?"
   ]
  },
  {
   "cell_type": "markdown",
   "metadata": {},
   "source": [
    "6.) Ihr seid neugierig, wie oft die erste Zeile aus eurem Dataframe ausgewählt wird, wenn ihr die Methode mehrmals nacheinander aufruft. Um das herauszufinden, definiert ihr eine Funktion. Wenn ihr etwas herausgefordert werden wollt, versucht, die Funktion ohne Anleitung zu definieren. Ansonsten lest jetzt weiter und befolgt die folgenden Schritte:\n",
    "\n",
    "Die Funktion soll `buch_auswaehlen` heißen und zwei Parameter haben: `df`, einen beliebigen Dataframe, und `n`, eine Integerzahl, die angibt, wie oft die Methode aus Teilaufgabe 6) aufgerufen werden soll. Im Schleifenkörper erstellt ihr zuerst eine neue Variable `anzahl` mit dem Wert 0. Erstellt danach eine while-Schleife. Die Schleife soll so lange laufen, wie `n` größer als 0 ist. Im Schleifenkörper erstellt ihr eine Variable `auswahl`und weist ihr den Aufruf der Methode aus Teilaufgabe 6) als Wert zu, also `auswahl = df.methodenname()`. Danach soll eine if-Anweisung ausgeführt werden: Wenn der Ausdruck `auswahl.index == 1` zu True evaluiert wird, dann soll der Wert der Variable `anzahl` um 1 erhöht werden. Nach der if-Anweisung soll der Wert der Laufvariable `n` um eins verringert werden. Wenn die Schleife terminiert ist, soll die Variable `anzahl` zurückgegeben werden."
   ]
  },
  {
   "cell_type": "markdown",
   "metadata": {},
   "source": [
    "7.) Ruft die Funktion mit eurem DataFrame `buecher_df` und n=10 als Argumente auf. Wie oft wurde das Buch aus der ersten Zeile ausgewählt?"
   ]
  },
  {
   "cell_type": "markdown",
   "metadata": {},
   "source": [
    "#### Aufgabe 4: Installation und Setup \n",
    "&nbsp;\n",
    "\n",
    "Befolgt die Anleitung im Kapitel \"Installation und Setup\" auf unserer [Kurs-Website](https://lipogg.github.io/webscraping-mit-python). Falls im Laufe der Installation ein Problem auftritt, das ihr selbst nicht lösen könnt, kommt in meine **Installationssprechstunde**. Diese wird stattfinden am **15.11. um 16:00 Uhr** (Punkt, nicht c.t.) via Webex: https://fu-berlin.webex.com/meet/l.poggel."
   ]
  }
 ],
 "metadata": {
  "authors": [
   {
    "name": "Lisa Poggel"
   }
  ],
  "kernelspec": {
   "display_name": "Python 3",
   "language": "python",
   "name": "python3"
  },
  "language_info": {
   "codemirror_mode": {
    "name": "ipython",
    "version": 2
   },
   "file_extension": ".py",
   "mimetype": "text/x-python",
   "name": "python",
   "nbconvert_exporter": "python",
   "pygments_lexer": "ipython2",
   "version": "2.7.6"
  },
  "subtitle": "WiSe 2024/25 - 'Webscraping mit Python'",
  "title": "Übungsblatt 4"
 },
 "nbformat": 4,
 "nbformat_minor": 0
}
