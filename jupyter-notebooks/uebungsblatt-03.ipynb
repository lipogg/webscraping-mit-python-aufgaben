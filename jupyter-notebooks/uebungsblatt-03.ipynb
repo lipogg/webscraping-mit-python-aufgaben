{
 "cells": [
  {
   "attachments": {},
   "cell_type": "markdown",
   "metadata": {},
   "source": [
    "**Abgabe bis 09.11.2024, 23:59 Uhr per Mail: l.poggel@fu-berlin.de**"
   ]
  },
  {
   "attachments": {},
   "cell_type": "markdown",
   "metadata": {
    "collapsed": false
   },
   "source": [
    "#### Aufgabe 1: Wiederholung\n",
    "&nbsp;"
   ]
  },
  {
   "attachments": {},
   "cell_type": "markdown",
   "metadata": {
    "collapsed": false
   },
   "source": [
    "1.) Lest euch nochmal den Abschnitt zu Kontrollstrukturen im Kapitel \"Python II\" auf unserer [Kurs-Website](https://lipogg.github.io/webscraping-mit-python) durch. Formuliert eine Frage zu einem Inhalt, der euch noch nicht ganz klar ist."
   ]
  },
  {
   "attachments": {},
   "cell_type": "markdown",
   "metadata": {
    "collapsed": false
   },
   "source": [
    "#### Aufgabe 2: Verständnis\n",
    "&nbsp;"
   ]
  },
  {
   "attachments": {},
   "cell_type": "markdown",
   "metadata": {
    "collapsed": false
   },
   "source": [
    "1.) Welche ist die korrekte Syntax für den Schleifenkopf einer for-Schleife?\n",
    "\n",
    "a) for (variable in objekt) {}  b) for (variable in objekt) :\n",
    "\n",
    "c) for variable in objekt: d) for bedingung:\n",
    "\n",
    "2.) Welche Syntax ist korrekt für den Schleifenkopf einer while-Schleife?\n",
    "\n",
    "a) while variable in objekt: b) while bedingung:\n",
    "\n",
    "c) while (bedingung) {} d) while (bedingung) :\n",
    "\n",
    "3.) Was ist der Unterschied zwischen der for-Schleife und der while-Schleife? Überlegt euch je ein Beispiel für eine Situation, in der eine for-Schleife bzw. eine while-Schleife geeigneter ist.\n",
    "\n",
    "4.) Was wird im fünften Schleifendurchlauf (genre = None) ausgegeben? Was ist der Grund dafür? Beantwortet die Frage ohne die Hilfe von Python und JupyterLite!"
   ]
  },
  {
   "cell_type": "code",
   "execution_count": null,
   "metadata": {
    "collapsed": true,
    "tags": [
     "remove-output"
    ]
   },
   "outputs": [],
   "source": [
    "genres = [\"Jazz\", \"Klassik\", \"Rap\", \"Punk\", None, \"Techno\"]\n",
    "for genre in genres: \n",
    "    print(genre.lower())"
   ]
  },
  {
   "attachments": {},
   "cell_type": "markdown",
   "metadata": {},
   "source": [
    "5.) Wann terminiert die Schleife? Beantwortet die Frage ohne die Hilfe von Python und JupyterLite!"
   ]
  },
  {
   "cell_type": "code",
   "execution_count": null,
   "metadata": {},
   "outputs": [],
   "source": [
    "genres = [\"Jazz\", \"Klassik\", \"Rap\", \"Punk\", None, \"Techno\"]\n",
    "for i, genre in enumerate(genres): \n",
    "    if genre is None: \n",
    "        continue\n",
    "    else: \n",
    "        genres[i] = genre.lower()\n",
    "print(genres)"
   ]
  },
  {
   "attachments": {},
   "cell_type": "markdown",
   "metadata": {},
   "source": [
    "&nbsp;\n",
    "6.) Stellt euch folgende Situation vor: In eurer Freizeit geht ihr gerne zu Starbucks und trinkt einen Frappuchino, der aktuell 8€ kostet. Ihr habt ein Nettoeinkommen von 900€. Diesen Monat habt ihr schon 650€ für Miete, Essen, Internet und Sonstiges ausgegegeben. Da sowohl der Frappuchinopreis als auch eure monatlichen Ausgaben und natürlich das aktuelle Datum variieren, habt ihr ein kleines Skript geschrieben, das euch die Planung eures Frappuchinokonsums erleichtern soll. Was macht der folgende Code? Beschreibt in euren eigenen Worten, was in jeder Zeile passiert. Ihr könnt den Code auch in JupyterLite ausführen und  einzelne Werte ändern oder euch den Code auf [https://pythontutor.com/visualize.html#mode=edit](https://pythontutor.com/visualize.html#mode=edit) visualisieren lassen."
   ]
  },
  {
   "cell_type": "code",
   "execution_count": null,
   "metadata": {},
   "outputs": [],
   "source": [
    "einkommen = 900\n",
    "ausgaben = 650\n",
    "kaffeepreis = 8\n",
    "frappuchinos = 0\n",
    "datum = (12, \"Mai\")\n",
    "lange_monate = [\"Januar\", \"März\", \"Mai\", \"Juli\", \"August\", \"Oktober\", \"Dezember\"]\n",
    "kurze_monate = [\"April\", \"Juni\", \"September\", \"November\"]\n",
    "\n",
    "if datum[1] in lange_monate:\n",
    "    tage = 31 - datum[0]\n",
    "elif datum[1] in kurze_monate:\n",
    "    tage = 30 - datum[0]\n",
    "else:\n",
    "    tage = 28 - datum[0]\n",
    "\n",
    "while einkommen - kaffeepreis > ausgaben:\n",
    "    ausgaben += kaffeepreis\n",
    "    frappuchinos += 1\n",
    "\n",
    "print(\"Du kannst diesen Monat noch \" + str(frappuchinos) + \" Frappuchinos trinken. Das sind \" + str(frappuchinos / tage) + \" Frappuchinos am Tag.\")\n"
   ]
  },
  {
   "attachments": {},
   "cell_type": "markdown",
   "metadata": {
    "collapsed": false
   },
   "source": [
    "#### Aufgabe 3: Praxis\n",
    "&nbsp;"
   ]
  },
  {
   "attachments": {},
   "cell_type": "markdown",
   "metadata": {
    "collapsed": false
   },
   "source": [
    "1.) Öffnet JupyterLite. Erstellt ein neues Jupyter Notebook und verfasst einen Kommentar mit dem Namen der Lehrveranstaltung, der Nummer des Übungsblatts und eurem Namen. Speichert das Notebook mit einem geeigneten Dateinamen ab.\n",
    "\n",
    "2.) Erstellt eine Liste eurer Lieblingsmusiker:innen. Überprüft mithilfe einer if-Anweisung, ob die Zeichenkette \"Rihanna\" in der Liste enthalten ist. Falls die Zeichenkette enthalten ist, soll die Nachricht \"Rihanna ist eine meiner Lieblingskünstlerinnen\" auf dem Bildschirm ausgegeben werden.\n",
    "\n",
    "3.) Überprüft jetzt mithilfe einer weiteren if-Anweisung, ob der Wert des zweiten Elements in der Liste eurer Lieblingsmusiker:innen der Zeichenkette \"Mozart\" entspricht. Falls diese Bedingung erfüllt ist, soll die Zeichenkette \"Mozart\" durch die Zeichenkette \"Chopin\" ersetzt werden. Falls die Bedingung nicht erfüllt ist, soll der Liste ein neues Element mit dem Wert \"Chopin\" hinzugefügt werden.\n",
    "\n",
    "4.) Erstellt eine leere Liste und weist sie der Variable `laenge` zu.\n",
    "\n",
    "5.) Erstellt jetzt eine Schleife, die in jedem Schleifendurchgang die Länge der Namen eurer Lieblingsmusiker:innen aus der Liste mit euren Lieblingsmusiker:innen bestimmt und die Wortlänge als Element der Liste `laenge` hinzufügt. Hinweis: Zur Bestimmung der Anzahl von Zeichen in Zeichenketten könnt ihr die Funktion `len()` verwenden.\n",
    "\n",
    "6.) Ihr wollt die beiden Listen jetzt in ein einziges Objekt, und zwar in ein Dictionary kombinieren. Hinweis: Richtet euch dabei nach der Vorlage `dictionary_aus_listen = dict(zip(erste_liste, zweite_liste))`. Lasst euch das Dictionary auf dem Bildschirm ausgeben. Hat alles geklappt?\n",
    "\n",
    "7.) (Fakultativ) Wenn die Teilaufgaben 1-6 für euch leicht zu lösen waren und ihr gerne weiter üben möchtet, könnt ihr eine zweite Schleife erstellen, die das Dictionary durchläuft. In jedem Schleifendurchlauf soll überprüft werden, ob der Wert des aktuellen Eintrags kleiner als 7 ist. Wenn diese Bedingung erfüllt ist, soll der entsprechende Eintrag aus dem Dictionary entfernt werden. Hinweis: Durch das Entfernen eines Eintrags wird das Dictionary während des Schleifendurchlauf verkleinert. Das Objekt, das mithilfe der Schleife durchlaufen wird, muss allerdings bis zum Terminieren der Schleife dieselbe Größe behalten, sonst wird eine Fehlermeldung ausgegeben. Wie könnte man das Problem lösen? Wenn ihr euch nicht sicher seid, wie ihr ein Element aus einem Dictionary entfernen könnt, schaut in der Python-Dokumentation nach: [https://docs.python.org/3/library/stdtypes.html#mapping-types-dict](https://docs.python.org/3/library/stdtypes.html#mapping-types-dict)\n",
    "\n"
   ]
  }
 ],
 "metadata": {
  "authors": [
   {
    "name": "Lisa Poggel"
   }
  ],
  "kernelspec": {
   "display_name": "Python 3",
   "language": "python",
   "name": "python3"
  },
  "language_info": {
   "codemirror_mode": {
    "name": "ipython",
    "version": 2
   },
   "file_extension": ".py",
   "mimetype": "text/x-python",
   "name": "python",
   "nbconvert_exporter": "python",
   "pygments_lexer": "ipython2",
   "version": "2.7.6"
  },
  "subtitle": "WiSe 2024/25 - 'Webscraping mit Python'",
  "title": "Übungsblatt 3"
 },
 "nbformat": 4,
 "nbformat_minor": 0
}
