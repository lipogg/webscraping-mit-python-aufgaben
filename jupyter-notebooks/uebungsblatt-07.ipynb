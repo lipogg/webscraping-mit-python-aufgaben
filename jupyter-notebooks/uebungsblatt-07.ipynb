{
 "cells": [
  {
   "attachments": {},
   "cell_type": "markdown",
   "metadata": {},
   "source": [
    "**Abgabe bis 7.12.2024, 23:59 Uhr per Mail: l.poggel@fu-berlin.de**"
   ]
  },
  {
   "attachments": {},
   "cell_type": "markdown",
   "metadata": {
    "collapsed": false
   },
   "source": [
    "#### Aufgabe 1: Wiederholung\n",
    "&nbsp;"
   ]
  },
  {
   "attachments": {},
   "cell_type": "markdown",
   "metadata": {
    "collapsed": false
   },
   "source": [
    "Seht euch nochmal die Abschnitte 7.2.1 und 7.2.2 im Kapitel \"Einstieg Webscraping\" auf unserer [Kurs-Website](https://lipogg.github.io/webscraping-mit-python/) durch. Formuliert eine Frage zu einem Inhalt, der euch noch nicht ganz klar ist. "
   ]
  },
  {
   "attachments": {},
   "cell_type": "markdown",
   "metadata": {
    "collapsed": false
   },
   "source": [
    "#### Aufgabe 3: Praxis\n",
    "&nbsp;"
   ]
  },
  {
   "attachments": {},
   "cell_type": "markdown",
   "metadata": {
    "collapsed": false
   },
   "source": [
    "1.) Öffnet euer Terminal bzw. Anaconda Prompt. Navigiert mit dem Befehl `cd` in euren Projektordner. Aktiviert die virtuelle Umgebung, indem ihr eingebt `conda activate ws-env` und Enter drückt. Startet JupyterLab, indem ihr `jupyter lab` eingebt und auf Enter drückt."
   ]
  },
  {
   "attachments": {},
   "cell_type": "markdown",
   "metadata": {
    "collapsed": false
   },
   "source": [
    "2.) Wechselt jetzt in das Browserfenster, in dem JupyterLab geöffnet wurde. Erstellt ein neues Jupyter Notebook, indem ihr auf den Kernel \"Python 3.12 (Webscraping)” klickt. Verfasst einen Kommentar mit dem Namen der Lehrveranstaltung, der Nummer des Übungsblatts und eurem Namen. Speichert das Notebook mit einem geeigneten Dateinamen ab."
   ]
  },
  {
   "attachments": {},
   "cell_type": "markdown",
   "metadata": {
    "collapsed": false
   },
   "source": [
    "3.) Ruft die Website [https://www.projekt-gutenberg.org/](https://www.projekt-gutenberg.org/) auf. Hat die Seite eine robots.txt? Falls ja, welche Einschränkungen gelten für Web Scraper?"
   ]
  },
  {
   "attachments": {},
   "cell_type": "markdown",
   "metadata": {
    "collapsed": false
   },
   "source": [
    "4.) Sucht euch ein Werk auf [https://www.projekt-gutenberg.org/](https://www.projekt-gutenberg.org/) aus. Dieses Werk werdet ihr im Folgenden scrapen. Wenn ihr euch noch nicht so sicher seid, könnt ihr auch erstmal nur eine Seite extrahieren. Wenn ihr die Inhalte schon gut verstanden habt, versucht, alle Seiten eures Werks zu extrahieren. Ihr könnt euch bei eurer Lösung nach dem Beispiel auf der Kurswebsite richten. Zur Hilfestellung könnt ihr auch wieder die Browser-Entwicklertools verwenden. Wenn euch kein Text einfällt oder beim Scrapen ein Problem auftaucht, das ihr nicht lösen könnt (auf manchen Seiten von Projekt Gutenberg fehlt ein Öffnungs- oder Schließtag zu einem p-Element), könnt ihr diesen Text extrahieren: https://www.projekt-gutenberg.org/marx/manifest/titlepage.html\n",
    "\n",
    "Hinweise: \n",
    "\n",
    "* Wenn die gesuchten HTML-Elemente nicht eindeutig über ein Attribut identifiziert werden können, könnt ihr z.B. eine Slicing-Operation mithilfe des Slicing-Operators [::] oder BeautifulSoup-Methoden wie .select(\"element ~ element\"), .find_previous_sibling(), .find_next_sibling(), .find_next() oder .find_previous() verwenden, um nach Geschwisterelementen und bestimmten vorhergehenden oder nachfolgenden Elementen zu suchen (s. BeautifulSoup Dokumentation) und nicht gewünschte Elemente auszuschließen. Um ggf. überschüssigen Whitespace (Leerzeichen, Zeilenumbrüche, ...) am Anfang und Ende der extrahierten Strings zu entfernen, könnt ihr die Methode .strip() verwenden oder direkt beim Aufruf der Methode .find_all() das zusätzliche Argument strip=True übergeben‚.\n",
    "\n",
    "* Wir werden in der nächsten Woche eine neue Möglichkeit kennen lernen, wie Strings in Python zusammengesetzt werden können, die sogenannten F-Strings. F-Strings können mit sogenannten Formatierungsmustern kombiniert werden, um zum Beispiel Zahlen mit einer variablen Anzahl an führenden Nullen zu erstellen: f\"irgendein string mit einer zahl {i:03d}\". Der Ausdruck i:03d in den geschweiften Klammern beschreibt, wie die Variable i formatiert werden soll. Das : teilt dem Python-Interpreter mit, dass jetzt ein Ausdruck folgt, der die Formatierung der Variable beschreibt. Die 0 gibt an, dass die Variable i mit Nullen aufgefüllt werden soll - und zwar mit genau so vielen Nullen, dass der formatierte Wert genau so viele Ziffern hat, wie der darauffolgende Wert festlegt (in diesem Fall 3). Das d gibt an, dass i als Dezimalzahl formatiert werden soll. Mehr dazu hier: https://realpython.com/python-formatted-output/#the-format_spec-component. Solche Formatierungsmuster können im Rahmen dieser Aufgabe verwendet werden, um Zahlen mit verschieden vielen führenden Nullen in URLs einzufügen. "
   ]
  },
  {
   "attachments": {},
   "cell_type": "markdown",
   "metadata": {
    "collapsed": false
   },
   "source": [
    "5.) Erstellt zuletzt ein Objekt, das den gescrapten Text als String enthält. Nennt das Objekt `werk_str'. Speichert den Text des Werks in einer Plaintext-Datei. Führt dazu den folgenden Code aus: "
   ]
  },
  {
   "cell_type": "code",
   "execution_count": null,
   "metadata": {
    "vscode": {
     "languageId": "plaintext"
    }
   },
   "outputs": [],
   "source": [
    "with open('titel_eures_werks.txt', 'w', encoding=\"utf-8\") as f:\n",
    "    f.write(werk_str)"
   ]
  },
  {
   "cell_type": "markdown",
   "metadata": {},
   "source": [
    "#### Aufgabe 4: Vorblick\n",
    "&nbsp;\n",
    "\n",
    "Schaut euch zur Vorbereitung auf die Sitzung nächste Woche schonmal das folgende Video an (ca. 13 min.): \n",
    "\n",
    "Janek Pruin (2018), \"Was ist eine API?\", [https://www.youtube.com/watch?v=KLe2lCEy-Xw](https://www.youtube.com/watch?v=KLe2lCEy-Xw)\n",
    "\n",
    "Wenn ihr Zeit habt, lest euch außerdem schonmal das neue Kapitel \"8.1 APIs\" auf der Kurswebsite durch. "
   ]
  }
 ],
 "metadata": {
  "authors": [
   {
    "name": "Lisa Poggel"
   }
  ],
  "kernelspec": {
   "display_name": "Python 3",
   "language": "python",
   "name": "python3"
  },
  "language_info": {
   "codemirror_mode": {
    "name": "ipython",
    "version": 2
   },
   "file_extension": ".py",
   "mimetype": "text/x-python",
   "name": "python",
   "nbconvert_exporter": "python",
   "pygments_lexer": "ipython2",
   "version": "2.7.6"
  },
  "subtitle": "WiSe 2024/25 - 'Webscraping mit Python'",
  "title": "Übungsblatt 7"
 },
 "nbformat": 4,
 "nbformat_minor": 0
}
