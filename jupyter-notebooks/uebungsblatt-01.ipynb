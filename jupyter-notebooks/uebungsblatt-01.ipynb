{
 "cells": [
  {
   "attachments": {},
   "cell_type": "markdown",
   "metadata": {},
   "source": [
    "**Abgabe bis 26.10.2024, 23:59 Uhr per Mail: l.poggel@fu-berlin.de**"
   ]
  },
  {
   "cell_type": "markdown",
   "metadata": {
    "collapsed": false
   },
   "source": [
    "#### Aufgabe 1: Wiederholung  \n",
    "&nbsp;\n",
    "\n",
    "Lest euch nochmal die Inhalte zur Sitzung heute unter dem neuen Kapitel \"Python I\" auf unserer [Kurs-Website](https://lipogg.github.io/webscraping-mit-python/) durch. Formuliert eine Frage zu einem Inhalt, der euch noch nicht ganz klar ist und bringt eure Frage(n) nächste Woche mit.\n"
   ]
  },
  {
   "cell_type": "markdown",
   "metadata": {
    "collapsed": false
   },
   "source": [
    "#### Aufgabe 2: Begriffsklärung \n",
    "&nbsp;\n",
    "\n",
    "1.) Erläutert kurz in euren eigenen Worten die folgenden Begriffe: Zeichenkette, Datentyp, Variable\n",
    "\n",
    "2.) Welche der folgenden Variablennamen sind in Python nicht erlaubt?\n",
    "a) `1satz`, b) `1_satz`, c) `satz_5`, d) `ein satz`, e) `ein.satz`, f) `EIN_SATZ`\n",
    "\n",
    "3.) Beschreibt in euren eigenen Worten, was in jeder Zeile passiert:"
   ]
  },
  {
   "cell_type": "code",
   "execution_count": null,
   "metadata": {
    "collapsed": true,
    "tags": [
     "remove-output"
    ]
   },
   "outputs": [],
   "source": [
    "begruessung = \"Guten Tag\"\n",
    "begruessung == \"Guten Abend\"\n",
    "begruessung[0]"
   ]
  },
  {
   "cell_type": "markdown",
   "metadata": {
    "collapsed": false
   },
   "source": [
    "4.) Welchen Datentyp haben die folgenden Objekte?"
   ]
  },
  {
   "cell_type": "code",
   "execution_count": null,
   "metadata": {
    "collapsed": false,
    "tags": [
     "remove-output"
    ]
   },
   "outputs": [],
   "source": [
    "True\n",
    "\"False\"\n",
    "12**5\n",
    "\" \"\n",
    "8.0\n",
    "\"Morgen wird es 35° warm!\""
   ]
  },
  {
   "cell_type": "markdown",
   "metadata": {
    "collapsed": false
   },
   "source": [
    "5.) Zu welchem Wert werden die folgenden Ausdrücke evaluiert? Beantwortet die Frage ohne die Hilfe von Python und JupyterLite!"
   ]
  },
  {
   "cell_type": "code",
   "execution_count": null,
   "metadata": {
    "collapsed": false,
    "tags": [
     "remove-ouptut"
    ]
   },
   "outputs": [],
   "source": [
    "True and False\n",
    "True or False\n",
    "True and (not False)\n",
    "\"Hund\" == \"Hand\"\n",
    "\"Katze\" != \"Kotze\"\n",
    "\"a\" == 97\n",
    "4+5 > 3+5\n",
    "(6+4 > 5+4) != True\n",
    "6+4 > 5+4 != True\n",
    "32 <= 32\n",
    "50 >= 60"
   ]
  },
  {
   "attachments": {},
   "cell_type": "markdown",
   "metadata": {
    "collapsed": false
   },
   "source": [
    "#### Aufgabe 3: Praxis  \n",
    "&nbsp;\n",
    "\n",
    "1.) Öffnet JupyterLite. Erstellt ein neues Jupyter Notebook und speichert es mit einem geeigneten Dateinamen ab.\n",
    "\n",
    "2.) Verfasst einen Kommentar mit dem Namen der Lehrveranstaltung, der Nummer des Übungsblatts und eurem Namen.\n",
    "\n",
    "3.) Weist dem Namen `vorname` euren Vornamen als Wert mit dem Datentyp str zu.\n",
    "\n",
    "4.) Lasst euch die Variable mit der Funktion `print()` auf dem Bildschirm ausgeben.\n",
    "\n",
    "5.) Überlegt euch einen passenden Namen für eine Variable, die als Platzhalter für eine Zeichenkette dient, die euren Vor- und Nachnamen repräsentiert. Weist dieser Variable die Variable `vorname` zu und verkettet die Variable `vorname` dabei mit einem String, der euren Nachnamen repräsentiert. Hinweis: Nutzt dazu den Konkatenationsoperator `+`.\n",
    "\n",
    "6.) Nutzt den Slicing-Operator [::], um auf eine Untersequenz, die nur euren Vornamen repräsentiert, zuzugreifen.\n",
    "\n",
    "7.) Nutzt den Zugriffsoperator [], um auf das Zeichen mit dem Index 3 zuzugreifen.\n"
   ]
  },
  {
   "cell_type": "markdown",
   "metadata": {
    "collapsed": false
   },
   "source": []
  }
 ],
 "metadata": {
  "authors": [
   {
    "name": "Lisa Poggel"
   }
  ],
  "kernelspec": {
   "display_name": "Python 3",
   "language": "python",
   "name": "python3"
  },
  "language_info": {
   "codemirror_mode": {
    "name": "ipython",
    "version": 2
   },
   "file_extension": ".py",
   "mimetype": "text/x-python",
   "name": "python",
   "nbconvert_exporter": "python",
   "pygments_lexer": "ipython2",
   "version": "2.7.6"
  },
  "subtitle": "WiSe 2024/25 - 'Webscraping mit Python'",
  "title": "Übungsblatt 1"
 },
 "nbformat": 4,
 "nbformat_minor": 0
}
