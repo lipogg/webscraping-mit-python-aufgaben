{
 "cells": [
  {
   "cell_type": "markdown",
   "metadata": {},
   "source": [
    "## Wichtige Hinweise\n",
    "\n",
    "Bevor ihr diese Aufgabe abgebt stellt sicher, dass alles wie erwartet funktioniert. Befolgt dazu diese Schritte: \n",
    "\n",
    "1. Startet den Kernel neu und führt alle Zellen aus (in der Menüleiste: Run $\\rightarrow$ Restart Kernel and Run All Cells). **Wenn es Fehlermeldungen gibt, behebt diese vor der Abgabe.**  \n",
    "2. Speichert das Notebook (Ctrl + S bzw. Cmd + S oder über File $\\rightarrow$ Save Notebook). Ändert dabei NICHT den Dateinamen.\n",
    "3. Ladet das Notebook herunter (Rechtsklick auf das Notebook $\\rightarrow$ Download).\n",
    "4. Schickt mir das Notebook per Mail an l.poggel@fu-berlin.de. Setzt dabei alle Mitbearbeiter\\:innen in Cc. \n",
    "\n",
    "Achtet auch darauf, alle Stellen auszufüllen, an denen CODE HIER EINGEBEN oder “ANTWORT HIER EINGEBEN” steht, und achtet auf die Hinweise zu den Aufgaben. Bearbeitet die Aufgaben immer genau so, wie es in der Aufgabe steht. Wenn ihr eine Antwort nicht wisst, könnt ihr einfach die entsprechende Zelle leer lassen bzw. die Platzhalter (z.B. `antwort = __`) stehen lassen. **Die leeren Codezellen, die ihr nicht bearbeiten könnt, beinhalten versteckte Tests zur automatisierten Korrektur der Aufgaben. Löscht  diese Zellen nicht und ändert nicht denn Typ der Zelle.** \n",
    "\n",
    "Gebt außerdem die Namen aller Bearbeiter\\:innen an:"
   ]
  },
  {
   "cell_type": "code",
   "execution_count": null,
   "metadata": {},
   "outputs": [],
   "source": [
    "NAME_1 = \"\"\n",
    "NAME_2 = \"\""
   ]
  },
  {
   "cell_type": "markdown",
   "metadata": {},
   "source": [
    "---"
   ]
  },
  {
   "cell_type": "markdown",
   "metadata": {},
   "source": [
    "## Aufgabe 1: Wiederholung\n",
    "\n",
    "Lest euch nochmal die Inhalte zur Sitzung heute unter dem neuen Kapitel \"Python II\" auf unserer [Kurs-Website](https://lipogg.github.io/webscraping-mit-python/) durch. Formuliert ein bis drei Fragen zu einem Inhalt, der euch noch nicht ganz klar ist.\n"
   ]
  },
  {
   "cell_type": "markdown",
   "metadata": {},
   "source": [
    "**Frage 1:**"
   ]
  },
  {
   "cell_type": "markdown",
   "metadata": {
    "deletable": false,
    "nbgrader": {
     "cell_type": "markdown",
     "checksum": "a9176e8bffd5edee7bb7b516839bf6b5",
     "grade": true,
     "grade_id": "frage1",
     "locked": false,
     "points": 0,
     "schema_version": 3,
     "solution": true,
     "task": false
    }
   },
   "source": [
    "ANTWORT HIER EINGEBEN"
   ]
  },
  {
   "cell_type": "markdown",
   "metadata": {},
   "source": [
    "**Frage 2:**"
   ]
  },
  {
   "cell_type": "markdown",
   "metadata": {
    "deletable": false,
    "nbgrader": {
     "cell_type": "markdown",
     "checksum": "8d9886b31087a621002fb9ce0cac2470",
     "grade": true,
     "grade_id": "frage2",
     "locked": false,
     "points": 0,
     "schema_version": 3,
     "solution": true,
     "task": false
    }
   },
   "source": [
    "ANTWORT HIER EINGEBEN"
   ]
  },
  {
   "cell_type": "markdown",
   "metadata": {},
   "source": [
    "**Frage 3:**"
   ]
  },
  {
   "cell_type": "markdown",
   "metadata": {
    "deletable": false,
    "nbgrader": {
     "cell_type": "markdown",
     "checksum": "ed9f71fca32b42aefee544cc1384e46b",
     "grade": true,
     "grade_id": "frage3",
     "locked": false,
     "points": 0,
     "schema_version": 3,
     "solution": true,
     "task": false
    }
   },
   "source": [
    "ANTWORT HIER EINGEBEN"
   ]
  },
  {
   "cell_type": "markdown",
   "metadata": {},
   "source": [
    "## Aufgabe 2: Verständnis\n",
    "\n",
    "1.) Welche ist die korrekte Syntax für den Schleifenkopf einer **for-Schleife**?\n",
    "\n",
    "*Hinweis: Gebt `antwort = \"a\"` für Option a) ein,  `antwort = \"b\"` für Option b), usw. Wenn ihr die Antwort nicht wisst, lasst einfach den Platzhalter `antwort = __` stehen.*\n",
    "\n",
    "a) for (variable in objekt) {}  \n",
    "b) for (variable in objekt) :  \n",
    "c) for variable in objekt:  \n",
    "d) for bedingung: "
   ]
  },
  {
   "cell_type": "code",
   "execution_count": null,
   "metadata": {
    "deletable": false,
    "nbgrader": {
     "cell_type": "code",
     "checksum": "4c69b50f8efb22367dace07ee4fc0f34",
     "grade": false,
     "grade_id": "a2_1_for_syntax",
     "locked": false,
     "schema_version": 3,
     "solution": true,
     "task": false
    }
   },
   "outputs": [],
   "source": [
    "# CODE HIER EINGEBEN\n",
    "antwort = __"
   ]
  },
  {
   "cell_type": "code",
   "execution_count": null,
   "metadata": {
    "deletable": false,
    "editable": false,
    "nbgrader": {
     "cell_type": "code",
     "checksum": "c92101cc4d89c04f946af9500c1b0566",
     "grade": true,
     "grade_id": "a2_1_for_syntax_test",
     "locked": true,
     "points": 0,
     "schema_version": 3,
     "solution": false,
     "task": false
    }
   },
   "outputs": [],
   "source": []
  },
  {
   "cell_type": "markdown",
   "metadata": {},
   "source": [
    "2.) Welche Syntax ist korrekt für den Schleifenkopf einer **while-Schleife**? \n",
    "\n",
    "*Hinweis: Gebt `antwort = \"a\"` für Option a) ein,  `antwort = \"b\"` für Option b), usw. Wenn ihr die Antwort nicht wisst, lasst einfach den Platzhalter `antwort = __` stehen.*\n",
    "\n",
    "a) while variable in objekt:  \n",
    "b) while bedingung:  \n",
    "c) while (bedingung) {}  \n",
    "d) while (bedingung) :"
   ]
  },
  {
   "cell_type": "code",
   "execution_count": null,
   "metadata": {
    "deletable": false,
    "nbgrader": {
     "cell_type": "code",
     "checksum": "1eab282d12daf3dfb8f65fee49cb6818",
     "grade": false,
     "grade_id": "a2_2_while_syntax",
     "locked": false,
     "schema_version": 3,
     "solution": true,
     "task": false
    }
   },
   "outputs": [],
   "source": [
    "# CODE HIER EINGEBEN\n",
    "antwort = __"
   ]
  },
  {
   "cell_type": "code",
   "execution_count": null,
   "metadata": {
    "deletable": false,
    "editable": false,
    "nbgrader": {
     "cell_type": "code",
     "checksum": "8caa4665328977b50bb4adcecaaaed6c",
     "grade": true,
     "grade_id": "a2_2_while_syntax_test",
     "locked": true,
     "points": 1,
     "schema_version": 3,
     "solution": false,
     "task": false
    }
   },
   "outputs": [],
   "source": []
  },
  {
   "cell_type": "markdown",
   "metadata": {},
   "source": [
    "3.) Was ist der Unterschied zwischen der for-Schleife und der while-Schleife? Überlegt euch je ein Beispiel für eine Situation, in der eine for-Schleife bzw. eine while-Schleife geeigneter ist."
   ]
  },
  {
   "cell_type": "markdown",
   "metadata": {
    "deletable": false,
    "nbgrader": {
     "cell_type": "markdown",
     "checksum": "44bc6ef0920c0fd2ac10adc45df2e6ad",
     "grade": true,
     "grade_id": "a2_3_unterschied_schleifen",
     "locked": false,
     "points": 1,
     "schema_version": 3,
     "solution": true,
     "task": false
    }
   },
   "source": [
    "ANTWORT HIER EINGEBEN"
   ]
  },
  {
   "cell_type": "markdown",
   "metadata": {},
   "source": [
    "4.) Was wird im fünften Schleifendurchlauf (genre = None) ausgegeben? Was ist der Grund dafür? Beantwortet die Frage ohne die Hilfe von Python und JupyterLite!"
   ]
  },
  {
   "cell_type": "code",
   "execution_count": null,
   "metadata": {
    "deletable": false,
    "editable": false,
    "nbgrader": {
     "cell_type": "code",
     "checksum": "ea407c5a52b2785eafaeb783b06d1953",
     "grade": false,
     "grade_id": "a2_4_code",
     "locked": true,
     "schema_version": 3,
     "solution": false,
     "task": false
    }
   },
   "outputs": [],
   "source": [
    "genres = [\"Jazz\", \"Klassik\", \"Rap\", \"Punk\", None, \"Techno\"]\n",
    "for genre in genres: \n",
    "    print(genre.lower())"
   ]
  },
  {
   "cell_type": "markdown",
   "metadata": {
    "deletable": false,
    "nbgrader": {
     "cell_type": "markdown",
     "checksum": "0cdf49e211e30875e70eee58ff58cfca",
     "grade": true,
     "grade_id": "a2_4",
     "locked": false,
     "points": 1,
     "schema_version": 3,
     "solution": true,
     "task": false
    }
   },
   "source": [
    "ANTWORT HIER EINGEBEN"
   ]
  },
  {
   "cell_type": "markdown",
   "metadata": {},
   "source": [
    "5.) Wann terminiert die Schleife? Beantwortet die Frage ohne die Hilfe von Python und JupyterLite!"
   ]
  },
  {
   "cell_type": "code",
   "execution_count": null,
   "metadata": {
    "deletable": false,
    "editable": false,
    "nbgrader": {
     "cell_type": "code",
     "checksum": "a589fb136887acc987b7d4a2dfdb58fa",
     "grade": false,
     "grade_id": "a2_5_code",
     "locked": true,
     "schema_version": 3,
     "solution": false,
     "task": false
    }
   },
   "outputs": [],
   "source": [
    "genres = [\"Jazz\", \"Klassik\", \"Rap\", \"Punk\", None, \"Techno\"]\n",
    "for i, genre in enumerate(genres): \n",
    "    if genre is None: \n",
    "        continue\n",
    "    else: \n",
    "        genres[i] = genre.lower()\n",
    "print(genres)"
   ]
  },
  {
   "cell_type": "markdown",
   "metadata": {
    "deletable": false,
    "nbgrader": {
     "cell_type": "markdown",
     "checksum": "9b673a1453b9f610b320e7a7da4b5d9a",
     "grade": true,
     "grade_id": "a2_5",
     "locked": false,
     "points": 1,
     "schema_version": 3,
     "solution": true,
     "task": false
    }
   },
   "source": [
    "ANTWORT HIER EINGEBEN"
   ]
  },
  {
   "cell_type": "markdown",
   "metadata": {},
   "source": [
    "6.) Stellt euch folgende Situation vor: In eurer Freizeit geht ihr gerne zu Starbucks und trinkt einen Frappuchino, der aktuell 8€ kostet. Ihr habt ein Nettoeinkommen von 900€. Diesen Monat habt ihr schon 650€ für Miete, Essen, Internet und Sonstiges ausgegegeben. Da sowohl der Frappuchinopreis als auch eure monatlichen Ausgaben und natürlich das aktuelle Datum variieren, habt ihr ein kleines Skript geschrieben, das euch die Planung eures Frappuchinokonsums erleichtern soll. Was macht der folgende Code? Fügt über jeder Zeile im folgenden Code einen Kommentar hinzu, der in euren eigenen Worten beschreibt, was in der jeweiligen Zeile passiert. Ihr könnt den Code auch in JupyterLite ausführen und  einzelne Werte ändern oder euch den Code auf [https://pythontutor.com/visualize.html#mode=edit](https://pythontutor.com/visualize.html#mode=edit) visualisieren lassen.\n",
    "\n",
    "*Hinweis: Die Kommentare zu den Kontrollstrukturen könnt ihr auch über die jeweilige Kontrollstruktur schreiben. Ihr müsst dabei nicht undbedingt wie sonst Infinitiv verwenden sondern könnt einfach in euren eigenen Worten beschreiben, was passiert und warum.* "
   ]
  },
  {
   "cell_type": "code",
   "execution_count": null,
   "metadata": {
    "deletable": false,
    "editable": false,
    "nbgrader": {
     "cell_type": "code",
     "checksum": "b8ead9058bc9469022f797ac63cef344",
     "grade": false,
     "grade_id": "a2_6_kommentare_code",
     "locked": true,
     "schema_version": 3,
     "solution": false,
     "task": false
    }
   },
   "outputs": [],
   "source": [
    "einkommen = 900\n",
    "ausgaben = 650\n",
    "kaffeepreis = 8\n",
    "frappuchinos = 0\n",
    "datum = (12, \"Mai\")\n",
    "lange_monate = [\"Januar\", \"März\", \"Mai\", \"Juli\", \"August\", \"Oktober\", \"Dezember\"]\n",
    "kurze_monate = [\"April\", \"Juni\", \"September\", \"November\"]\n",
    "\n",
    "if datum[1] in lange_monate:\n",
    "    tage = 31 - datum[0]\n",
    "elif datum[1] in kurze_monate:\n",
    "    tage = 30 - datum[0]\n",
    "else:\n",
    "    tage = 28 - datum[0]\n",
    "\n",
    "while einkommen - kaffeepreis > ausgaben:\n",
    "    ausgaben += kaffeepreis\n",
    "    frappuchinos += 1\n",
    "\n",
    "print(\"Du kannst diesen Monat noch \" + str(frappuchinos) + \" Frappuchinos trinken. Das sind \" + str(frappuchinos / tage) + \" Frappuchinos am Tag.\")\n"
   ]
  },
  {
   "cell_type": "code",
   "execution_count": null,
   "metadata": {
    "deletable": false,
    "nbgrader": {
     "cell_type": "code",
     "checksum": "3eb021fc9f29838aa92ad963700f175d",
     "grade": true,
     "grade_id": "a2_6_kommentare",
     "locked": false,
     "points": 1,
     "schema_version": 3,
     "solution": true,
     "task": false
    }
   },
   "outputs": [],
   "source": [
    "# CODE HIER EINGEBEN"
   ]
  },
  {
   "cell_type": "markdown",
   "metadata": {},
   "source": [
    "## Aufgabe 3: Praxis\n"
   ]
  },
  {
   "cell_type": "markdown",
   "metadata": {},
   "source": [
    "1.) Erstellt eine Liste eurer Lieblingsmusiker:innen. Überprüft mithilfe einer if-Anweisung, ob die Zeichenkette \"Rihanna\" in der Liste enthalten ist. Falls die Zeichenkette enthalten ist, soll die Nachricht \"Rihanna ist eine meiner Lieblingskünstlerinnen\" auf dem Bildschirm ausgegeben werden."
   ]
  },
  {
   "cell_type": "code",
   "execution_count": null,
   "metadata": {
    "deletable": false,
    "nbgrader": {
     "cell_type": "code",
     "checksum": "c0013c25deaa91a9c44ffb46ea0c65da",
     "grade": true,
     "grade_id": "praxis-1",
     "locked": false,
     "points": 1,
     "schema_version": 3,
     "solution": true,
     "task": false
    }
   },
   "outputs": [],
   "source": [
    "# CODE HIER EINGEBEN"
   ]
  },
  {
   "cell_type": "markdown",
   "metadata": {},
   "source": [
    "2.) Wie kann man den Code aus Teilaufgabe 1) so verallgemeinern, dass statt \"Rihanna\" jede:r beliebige Musiker:in eingesetzt werden kann? "
   ]
  },
  {
   "cell_type": "code",
   "execution_count": null,
   "metadata": {
    "deletable": false,
    "nbgrader": {
     "cell_type": "code",
     "checksum": "407383251ac453bc66ed8ccbd68901e6",
     "grade": true,
     "grade_id": "praxis-2",
     "locked": false,
     "points": 1,
     "schema_version": 3,
     "solution": true,
     "task": false
    }
   },
   "outputs": [],
   "source": [
    "# CODE HIER EINGEBEN"
   ]
  },
  {
   "cell_type": "markdown",
   "metadata": {},
   "source": [
    "3.) Überprüft jetzt mithilfe einer weiteren if-Anweisung, ob der Wert des zweiten Elements in der Liste eurer Lieblingsmusiker:innen der Zeichenkette \"Mozart\" entspricht. Falls diese Bedingung erfüllt ist, soll die Zeichenkette \"Mozart\" durch die Zeichenkette \"Chopin\" ersetzt werden. Falls die Bedingung nicht erfüllt ist, soll der Liste ein neues Element mit dem Wert \"Chopin\" hinzugefügt werden."
   ]
  },
  {
   "cell_type": "code",
   "execution_count": null,
   "metadata": {
    "deletable": false,
    "nbgrader": {
     "cell_type": "code",
     "checksum": "0167bc532ed1503e81b83adb21d58ce2",
     "grade": true,
     "grade_id": "praxis-3",
     "locked": false,
     "points": 1,
     "schema_version": 3,
     "solution": true,
     "task": false
    }
   },
   "outputs": [],
   "source": [
    "# CODE HIER EINGEBEN"
   ]
  },
  {
   "cell_type": "markdown",
   "metadata": {},
   "source": [
    "4.) Erstellt eine leere Liste und weist sie einer Variable `name_lengths` zu."
   ]
  },
  {
   "cell_type": "code",
   "execution_count": null,
   "metadata": {
    "deletable": false,
    "nbgrader": {
     "cell_type": "code",
     "checksum": "948aa90d90b82967a550f60061eaf858",
     "grade": true,
     "grade_id": "praxis-4",
     "locked": false,
     "points": 1,
     "schema_version": 3,
     "solution": true,
     "task": false
    }
   },
   "outputs": [],
   "source": [
    "# CODE HIER EINGEBEN"
   ]
  },
  {
   "cell_type": "markdown",
   "metadata": {},
   "source": [
    "5.) Erstellt jetzt eine Schleife, die in jedem Schleifendurchlauf die Länge der Namen eurer Lieblingsmusiker:innen aus der Liste mit euren Lieblingsmusiker:innen bestimmt und die Wortlänge als Element der Liste `name_lengths` hinzufügt. Hinweis: Zur Bestimmung der Anzahl von Zeichen in Zeichenketten könnt ihr die Funktion `len()` verwenden."
   ]
  },
  {
   "cell_type": "code",
   "execution_count": null,
   "metadata": {
    "deletable": false,
    "nbgrader": {
     "cell_type": "code",
     "checksum": "4076ef8d71347ef1057d6c2e04dee915",
     "grade": true,
     "grade_id": "praxis-5",
     "locked": false,
     "points": 1,
     "schema_version": 3,
     "solution": true,
     "task": false
    }
   },
   "outputs": [],
   "source": [
    "# CODE HIER EINGEBEN"
   ]
  },
  {
   "cell_type": "markdown",
   "metadata": {},
   "source": [
    "6.) Ihr wollt die beiden Listen jetzt in ein einziges Objekt, und zwar in ein Dictionary kombinieren. Hinweis: Richtet euch dabei nach der Vorlage `dictionary_aus_listen = dict(zip(erste_liste, zweite_liste))`. Lasst euch das Dictionary auf dem Bildschirm ausgeben. Hat alles geklappt?"
   ]
  },
  {
   "cell_type": "code",
   "execution_count": null,
   "metadata": {
    "deletable": false,
    "nbgrader": {
     "cell_type": "code",
     "checksum": "6096585c70cb22b63a1a45901003678e",
     "grade": true,
     "grade_id": "praxis-6",
     "locked": false,
     "points": 1,
     "schema_version": 3,
     "solution": true,
     "task": false
    }
   },
   "outputs": [],
   "source": [
    "# CODE HIER EINGEBEN"
   ]
  },
  {
   "cell_type": "markdown",
   "metadata": {},
   "source": [
    "7.) (Fakultativ) Wenn die Teilaufgaben 1-6 für euch leicht zu lösen waren und ihr gerne weiter üben möchtet, könnt ihr eine zweite Schleife erstellen, die das Dictionary durchläuft. In jedem Schleifendurchlauf soll überprüft werden, ob der Wert des aktuellen Eintrags kleiner als 7 ist. Wenn diese Bedingung erfüllt ist, soll der entsprechende Eintrag aus dem Dictionary entfernt werden. Hinweis: Durch das Entfernen eines Eintrags wird das Dictionary während des Schleifendurchlauf verkleinert. Das Objekt, das mithilfe der Schleife durchlaufen wird, muss allerdings bis zum Terminieren der Schleife dieselbe Größe behalten, sonst wird eine Fehlermeldung ausgegeben. Wie könnte man das Problem lösen? Wenn ihr euch nicht sicher seid, wie ihr ein Element aus einem Dictionary entfernen könnt, schaut in der Python-Dokumentation nach: [https://docs.python.org/3/library/stdtypes.html#mapping-types-dict](https://docs.python.org/3/library/stdtypes.html#mapping-types-dict)"
   ]
  },
  {
   "cell_type": "code",
   "execution_count": null,
   "metadata": {
    "deletable": false,
    "nbgrader": {
     "cell_type": "code",
     "checksum": "bd904d1bd02499dc75ff270aa2a864f7",
     "grade": true,
     "grade_id": "praxis-7",
     "locked": false,
     "points": 1,
     "schema_version": 3,
     "solution": true,
     "task": false
    }
   },
   "outputs": [],
   "source": [
    "# CODE HIER EINGEBEN"
   ]
  }
 ],
 "metadata": {
  "kernelspec": {
   "display_name": "Python 3 (ipykernel)",
   "language": "python",
   "name": "python3"
  },
  "language_info": {
   "codemirror_mode": {
    "name": "ipython",
    "version": 3
   },
   "file_extension": ".py",
   "mimetype": "text/x-python",
   "name": "python",
   "nbconvert_exporter": "python",
   "pygments_lexer": "ipython3",
   "version": "3.11.11"
  }
 },
 "nbformat": 4,
 "nbformat_minor": 4
}
