{
 "cells": [
  {
   "cell_type": "markdown",
   "metadata": {},
   "source": [
    "## Wichtige Hinweise\n",
    "\n",
    "Bevor ihr diese Aufgabe abgebt stellt sicher, dass alles wie erwartet funktioniert. Befolgt dazu diese Schritte: \n",
    "\n",
    "1. Startet den Kernel neu und führt alle Zellen aus (in der Menüleiste: Run $\\rightarrow$ Restart Kernel and Run All Cells). **Wenn es Fehlermeldungen gibt, behebt diese vor der Abgabe.**  \n",
    "2. Speichert das Notebook (Ctrl + S bzw. Cmd + S oder über File $\\rightarrow$ Save Notebook). Ändert dabei NICHT den Dateinamen.\n",
    "3. Ladet das Notebook herunter (Rechtsklick auf das Notebook $\\rightarrow$ Download).\n",
    "4. Schickt mir das Notebook per Mail an l.poggel@fu-berlin.de. Setzt dabei alle Mitbearbeiter\\:innen in Cc. \n",
    "\n",
    "Achtet auch darauf, alle Stellen auszufüllen, an denen CODE HIER EINGEBEN oder “ANTWORT HIER EINGEBEN” steht, und achtet auf die Hinweise zu den Aufgaben. Bearbeitet die Aufgaben immer genau so, wie es in der Aufgabe steht. Wenn ihr eine Antwort nicht wisst, könnt ihr einfach die entsprechende Zelle leer lassen bzw. die Platzhalter (z.B. `antwort = __`) stehen lassen. **Die leeren Codezellen, die ihr nicht bearbeiten könnt, beinhalten versteckte Tests zur automatisierten Korrektur der Aufgaben. Löscht  diese Zellen nicht und ändert nicht denn Typ der Zelle.** \n",
    "\n",
    "Gebt außerdem die Namen aller Bearbeiter\\:innen an:"
   ]
  },
  {
   "cell_type": "code",
   "execution_count": null,
   "metadata": {},
   "outputs": [],
   "source": [
    "NAME_1 = \"\"\n",
    "NAME_2 = \"\""
   ]
  },
  {
   "cell_type": "markdown",
   "metadata": {},
   "source": [
    "---"
   ]
  },
  {
   "cell_type": "markdown",
   "metadata": {},
   "source": [
    "## Aufgabe 1: Wiederholung\n",
    "\n",
    "Lest euch nochmal die Inhalte zur Sitzung heute unter dem neuen Kapitel \"Python III\" auf unserer [Kurs-Website](https://lipogg.github.io/webscraping-mit-python/) durch. Formuliert ein bis drei Fragen zu einem Inhalt, der euch noch nicht ganz klar ist.\n"
   ]
  },
  {
   "cell_type": "markdown",
   "metadata": {},
   "source": [
    "**Frage 1:**"
   ]
  },
  {
   "cell_type": "markdown",
   "metadata": {
    "deletable": false,
    "nbgrader": {
     "cell_type": "markdown",
     "checksum": "a9176e8bffd5edee7bb7b516839bf6b5",
     "grade": true,
     "grade_id": "frage1",
     "locked": false,
     "points": 0,
     "schema_version": 3,
     "solution": true,
     "task": false
    }
   },
   "source": [
    "ANTWORT HIER EINGEBEN"
   ]
  },
  {
   "cell_type": "markdown",
   "metadata": {},
   "source": [
    "**Frage 2:**"
   ]
  },
  {
   "cell_type": "markdown",
   "metadata": {
    "deletable": false,
    "nbgrader": {
     "cell_type": "markdown",
     "checksum": "8d9886b31087a621002fb9ce0cac2470",
     "grade": true,
     "grade_id": "frage2",
     "locked": false,
     "points": 0,
     "schema_version": 3,
     "solution": true,
     "task": false
    }
   },
   "source": [
    "ANTWORT HIER EINGEBEN"
   ]
  },
  {
   "cell_type": "markdown",
   "metadata": {},
   "source": [
    "**Frage 3:**"
   ]
  },
  {
   "cell_type": "markdown",
   "metadata": {
    "deletable": false,
    "nbgrader": {
     "cell_type": "markdown",
     "checksum": "ed9f71fca32b42aefee544cc1384e46b",
     "grade": true,
     "grade_id": "frage3",
     "locked": false,
     "points": 0,
     "schema_version": 3,
     "solution": true,
     "task": false
    }
   },
   "source": [
    "ANTWORT HIER EINGEBEN"
   ]
  },
  {
   "cell_type": "markdown",
   "metadata": {},
   "source": [
    "## Aufgabe 2: Verständnis\n",
    "\n",
    "1.) Schaut euch die folgenden drei Funktionsdefinitionen an. Was sind Funktionsname, Parameter und Rückgabewert der Funktionen? \n",
    "\n",
    "*Hinweis: Gebt für Funktionsname und Parameter den Namen als String an. Gebt als Rückgabewert das englische Kürzel für den Datentyp an, der zurückgegeben wird, also \"None\", \"str\", \"bool\", \"int\" oder \"float\". Wenn ihr die Antwort nicht wisst, lasst einfach den Platzhalter stehen.*"
   ]
  },
  {
   "cell_type": "code",
   "execution_count": null,
   "metadata": {
    "deletable": false,
    "editable": false,
    "nbgrader": {
     "cell_type": "code",
     "checksum": "767b2c16da35de750e98cfe83d6c7952",
     "grade": false,
     "grade_id": "a2_1_fun1_code",
     "locked": true,
     "schema_version": 3,
     "solution": false,
     "task": false
    }
   },
   "outputs": [],
   "source": [
    "# Funktion 1\n",
    "def ist_gerade(zahl):\n",
    "    if zahl % 2 == 0:\n",
    "        print(\"Zahl ist durch 2 teilbar\")\n",
    "    else:\n",
    "        print(\"Zahl ist nicht durch 2 teilbar\")\n",
    "    return None"
   ]
  },
  {
   "cell_type": "code",
   "execution_count": null,
   "metadata": {
    "deletable": false,
    "nbgrader": {
     "cell_type": "code",
     "checksum": "762f91539c198b8ce40fe843d2344c0e",
     "grade": false,
     "grade_id": "a2_1_fun1",
     "locked": false,
     "schema_version": 3,
     "solution": true,
     "task": false
    }
   },
   "outputs": [],
   "source": [
    "# CODE HIER EINGEBEN\n",
    "funktionsname = __\n",
    "parameter = __\n",
    "rueckgabewert = __"
   ]
  },
  {
   "cell_type": "code",
   "execution_count": null,
   "metadata": {
    "deletable": false,
    "editable": false,
    "nbgrader": {
     "cell_type": "code",
     "checksum": "559d576cd21fba1f89c1994323acbd01",
     "grade": true,
     "grade_id": "a2_1_fun1_test",
     "locked": true,
     "points": 1,
     "schema_version": 3,
     "solution": false,
     "task": false
    }
   },
   "outputs": [],
   "source": []
  },
  {
   "cell_type": "code",
   "execution_count": null,
   "metadata": {
    "deletable": false,
    "editable": false,
    "nbgrader": {
     "cell_type": "code",
     "checksum": "66a2b57ea080cace89a1d6ff3d3fe912",
     "grade": false,
     "grade_id": "a2_1_fun2_code",
     "locked": true,
     "schema_version": 3,
     "solution": false,
     "task": false
    }
   },
   "outputs": [],
   "source": [
    "# Funktion 2\n",
    "def ist_gerade(zahl):\n",
    "    if zahl % 2 == 0:\n",
    "        return True\n",
    "    else:\n",
    "        return False"
   ]
  },
  {
   "cell_type": "code",
   "execution_count": null,
   "metadata": {
    "deletable": false,
    "nbgrader": {
     "cell_type": "code",
     "checksum": "18736f193e0c3fdd3723ce05620379d3",
     "grade": false,
     "grade_id": "a2_1_fun2",
     "locked": false,
     "schema_version": 3,
     "solution": true,
     "task": false
    }
   },
   "outputs": [],
   "source": [
    "# CODE HIER EINGEBEN\n",
    "funktionsname = __\n",
    "parameter = __\n",
    "rueckgabewert = __"
   ]
  },
  {
   "cell_type": "code",
   "execution_count": null,
   "metadata": {
    "deletable": false,
    "editable": false,
    "nbgrader": {
     "cell_type": "code",
     "checksum": "9a426fe922292e0609d3e7aa85adfae1",
     "grade": true,
     "grade_id": "a2_1_fun2_test",
     "locked": true,
     "points": 1,
     "schema_version": 3,
     "solution": false,
     "task": false
    }
   },
   "outputs": [],
   "source": []
  },
  {
   "cell_type": "code",
   "execution_count": null,
   "metadata": {
    "deletable": false,
    "editable": false,
    "nbgrader": {
     "cell_type": "code",
     "checksum": "dd3d1143d4fdb4c8787db5ec79522c87",
     "grade": false,
     "grade_id": "a2_1_fun3_code",
     "locked": true,
     "schema_version": 3,
     "solution": false,
     "task": false
    }
   },
   "outputs": [],
   "source": [
    "# Funktion 3\n",
    "def ist_gerade(zahl):\n",
    "    gerade = zahl % 2 == 0\n",
    "    return gerade"
   ]
  },
  {
   "cell_type": "code",
   "execution_count": null,
   "metadata": {
    "deletable": false,
    "nbgrader": {
     "cell_type": "code",
     "checksum": "96e713bb37c8b9f1c22049d45367b689",
     "grade": false,
     "grade_id": "a2_1_fun3",
     "locked": false,
     "schema_version": 3,
     "solution": true,
     "task": false
    }
   },
   "outputs": [],
   "source": [
    "# CODE HIER EINGEBEN\n",
    "funktionsname = __\n",
    "parameter = __\n",
    "rueckgabewert = __"
   ]
  },
  {
   "cell_type": "code",
   "execution_count": null,
   "metadata": {
    "deletable": false,
    "editable": false,
    "nbgrader": {
     "cell_type": "code",
     "checksum": "9e5d181d985157bf0fdc083ef91b4ae9",
     "grade": true,
     "grade_id": "a2_1_fun3_test",
     "locked": true,
     "points": 1,
     "schema_version": 3,
     "solution": false,
     "task": false
    }
   },
   "outputs": [],
   "source": []
  },
  {
   "cell_type": "markdown",
   "metadata": {},
   "source": [
    "2.) Was passiert in den folgenden Zeilen? Fügt über jeder Zeile im folgenden Code einen Kommentar hinzu, der in euren eigenen Worten beschreibt, was in der jeweiligen Zeile passiert. Schaut in die pandas-Dokumentationsseiten, um die Frage zu beantworten: [https://pandas.pydata.org/docs/reference/api/pandas.Series.html](https://pandas.pydata.org/docs/reference/api/pandas.Series.html)."
   ]
  },
  {
   "cell_type": "code",
   "execution_count": null,
   "metadata": {
    "deletable": false,
    "editable": false,
    "nbgrader": {
     "cell_type": "code",
     "checksum": "18592a2acac397d9ed0f126f4b2deb7a",
     "grade": false,
     "grade_id": "a2_2_code",
     "locked": true,
     "schema_version": 3,
     "solution": false,
     "task": false
    }
   },
   "outputs": [],
   "source": [
    "ist_gerade(4)\n",
    "import pandas as pd\n",
    "tiere = [\"Hund\", \"Katze\", \"Schwein\", \"Kuh\", \"Hund\"]\n",
    "tiere_ser = pd.Series(tiere)\n",
    "tiere_ser.size\n",
    "tiere_ser.isin([\"Hund\", \"Katze\"])"
   ]
  },
  {
   "cell_type": "code",
   "execution_count": null,
   "metadata": {
    "deletable": false,
    "nbgrader": {
     "cell_type": "code",
     "checksum": "6e2e5fc2e66d4b11070a955230eff3b2",
     "grade": true,
     "grade_id": "a2_2",
     "locked": false,
     "points": 1,
     "schema_version": 3,
     "solution": true,
     "task": false
    }
   },
   "outputs": [],
   "source": [
    "# CODE HIER EINGEBEN"
   ]
  },
  {
   "cell_type": "markdown",
   "metadata": {},
   "source": [
    "## Aufgabe 3: Praxis\n"
   ]
  },
  {
   "cell_type": "markdown",
   "metadata": {},
   "source": [
    "1.) Erstellt ein neues Python-Dictionary, in dem ihr Metadaten zu drei Büchern sammelt, die ihr gerne noch lesen wollt. Das Dictionary soll drei Schlüssel enthalten: \"titel\", \"autor_in\" und \"jahr\" (= Publikationsjahr). Jeder Schlüssel hat als Wert eine Liste mit drei Elementen für die drei Bücher. Der Wert des Schlüssels \"jahr\" wäre also z.B. [1953, 2022, 1987] für drei Bücher mit den Publikationsjahren 1953, 2022 und 1987. Nennt das Dictionary `buecher_dict`."
   ]
  },
  {
   "cell_type": "code",
   "execution_count": null,
   "metadata": {
    "deletable": false,
    "nbgrader": {
     "cell_type": "code",
     "checksum": "c0013c25deaa91a9c44ffb46ea0c65da",
     "grade": true,
     "grade_id": "praxis-1",
     "locked": false,
     "points": 1,
     "schema_version": 3,
     "solution": true,
     "task": false
    }
   },
   "outputs": [],
   "source": [
    "# CODE HIER EINGEBEN"
   ]
  },
  {
   "cell_type": "markdown",
   "metadata": {},
   "source": [
    "2.) Importiert die Bibliothek Pandas. Ertellt anschließend mithilfe des Dictionaries einen pandas-DataFrame. Richtet euch dabei nach dem Beispiel auf der Kurs-Website. Nennt den Dataframe `buecher_df`."
   ]
  },
  {
   "cell_type": "code",
   "execution_count": null,
   "metadata": {
    "deletable": false,
    "nbgrader": {
     "cell_type": "code",
     "checksum": "407383251ac453bc66ed8ccbd68901e6",
     "grade": true,
     "grade_id": "praxis-2",
     "locked": false,
     "points": 1,
     "schema_version": 3,
     "solution": true,
     "task": false
    }
   },
   "outputs": [],
   "source": [
    "# CODE HIER EINGEBEN"
   ]
  },
  {
   "cell_type": "markdown",
   "metadata": {},
   "source": [
    "3.) Fragt eine Eigenschaft des DataFrames ab, indem ihr auf ein Attribut zugreift. Eine Liste aller Attribute, die für pandas DataFrames definiert sind, findet ihr auf den pandas-Dokumentationssseiten: [https://pandas.pydata.org/docs/reference/api/pandas.DataFrame.html](https://pandas.pydata.org/docs/reference/api/pandas.DataFrame.html)."
   ]
  },
  {
   "cell_type": "code",
   "execution_count": null,
   "metadata": {
    "deletable": false,
    "nbgrader": {
     "cell_type": "code",
     "checksum": "0167bc532ed1503e81b83adb21d58ce2",
     "grade": true,
     "grade_id": "praxis-3",
     "locked": false,
     "points": 1,
     "schema_version": 3,
     "solution": true,
     "task": false
    }
   },
   "outputs": [],
   "source": [
    "# CODE HIER EINGEBEN"
   ]
  },
  {
   "cell_type": "markdown",
   "metadata": {},
   "source": [
    "4.) Ihr könnt euch nicht entscheiden, welches der drei Bücher ihr als erstes lesen sollt. Durchsucht die Dokumentationsseite zum pandas-DataFrame nach einer Methode, die nach dem Zufallsprinzip irgendeine Zeile aus einem DataFrame auswählt und zurückgibt. Hinweis: eine Zufallsauswahl nennt man auf Englisch auch sample. Ruft die Methode auf. Welches Buch sollt ihr zuerst lesen?"
   ]
  },
  {
   "cell_type": "code",
   "execution_count": null,
   "metadata": {
    "deletable": false,
    "nbgrader": {
     "cell_type": "code",
     "checksum": "948aa90d90b82967a550f60061eaf858",
     "grade": true,
     "grade_id": "praxis-4",
     "locked": false,
     "points": 1,
     "schema_version": 3,
     "solution": true,
     "task": false
    }
   },
   "outputs": [],
   "source": [
    "# CODE HIER EINGEBEN"
   ]
  },
  {
   "cell_type": "markdown",
   "metadata": {},
   "source": [
    "5.) Ihr seid neugierig, wie oft die erste Zeile aus eurem Dataframe ausgewählt wird, wenn ihr die Methode mehrmals nacheinander aufruft. Um das herauszufinden, definiert ihr eine Funktion. Wenn ihr etwas herausgefordert werden wollt, versucht, die Funktion ohne Anleitung zu definieren. Ansonsten lest jetzt weiter und befolgt die folgenden Schritte:\n",
    "\n",
    "Die Funktion soll `buch_auswaehlen` heißen und zwei Parameter haben: `df`, einen beliebigen Dataframe, und `n`, eine Integerzahl, die angibt, wie oft die Methode aus Teilaufgabe 6) aufgerufen werden soll. Im Schleifenkörper erstellt ihr zuerst eine neue Variable `anzahl` mit dem Wert 0. Erstellt danach eine while-Schleife. Die Schleife soll so lange laufen, wie `n` größer als 0 ist. Im Schleifenkörper erstellt ihr eine Variable `auswahl`und weist ihr den Aufruf der Methode aus Teilaufgabe 6) als Wert zu, also `auswahl = df.methodenname()`. Danach soll eine if-Anweisung ausgeführt werden: Wenn der Ausdruck `auswahl.index == 1` zu True evaluiert wird, dann soll der Wert der Variable `anzahl` um 1 erhöht werden. Nach der if-Anweisung soll der Wert der Laufvariable `n` um eins verringert werden. Wenn die Schleife terminiert ist, soll die Variable `anzahl` zurückgegeben werden."
   ]
  },
  {
   "cell_type": "code",
   "execution_count": null,
   "metadata": {
    "deletable": false,
    "nbgrader": {
     "cell_type": "code",
     "checksum": "4076ef8d71347ef1057d6c2e04dee915",
     "grade": true,
     "grade_id": "praxis-5",
     "locked": false,
     "points": 1,
     "schema_version": 3,
     "solution": true,
     "task": false
    }
   },
   "outputs": [],
   "source": [
    "# CODE HIER EINGEBEN"
   ]
  },
  {
   "cell_type": "markdown",
   "metadata": {},
   "source": [
    "6.) Ruft die Funktion mit eurem DataFrame `buecher_df` und n=10 als Argumente auf. Wie oft wurde das Buch aus der ersten Zeile ausgewählt?"
   ]
  },
  {
   "cell_type": "code",
   "execution_count": null,
   "metadata": {
    "deletable": false,
    "nbgrader": {
     "cell_type": "code",
     "checksum": "6096585c70cb22b63a1a45901003678e",
     "grade": true,
     "grade_id": "praxis-6",
     "locked": false,
     "points": 1,
     "schema_version": 3,
     "solution": true,
     "task": false
    }
   },
   "outputs": [],
   "source": [
    "# CODE HIER EINGEBEN"
   ]
  },
  {
   "cell_type": "markdown",
   "metadata": {},
   "source": [
    "## Aufgabe 4: Installation und Setup \n",
    "\n",
    "Befolgt die Anleitung im Kapitel \"Installation und Setup\" auf unserer [Kurs-Website](https://lipogg.github.io/webscraping-mit-python). Falls im Laufe der Installation ein Problem auftritt, das ihr selbst nicht lösen könnt, kommt in meine **Installationssprechstunde**. Die Details dazu werde ich per Mail bekannt geben. "
   ]
  }
 ],
 "metadata": {
  "kernelspec": {
   "display_name": "Python 3 (ipykernel)",
   "language": "python",
   "name": "python3"
  },
  "language_info": {
   "codemirror_mode": {
    "name": "ipython",
    "version": 3
   },
   "file_extension": ".py",
   "mimetype": "text/x-python",
   "name": "python",
   "nbconvert_exporter": "python",
   "pygments_lexer": "ipython3",
   "version": "3.11.11"
  }
 },
 "nbformat": 4,
 "nbformat_minor": 4
}
