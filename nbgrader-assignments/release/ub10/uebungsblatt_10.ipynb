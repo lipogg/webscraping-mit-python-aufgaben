{
 "cells": [
  {
   "cell_type": "markdown",
   "metadata": {},
   "source": [
    "## Wichtige Hinweise\n",
    "\n",
    "Bevor ihr diese Aufgabe abgebt stellt sicher, dass alles wie erwartet funktioniert. Befolgt dazu diese Schritte: \n",
    "\n",
    "1. Startet den Kernel neu und führt alle Zellen aus (in der Menüleiste: Run $\\rightarrow$ Restart Kernel and Run All Cells). **Wenn es Fehlermeldungen gibt, behebt diese vor der Abgabe.**  \n",
    "2. Speichert das Notebook (Ctrl + S bzw. Cmd + S oder über File $\\rightarrow$ Save Notebook). Ändert dabei NICHT den Dateinamen.\n",
    "3. Ladet das Notebook herunter (Rechtsklick auf das Notebook $\\rightarrow$ Download).\n",
    "4. Schickt mir das Notebook per Mail an l.poggel@fu-berlin.de. Setzt dabei alle Mitbearbeiter\\:innen in Cc. \n",
    "\n",
    "Achtet auch darauf, alle Stellen auszufüllen, an denen CODE HIER EINGEBEN oder “ANTWORT HIER EINGEBEN” steht, und achtet auf die Hinweise zu den Aufgaben. Bearbeitet die Aufgaben immer genau so, wie es in der Aufgabe steht. Wenn ihr eine Antwort nicht wisst, könnt ihr einfach die entsprechende Zelle leer lassen bzw. die Platzhalter (z.B. `antwort = __`) stehen lassen. **Die leeren Codezellen, die ihr nicht bearbeiten könnt, beinhalten versteckte Tests zur automatisierten Korrektur der Aufgaben. Löscht  diese Zellen nicht und ändert nicht denn Typ der Zelle.** \n",
    "\n",
    "Gebt außerdem die Namen aller Bearbeiter\\:innen an:"
   ]
  },
  {
   "cell_type": "code",
   "execution_count": null,
   "metadata": {},
   "outputs": [],
   "source": [
    "NAME_1 = \"\"\n",
    "NAME_2 = \"\""
   ]
  },
  {
   "cell_type": "markdown",
   "metadata": {},
   "source": [
    "---"
   ]
  },
  {
   "cell_type": "markdown",
   "metadata": {},
   "source": [
    "## Aufgabe 1: Wiederholung\n",
    "\n",
    "Lest euch nochmal die Inhalte im Kapitel \"Fortsetzung Selenium\" auf unserer [Kurs-Website](https://lipogg.github.io/webscraping-mit-python/) durch. Formuliert ein bis drei Fragen zu einem Inhalt, der euch noch nicht ganz klar ist.\n"
   ]
  },
  {
   "cell_type": "markdown",
   "metadata": {},
   "source": [
    "**Frage 1:**"
   ]
  },
  {
   "cell_type": "markdown",
   "metadata": {
    "deletable": false,
    "nbgrader": {
     "cell_type": "markdown",
     "checksum": "a9176e8bffd5edee7bb7b516839bf6b5",
     "grade": true,
     "grade_id": "frage1",
     "locked": false,
     "points": 0,
     "schema_version": 3,
     "solution": true,
     "task": false
    }
   },
   "source": [
    "ANTWORT HIER EINGEBEN"
   ]
  },
  {
   "cell_type": "markdown",
   "metadata": {},
   "source": [
    "**Frage 2:**"
   ]
  },
  {
   "cell_type": "markdown",
   "metadata": {
    "deletable": false,
    "nbgrader": {
     "cell_type": "markdown",
     "checksum": "8d9886b31087a621002fb9ce0cac2470",
     "grade": true,
     "grade_id": "frage2",
     "locked": false,
     "points": 0,
     "schema_version": 3,
     "solution": true,
     "task": false
    }
   },
   "source": [
    "ANTWORT HIER EINGEBEN"
   ]
  },
  {
   "cell_type": "markdown",
   "metadata": {},
   "source": [
    "**Frage 3:**"
   ]
  },
  {
   "cell_type": "markdown",
   "metadata": {
    "deletable": false,
    "nbgrader": {
     "cell_type": "markdown",
     "checksum": "ed9f71fca32b42aefee544cc1384e46b",
     "grade": true,
     "grade_id": "frage3",
     "locked": false,
     "points": 0,
     "schema_version": 3,
     "solution": true,
     "task": false
    }
   },
   "source": [
    "ANTWORT HIER EINGEBEN"
   ]
  },
  {
   "cell_type": "markdown",
   "metadata": {},
   "source": [
    "## Aufgabe 2: XPath\n",
    "\n",
    "1.) Schaut euch das folgende Video an (etwa 15 min.): \n",
    "[https://www.youtube.com/watch?v=0QHmDvc9abs](https://www.youtube.com/watch?v=0QHmDvc9abs) \n",
    "\n",
    "2.) Schreibt XPath-Ausdrücke zur Suche nach folgenden HTML-Elementen. Weist dazu einfach der Variable `expr` den entsprechenden Ausdruck als String zu. Zum Bearbeiten dieser Aufgabe könnt ihr euch nach den Beispielen im Video richten und zum Beispiel die folgenden Ressourcen nutzen:\n",
    "\n",
    "* Tutorial in Textform mit Schaubild und Beispielen: [https://www.softwaretestinghelp.com/xpath-writing-cheat-sheet-tutorial-examples/](https://www.softwaretestinghelp.com/xpath-writing-cheat-sheet-tutorial-examples/)\n",
    "* Liste der wichtigsten XPath Ausdrücke: [https://www.w3schools.com/xml/xpath_syntax.asp](https://www.w3schools.com/xml/xpath_syntax.asp)\n",
    "* XPath Cheatsheet: [https://devhints.io/xpath](https://devhints.io/xpath)\n",
    "* XPath Tester: [https://extendsclass.com/xpath-tester.html](https://extendsclass.com/xpath-tester.html)"
   ]
  },
  {
   "cell_type": "markdown",
   "metadata": {},
   "source": [
    "a) Ein div-Element irgendwo im HTML-Baum"
   ]
  },
  {
   "cell_type": "code",
   "execution_count": null,
   "metadata": {
    "deletable": false,
    "nbgrader": {
     "cell_type": "code",
     "checksum": "f4488c66fec32591d653e0234da76e31",
     "grade": false,
     "grade_id": "a2_1",
     "locked": false,
     "schema_version": 3,
     "solution": true,
     "task": false
    }
   },
   "outputs": [],
   "source": [
    "# CODE HIER EINGEBEN\n",
    "expr = ___ "
   ]
  },
  {
   "cell_type": "code",
   "execution_count": null,
   "metadata": {
    "deletable": false,
    "editable": false,
    "nbgrader": {
     "cell_type": "code",
     "checksum": "e6fe6853d0a8efa4882d5b963cfa7d9b",
     "grade": true,
     "grade_id": "a2_1_test",
     "locked": true,
     "points": 1,
     "schema_version": 3,
     "solution": false,
     "task": false
    }
   },
   "outputs": [],
   "source": []
  },
  {
   "cell_type": "markdown",
   "metadata": {},
   "source": [
    "b) Ein a-Element mit einem div-Element als Elternelement. Das div-Element ist irgendwo im HTML-Baum"
   ]
  },
  {
   "cell_type": "code",
   "execution_count": null,
   "metadata": {
    "deletable": false,
    "nbgrader": {
     "cell_type": "code",
     "checksum": "33f9b1b43024af62f6286491d394baa5",
     "grade": false,
     "grade_id": "a2_2",
     "locked": false,
     "schema_version": 3,
     "solution": true,
     "task": false
    }
   },
   "outputs": [],
   "source": [
    "# CODE HIER EINGEBEN\n",
    "expr = ___ "
   ]
  },
  {
   "cell_type": "code",
   "execution_count": null,
   "metadata": {
    "deletable": false,
    "editable": false,
    "nbgrader": {
     "cell_type": "code",
     "checksum": "e04ca47569e0e2ee36fc6ed9bdf8de73",
     "grade": true,
     "grade_id": "a2_2_test",
     "locked": true,
     "points": 1,
     "schema_version": 3,
     "solution": false,
     "task": false
    }
   },
   "outputs": [],
   "source": []
  },
  {
   "cell_type": "markdown",
   "metadata": {},
   "source": [
    "c) Ein img-Element mit dem Attribut \"src='https://example.com'\", irgendwo im HTML-Baum"
   ]
  },
  {
   "cell_type": "code",
   "execution_count": null,
   "metadata": {
    "deletable": false,
    "nbgrader": {
     "cell_type": "code",
     "checksum": "5b8eac69316dda087d822ff207830150",
     "grade": false,
     "grade_id": "a2_3",
     "locked": false,
     "schema_version": 3,
     "solution": true,
     "task": false
    }
   },
   "outputs": [],
   "source": [
    "# CODE HIER EINGEBEN\n",
    "expr = ___ "
   ]
  },
  {
   "cell_type": "code",
   "execution_count": null,
   "metadata": {
    "deletable": false,
    "editable": false,
    "nbgrader": {
     "cell_type": "code",
     "checksum": "f7ade8b1e120c07c366ed2f1b02b4467",
     "grade": true,
     "grade_id": "a2_3_test",
     "locked": true,
     "points": 1,
     "schema_version": 3,
     "solution": false,
     "task": false
    }
   },
   "outputs": [],
   "source": []
  },
  {
   "cell_type": "markdown",
   "metadata": {},
   "source": [
    "d) Ein button-Element mit dem Text \"Hier klicken\", irgendwo im HTML-Baum"
   ]
  },
  {
   "cell_type": "code",
   "execution_count": null,
   "metadata": {
    "deletable": false,
    "nbgrader": {
     "cell_type": "code",
     "checksum": "6b7e207f8066ec66970dc4f154977764",
     "grade": false,
     "grade_id": "a2_4",
     "locked": false,
     "schema_version": 3,
     "solution": true,
     "task": false
    }
   },
   "outputs": [],
   "source": [
    "# CODE HIER EINGEBEN\n",
    "expr = ___ "
   ]
  },
  {
   "cell_type": "code",
   "execution_count": null,
   "metadata": {
    "deletable": false,
    "editable": false,
    "nbgrader": {
     "cell_type": "code",
     "checksum": "427ee9969c2aecdc7f06d88a1d2eba9b",
     "grade": true,
     "grade_id": "a2_4_test",
     "locked": true,
     "points": 1,
     "schema_version": 3,
     "solution": false,
     "task": false
    }
   },
   "outputs": [],
   "source": []
  },
  {
   "cell_type": "markdown",
   "metadata": {},
   "source": [
    "## Aufgabe 3: Praxis Selenium\n"
   ]
  },
  {
   "cell_type": "markdown",
   "metadata": {},
   "source": [
    "1.) Diese Übungsaufgabe widmet sich der Website https://www.pinterest.com/, genauer gesagt der Unterseite https://www.pinterest.com/ideas/animals/925056443165/. Überprüft als erstes die robots.txt. Dürft ihr die Seite überhaupt scrapen? "
   ]
  },
  {
   "cell_type": "markdown",
   "metadata": {
    "deletable": false,
    "nbgrader": {
     "cell_type": "markdown",
     "checksum": "e07dee0ec6f00670cb7729ffa9c84277",
     "grade": true,
     "grade_id": "praxis-1",
     "locked": false,
     "points": 1,
     "schema_version": 3,
     "solution": true,
     "task": false
    }
   },
   "source": [
    "ANTWORT HIER EINGEBEN"
   ]
  },
  {
   "cell_type": "markdown",
   "metadata": {},
   "source": [
    "2.) Ruft im regulären Chrome-Browser die Seite [https://www.pinterest.com/ideas/animals/925056443165/](https://www.pinterest.com/ideas/animals/925056443165/) auf. Unter der Überschrift \"Ideen wie diese\" seht ihr eine Reihe Kacheln mit verschiedenen Fotos. Im Folgenden sollt ihr die Links zu allen Fotos unter dieser Überschrift extrahieren, also Links der Art \"https://i.pinimg.com/236x/83/13/be/8313bedcf4f275b4b60986a347f57c5f.jpg\". \n",
    "\n",
    "Überprüft zunächst mithilfe der Browser-Entwicklertools: Wird zur Darstellung der Kacheln mit den Tierfotos tatsächlich JavaScript verwendet?"
   ]
  },
  {
   "cell_type": "markdown",
   "metadata": {
    "deletable": false,
    "nbgrader": {
     "cell_type": "markdown",
     "checksum": "61e41dd63eb3dd72d95867ca9408133c",
     "grade": true,
     "grade_id": "praxis-2",
     "locked": false,
     "points": 1,
     "schema_version": 3,
     "solution": true,
     "task": false
    }
   },
   "source": [
    "ANTWORT HIER EINGEBEN"
   ]
  },
  {
   "cell_type": "markdown",
   "metadata": {},
   "source": [
    "3.) Nachdem ihr in Teilaufgabe 1 erfahren habt, dass JavaScript bei der Darstellung der Kacheln mit den Tierfotos beteiligt ist, wisst ihr, dass ihr zur Lösung der Aufgabe Selenium verwenden müsst. Dazu sollt ihr zunächst ein paar Fragen klären, indem ihr die Webseite und den Quellcode untersucht:"
   ]
  },
  {
   "cell_type": "markdown",
   "metadata": {},
   "source": [
    "- Navigiert in den Entwicklertools durch die HTML-Baumstruktur zu einer der Kacheln unter der Überschrift \"Ideen wie diese\". Notiert euch die CSS-Klasse aus dem class-Attribut des Elements, welches zur Darstellung der Kachel verwendet wird. Sucht mit `Strg + F (bzw. Cmd + F)` in den Entwicklertools nach dieser Klasse. Welche anderen Elemente haben dieselbe Klasse? Ist das class-Attribut geeignet, um die Kacheln unter der Überschrift \"Ideen wie diese\" eindeutig zu identifizieren? "
   ]
  },
  {
   "cell_type": "markdown",
   "metadata": {
    "deletable": false,
    "nbgrader": {
     "cell_type": "markdown",
     "checksum": "bba31b92ef8cbbc60bb4553b1d4691c1",
     "grade": true,
     "grade_id": "praxis-3-1",
     "locked": false,
     "points": 1,
     "schema_version": 3,
     "solution": true,
     "task": false
    }
   },
   "source": [
    "ANTWORT HIER EINGEBEN"
   ]
  },
  {
   "cell_type": "markdown",
   "metadata": {},
   "source": [
    "- Navigiert in den Entwicklertools nun durch das HTML-Element, das zur Darstellung der Kachel verwendet wird, bis ihr das Element mit dem Link zur Bilddatei findet. Wie heißt das Element? Wie heißt das Attribut mit dem Link? Notiert euch auch diese Information. "
   ]
  },
  {
   "cell_type": "markdown",
   "metadata": {
    "deletable": false,
    "nbgrader": {
     "cell_type": "markdown",
     "checksum": "4102ac0038a4f28aad63def848b3a477",
     "grade": true,
     "grade_id": "praxis-3-2",
     "locked": false,
     "points": 1,
     "schema_version": 3,
     "solution": true,
     "task": false
    }
   },
   "source": [
    "ANTWORT HIER EINGEBEN"
   ]
  },
  {
   "cell_type": "markdown",
   "metadata": {},
   "source": [
    "- Scrollt runter bis zum Seitenende. Sind bereits beim Seitenaufruf alle Kacheln geladen oder werden Inhalte erst beim Scrollen geladen? "
   ]
  },
  {
   "cell_type": "markdown",
   "metadata": {
    "deletable": false,
    "nbgrader": {
     "cell_type": "markdown",
     "checksum": "c64e2b24a86fa4bfb5c08dae4e1ff3ef",
     "grade": true,
     "grade_id": "praxis-3-3",
     "locked": false,
     "points": 1,
     "schema_version": 3,
     "solution": true,
     "task": false
    }
   },
   "source": [
    "ANTWORT HIER EINGEBEN"
   ]
  },
  {
   "cell_type": "markdown",
   "metadata": {},
   "source": [
    "- Schreibt zuletzt einen XPath-Ausdruck, der alle Elemente mit den Links zu den gesuchten Tierfotos findet. "
   ]
  },
  {
   "cell_type": "code",
   "execution_count": null,
   "metadata": {
    "deletable": false,
    "nbgrader": {
     "cell_type": "code",
     "checksum": "c00a35837902a308fd258c656950088e",
     "grade": true,
     "grade_id": "praxis-3-4",
     "locked": false,
     "points": 1,
     "schema_version": 3,
     "solution": true,
     "task": false
    }
   },
   "outputs": [],
   "source": [
    "# CODE HIER EINGEBEN\n",
    "img_xpath = ___"
   ]
  },
  {
   "cell_type": "markdown",
   "metadata": {},
   "source": [
    "4.) Schreibt mit den Informationen aus Teilaufgabe 2 jetzt einen Webscraper, der die Links zu allen Tierfotos extrahiert und in einer Liste speichert. Dabei könnt ihr zunächst genauso vorgehen wie im Beispiel auf der Kurswebsite. Denkt dabei daran, beim Scrollen Wartezeiten einzubauen, entweder mit time.sleep() oder Selenium Waits. In der letzten Stunde habt ihr drei verschiedene Scrollstrategien kennengelernt: Eine Strategie, bei der jedesmal um eine festgelegte Pixelanzahl gescrollt wird, eine Strategie, bei der jedes Mal um die gesamte Höhe des angezeigten Seitenbereichs gescrollt wurde, und eine Strategie, bei der bis zu einem bestimmten Element gescrollt wurde. Zum Scrollen könnt ihr eine beliebige der  Scrollstrategien verweden. \n",
    "\n",
    "Ihr müsst zur Lösung der Aufgabe die folgenden Zeilen umschreiben: \n",
    "\n",
    "* `unterkuenfte = driver.find_elements(By.XPATH, \"//div[@data-testid='listing-card-title']\")`\n",
    "\n",
    "Setzt hier den XPath-Ausdruck aus Teilaufgabe 2 ein. \n",
    "\n",
    "* `unterkuenfte_orte = [unterkunft.text for unterkunft in unterkuenfte]`\n",
    "\n",
    "In unserem Pinterest-Beispiel wollen wir aber jetzt nicht den Text extrahieren, sondern den Wert des Attributs, das den Link zur Bilddatei enthält. Das geht in Selenium mit der Methode `.get_attribute(\"name_des_attributs\")`. Also:\n",
    "\n",
    "`unterkuenfte_orte = [unterkunft.get_attribute(\"name_des_attributs\") for unterkunft in unterkuenfte]`\n",
    "\n",
    "Mehr zur Methode `.get_attribute()` in den Selenium-Dokumentationsseiten: \n",
    "[https://www.selenium.dev/documentation/webdriver/elements/information/#fetching-attributes-or-properties](https://www.selenium.dev/documentation/webdriver/elements/information/#fetching-attributes-or-properties)\n",
    "\n",
    "Natürlich solltet ihr auch passende Variablenamen wählen. "
   ]
  },
  {
   "cell_type": "code",
   "execution_count": null,
   "metadata": {
    "deletable": false,
    "nbgrader": {
     "cell_type": "code",
     "checksum": "948aa90d90b82967a550f60061eaf858",
     "grade": true,
     "grade_id": "praxis-4",
     "locked": false,
     "points": 1,
     "schema_version": 3,
     "solution": true,
     "task": false
    }
   },
   "outputs": [],
   "source": [
    "# CODE HIER EINGEBEN"
   ]
  },
  {
   "cell_type": "markdown",
   "metadata": {},
   "source": [
    "5.) Lasst euch die Liste mit den extrahierten Bilderlinks ausgeben. Es fällt auf: Die Liste enthält nicht alle Links, sondern nur die Links zu den Tierfotos am Ende der Seite! Woran könnte das liegen? Um dem Problem auf den Grund zu gehen, untersucht das Scrollverhalten mithilfe der Entwicklertools: Sucht mit Strg + F nach dem XPath-Ausdruck, den ihr zur Suche nach den Elementen mit den Links zu den Tierfotos verwendet habt, scrollt ein Stück weit runter, und sucht erneut mit Strg + F. Es sollte dabei deutlich werden, dass immer nur die Kacheln gefunden werden, die sich im aktuellen Sichtbarkeitsbereich der Webseite befinden. Auf dieser Webseite werden also die Elemente nicht dauerhaft in das HTML-Gerüst eingefügt wie auf der Seite airbnb.com, sondern nur temporär, und zwar so lange, wie ein Element im Browser angezeigt wird. Elemente können also nur dann gefunden werden, wenn sie sich im aktuell sichtbaren Seitenbereich befinden, und nicht mehr, nachdem bis zum Ende der Seite gescrollt wird. Überlegt zunächst selbst: Wie muss der Code aus Teilaufgabe 4 angepasst werden, damit alle Links extrahiert werden, und nicht nur die Links vom Seitenende? \n",
    "\n",
    "*Hinweis: Falls ihr nicht darauf kommt: Die Links müssen im Körper der while-Schleife extrahiert werden, und nicht erst nachdem die Schleife terminiert ist. Achtet dabei darauf, dass ihr vor dem Beginn der while-Schleife bereits ein leere Liste für die extrahierten Links erstellt, die ihr in jedem Schleifendurchlauf befüllt.*"
   ]
  },
  {
   "cell_type": "code",
   "execution_count": null,
   "metadata": {
    "deletable": false,
    "nbgrader": {
     "cell_type": "code",
     "checksum": "4076ef8d71347ef1057d6c2e04dee915",
     "grade": true,
     "grade_id": "praxis-5",
     "locked": false,
     "points": 1,
     "schema_version": 3,
     "solution": true,
     "task": false
    }
   },
   "outputs": [],
   "source": [
    "# CODE HIER EINGEBEN"
   ]
  },
  {
   "cell_type": "markdown",
   "metadata": {},
   "source": [
    "6.) Führt den Code erneut aus und lasst euch die Liste mit den Links ausgeben. Wie viele Links wurden jetzt gefunden? \n",
    "\n",
    "*Hinweis: Um herauszufinden, wie viele Links gefunden wurden, könnt ihr euch einfach mit len() die Länge der Liste ausgeben lassen.*"
   ]
  },
  {
   "cell_type": "code",
   "execution_count": null,
   "metadata": {
    "deletable": false,
    "nbgrader": {
     "cell_type": "code",
     "checksum": "6096585c70cb22b63a1a45901003678e",
     "grade": true,
     "grade_id": "praxis-6",
     "locked": false,
     "points": 1,
     "schema_version": 3,
     "solution": true,
     "task": false
    }
   },
   "outputs": [],
   "source": [
    "# CODE HIER EINGEBEN"
   ]
  },
  {
   "cell_type": "markdown",
   "metadata": {},
   "source": [
    "7.) Wandelt die Liste in ein Set um, um Duplikate zu entfernen, und lasst euch erneut die Anzahl der Links ausgeben. Die Liste enthält sowohl Duplikate von Bildern, die beim Scrollen zweimal im Sichtbarkeitsbereich waren (z.B. erst die eine Hälfte, dann die andere Hälfte), als auch Bilder, die tatsächlich mehrmals geposted wurden. Je nachdem, welche Scrollmethode ihr verwendet habt, enthält eure Liste deswegen unterschiedlich viele Duplikate, die beim Umwandeln in ein Set entfernt werden. "
   ]
  },
  {
   "cell_type": "code",
   "execution_count": null,
   "metadata": {
    "deletable": false,
    "nbgrader": {
     "cell_type": "code",
     "checksum": "9b8efffc52c456380613a4e4f1745c2e",
     "grade": true,
     "grade_id": "praxis-7-1",
     "locked": false,
     "points": 1,
     "schema_version": 3,
     "solution": true,
     "task": false
    }
   },
   "outputs": [],
   "source": [
    "# CODE HIER EINGEBEN"
   ]
  },
  {
   "cell_type": "markdown",
   "metadata": {},
   "source": [
    "Welche der beiden Scrollstrategien eignet sich besser, um eine möglichst geringe Anzahl von Duplikaten zu bekommen? "
   ]
  },
  {
   "cell_type": "markdown",
   "metadata": {
    "deletable": false,
    "nbgrader": {
     "cell_type": "markdown",
     "checksum": "b346db9d530c92b1575dfb5d225a23a8",
     "grade": true,
     "grade_id": "praxis-7-2",
     "locked": false,
     "points": 1,
     "schema_version": 3,
     "solution": true,
     "task": false
    }
   },
   "source": [
    "ANTWORT HIER EINGEBEN"
   ]
  },
  {
   "cell_type": "markdown",
   "metadata": {},
   "source": [
    "8.) Überlegt selbst: Kann mit den extrahierten Daten eine Forschungsfrage der Art \"Wie häufig wird Bild XY geposted\" beantwortet werden? "
   ]
  },
  {
   "cell_type": "markdown",
   "metadata": {
    "deletable": false,
    "nbgrader": {
     "cell_type": "markdown",
     "checksum": "2271d0dc5ef9028858c7c8ad53b45503",
     "grade": true,
     "grade_id": "praxis-8",
     "locked": false,
     "points": 1,
     "schema_version": 3,
     "solution": true,
     "task": false
    }
   },
   "source": [
    "ANTWORT HIER EINGEBEN"
   ]
  }
 ],
 "metadata": {
  "kernelspec": {
   "display_name": "Python 3 (ipykernel)",
   "language": "python",
   "name": "python3"
  },
  "language_info": {
   "codemirror_mode": {
    "name": "ipython",
    "version": 3
   },
   "file_extension": ".py",
   "mimetype": "text/x-python",
   "name": "python",
   "nbconvert_exporter": "python",
   "pygments_lexer": "ipython3",
   "version": "3.11.11"
  }
 },
 "nbformat": 4,
 "nbformat_minor": 4
}
