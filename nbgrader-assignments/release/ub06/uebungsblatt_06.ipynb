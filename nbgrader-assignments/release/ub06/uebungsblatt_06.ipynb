{
 "cells": [
  {
   "cell_type": "markdown",
   "metadata": {},
   "source": [
    "## Wichtige Hinweise\n",
    "\n",
    "Bevor ihr diese Aufgabe abgebt stellt sicher, dass alles wie erwartet funktioniert. Befolgt dazu diese Schritte: \n",
    "\n",
    "1. Startet den Kernel neu und führt alle Zellen aus (in der Menüleiste: Run $\\rightarrow$ Restart Kernel and Run All Cells). **Wenn es Fehlermeldungen gibt, behebt diese vor der Abgabe.**  \n",
    "2. Speichert das Notebook (Ctrl + S bzw. Cmd + S oder über File $\\rightarrow$ Save Notebook). Ändert dabei NICHT den Dateinamen.\n",
    "3. Ladet das Notebook herunter (Rechtsklick auf das Notebook $\\rightarrow$ Download).\n",
    "4. Schickt mir das Notebook per Mail an l.poggel@fu-berlin.de. Setzt dabei alle Mitbearbeiter\\:innen in Cc. \n",
    "\n",
    "Achtet auch darauf, alle Stellen auszufüllen, an denen CODE HIER EINGEBEN oder “ANTWORT HIER EINGEBEN” steht, und achtet auf die Hinweise zu den Aufgaben. Bearbeitet die Aufgaben immer genau so, wie es in der Aufgabe steht. Wenn ihr eine Antwort nicht wisst, könnt ihr einfach die entsprechende Zelle leer lassen bzw. die Platzhalter (z.B. `antwort = __`) stehen lassen. **Die leeren Codezellen, die ihr nicht bearbeiten könnt, beinhalten versteckte Tests zur automatisierten Korrektur der Aufgaben. Löscht  diese Zellen nicht und ändert nicht denn Typ der Zelle.** \n",
    "\n",
    "Gebt außerdem die Namen aller Bearbeiter\\:innen an:"
   ]
  },
  {
   "cell_type": "code",
   "execution_count": null,
   "metadata": {},
   "outputs": [],
   "source": [
    "NAME_1 = \"\"\n",
    "NAME_2 = \"\""
   ]
  },
  {
   "cell_type": "markdown",
   "metadata": {},
   "source": [
    "---"
   ]
  },
  {
   "cell_type": "markdown",
   "metadata": {},
   "source": [
    "## Aufgabe 1: Wiederholung\n",
    "\n",
    "Lest euch nochmal die Inhalte zur letzten Sitzung unter dem neuen Kapitel \"Statische Webseiten\" auf unserer [Kurs-Website](https://lipogg.github.io/webscraping-mit-python/) durch. Formuliert ein bis drei Fragen zu einem Inhalt, der euch noch nicht ganz klar ist.\n"
   ]
  },
  {
   "cell_type": "markdown",
   "metadata": {},
   "source": [
    "**Frage 1:**"
   ]
  },
  {
   "cell_type": "markdown",
   "metadata": {
    "deletable": false,
    "nbgrader": {
     "cell_type": "markdown",
     "checksum": "a9176e8bffd5edee7bb7b516839bf6b5",
     "grade": true,
     "grade_id": "frage1",
     "locked": false,
     "points": 0,
     "schema_version": 3,
     "solution": true,
     "task": false
    }
   },
   "source": [
    "ANTWORT HIER EINGEBEN"
   ]
  },
  {
   "cell_type": "markdown",
   "metadata": {},
   "source": [
    "**Frage 2:**"
   ]
  },
  {
   "cell_type": "markdown",
   "metadata": {
    "deletable": false,
    "nbgrader": {
     "cell_type": "markdown",
     "checksum": "8d9886b31087a621002fb9ce0cac2470",
     "grade": true,
     "grade_id": "frage2",
     "locked": false,
     "points": 0,
     "schema_version": 3,
     "solution": true,
     "task": false
    }
   },
   "source": [
    "ANTWORT HIER EINGEBEN"
   ]
  },
  {
   "cell_type": "markdown",
   "metadata": {},
   "source": [
    "**Frage 3:**"
   ]
  },
  {
   "cell_type": "markdown",
   "metadata": {
    "deletable": false,
    "nbgrader": {
     "cell_type": "markdown",
     "checksum": "ed9f71fca32b42aefee544cc1384e46b",
     "grade": true,
     "grade_id": "frage3",
     "locked": false,
     "points": 0,
     "schema_version": 3,
     "solution": true,
     "task": false
    }
   },
   "source": [
    "ANTWORT HIER EINGEBEN"
   ]
  },
  {
   "cell_type": "markdown",
   "metadata": {},
   "source": [
    "## Aufgabe 2: Praxis\n"
   ]
  },
  {
   "cell_type": "markdown",
   "metadata": {},
   "source": [
    "1.) Ruft die Website https://www.projekt-gutenberg.org/ auf. Hat die Seite eine robots.txt? Falls ja, welche Einschränkungen gelten für Web Scraper?"
   ]
  },
  {
   "cell_type": "markdown",
   "metadata": {
    "deletable": false,
    "nbgrader": {
     "cell_type": "markdown",
     "checksum": "e07dee0ec6f00670cb7729ffa9c84277",
     "grade": true,
     "grade_id": "praxis-1",
     "locked": false,
     "points": 1,
     "schema_version": 3,
     "solution": true,
     "task": false
    }
   },
   "source": [
    "ANTWORT HIER EINGEBEN"
   ]
  },
  {
   "cell_type": "markdown",
   "metadata": {},
   "source": [
    "2.) Sucht euch ein Werk auf https://www.projekt-gutenberg.org/ aus. Dieses Werk werdet ihr im Folgenden scrapen. Wenn ihr euch noch nicht so sicher seid, könnt ihr auch erstmal nur eine Seite extrahieren. Wenn ihr die Inhalte schon gut verstanden habt, versucht, alle Seiten eures Werks zu extrahieren. Ihr könnt euch bei eurer Lösung nach dem Beispiel auf der Kurswebsite richten. Zur Hilfestellung könnt ihr auch wieder die Browser-Entwicklertools verwenden. Wenn euch kein Text einfällt oder beim Scrapen ein Problem auftaucht, das ihr nicht lösen könnt (auf manchen Seiten von Projekt Gutenberg fehlt ein Öffnungs- oder Schließtag zu einem p-Element), könnt ihr diesen Text extrahieren: https://www.projekt-gutenberg.org/marx/manifest/titlepage.html\n",
    "\n",
    "Hinweise: \n",
    "\n",
    "- *Wenn die gesuchten HTML-Elemente nicht eindeutig über ein Attribut identifiziert werden können, könnt ihr z.B. eine Slicing-Operation mithilfe des Slicing-Operators [::] oder BeautifulSoup-Methoden wie `.select(“element ~ element”)`, `.find_previous_sibling()`, `.find_next_sibling()`, `.find_next()` oder `.find_previous()` verwenden, um nach Geschwisterelementen und bestimmten vorhergehenden oder nachfolgenden Elementen zu suchen (s. Beauti- fulSoup Dokumentation) und nicht gewünschte Elemente auszuschließen. Um ggf. überschüssigen Whitespace (Leerzeichen, Zeilenumbrüche, ...) am Anfang und Ende der extrahierten Strings zu entfernen, könnt ihr die Methode `.strip()` verwenden oder, je nach verwendeter Methode, könnt ihr auch direkt beim Methodenaufruf das Argument `strip=True` übergeben.*\n",
    "  \n",
    "- *Wir werden in der nächsten Woche eine neue Möglichkeit kennen lernen, wie Strings in Python zusammengesetzt werden können, die sogenannten F-Strings. F-Strings können mit sogenan- nten Formatierungsmustern kombiniert werden, um zum Beispiel Zahlen mit einer variablen Anzahl an führenden Nullen zu erstellen: f”irgendein string mit einer zahl {i:03d}“. Der Aus- druck i:03d in den geschweiften Klammern beschreibt, wie die Variable i formatiert werden soll. Das : teilt dem Python-Interpreter mit, dass jetzt ein Ausdruck folgt, der die Formatierung der Variable beschreibt. Die 0 gibt an, dass die Variable i mit Nullen aufgefüllt werden soll - und zwar mit genau so vielen Nullen, dass der formatierte Wert genau so viele Ziffern hat, wie der darauffolgende Wert festlegt (in diesem Fall 3). Das d gibt an, dass i als Dezimalzahl formatiert werden soll. Mehr dazu hier: https://realpython.com/python- formatted-output/#the-format_spec-component. Solche Formatierungsmuster können im Rahmen dieser Aufgabe verwendet werden, um Zahlen mit verschieden vielen führenden Nullen in URLs einzufügen.*"
   ]
  },
  {
   "cell_type": "code",
   "execution_count": null,
   "metadata": {
    "deletable": false,
    "nbgrader": {
     "cell_type": "code",
     "checksum": "407383251ac453bc66ed8ccbd68901e6",
     "grade": true,
     "grade_id": "praxis-2",
     "locked": false,
     "points": 1,
     "schema_version": 3,
     "solution": true,
     "task": false
    }
   },
   "outputs": [],
   "source": [
    "# CODE HIER EINGEBEN"
   ]
  },
  {
   "cell_type": "markdown",
   "metadata": {},
   "source": [
    "3.) Erstellt zuletzt ein Objekt, das den gescrapten Text als String enthält. Nennt das Objekt `werk_str`. Speichert den Text des Werks in einer Plaintext-Datei. Führt dazu den folgenden Code aus:"
   ]
  },
  {
   "cell_type": "code",
   "execution_count": null,
   "metadata": {
    "deletable": false,
    "editable": false,
    "nbgrader": {
     "cell_type": "code",
     "checksum": "26bc1c1712ce0e22171ae1740abd393f",
     "grade": false,
     "grade_id": "praxis-3_code",
     "locked": true,
     "schema_version": 3,
     "solution": false,
     "task": false
    }
   },
   "outputs": [],
   "source": [
    "with open('titel_eures_werks.txt', 'w', encoding='utf-8') as f: \n",
    "    f.write(werk_str)"
   ]
  },
  {
   "cell_type": "code",
   "execution_count": null,
   "metadata": {
    "deletable": false,
    "nbgrader": {
     "cell_type": "code",
     "checksum": "0167bc532ed1503e81b83adb21d58ce2",
     "grade": true,
     "grade_id": "praxis-3",
     "locked": false,
     "points": 1,
     "schema_version": 3,
     "solution": true,
     "task": false
    }
   },
   "outputs": [],
   "source": [
    "# CODE HIER EINGEBEN"
   ]
  },
  {
   "cell_type": "markdown",
   "metadata": {
    "deletable": false,
    "editable": false,
    "nbgrader": {
     "cell_type": "markdown",
     "checksum": "eea57abc66748c492baf484b963747c5",
     "grade": false,
     "grade_id": "cell-5f3b82baacfa6655",
     "locked": true,
     "schema_version": 3,
     "solution": false,
     "task": false
    }
   },
   "source": [
    "## Aufgabe 3: Vorblick\n",
    "\n",
    "Schaut euch zur Vorbereitung auf die Sitzung nächste Woche schonmal das folgende Video an (ca. 13 min.):\n",
    "* Janek Pruin (2018), “Was ist eine API?”, https://www.youtube.com/watch?v=KLe2lCEy-Xw\n",
    "\n",
    "Wenn ihr Zeit habt, lest euch außerdem schonmal das neue Kapitel “8.1 APIs” auf der Kurswebsite durch."
   ]
  }
 ],
 "metadata": {
  "kernelspec": {
   "display_name": "Python 3 (ipykernel)",
   "language": "python",
   "name": "python3"
  },
  "language_info": {
   "codemirror_mode": {
    "name": "ipython",
    "version": 3
   },
   "file_extension": ".py",
   "mimetype": "text/x-python",
   "name": "python",
   "nbconvert_exporter": "python",
   "pygments_lexer": "ipython3",
   "version": "3.11.11"
  }
 },
 "nbformat": 4,
 "nbformat_minor": 4
}
