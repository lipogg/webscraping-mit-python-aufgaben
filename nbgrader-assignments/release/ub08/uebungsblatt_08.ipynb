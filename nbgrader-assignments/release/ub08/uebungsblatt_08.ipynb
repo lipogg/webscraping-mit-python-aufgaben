{
 "cells": [
  {
   "cell_type": "markdown",
   "metadata": {},
   "source": [
    "## Wichtige Hinweise\n",
    "\n",
    "Bevor ihr diese Aufgabe abgebt stellt sicher, dass alles wie erwartet funktioniert. Befolgt dazu diese Schritte: \n",
    "\n",
    "1. Startet den Kernel neu und führt alle Zellen aus (in der Menüleiste: Run $\\rightarrow$ Restart Kernel and Run All Cells). **Wenn es Fehlermeldungen gibt, behebt diese vor der Abgabe.**  \n",
    "2. Speichert das Notebook (Ctrl + S bzw. Cmd + S oder über File $\\rightarrow$ Save Notebook). Ändert dabei NICHT den Dateinamen.\n",
    "3. Ladet das Notebook herunter (Rechtsklick auf das Notebook $\\rightarrow$ Download).\n",
    "4. Schickt mir das Notebook per Mail an l.poggel@fu-berlin.de. Setzt dabei alle Mitbearbeiter\\:innen in Cc. \n",
    "\n",
    "Achtet auch darauf, alle Stellen auszufüllen, an denen CODE HIER EINGEBEN oder “ANTWORT HIER EINGEBEN” steht, und achtet auf die Hinweise zu den Aufgaben. Bearbeitet die Aufgaben immer genau so, wie es in der Aufgabe steht. Wenn ihr eine Antwort nicht wisst, könnt ihr einfach die entsprechende Zelle leer lassen bzw. die Platzhalter (z.B. `antwort = __`) stehen lassen. **Die leeren Codezellen, die ihr nicht bearbeiten könnt, beinhalten versteckte Tests zur automatisierten Korrektur der Aufgaben. Löscht  diese Zellen nicht und ändert nicht denn Typ der Zelle.** \n",
    "\n",
    "Gebt außerdem die Namen aller Bearbeiter\\:innen an:"
   ]
  },
  {
   "cell_type": "code",
   "execution_count": null,
   "metadata": {},
   "outputs": [],
   "source": [
    "NAME_1 = \"\"\n",
    "NAME_2 = \"\""
   ]
  },
  {
   "cell_type": "markdown",
   "metadata": {},
   "source": [
    "---"
   ]
  },
  {
   "cell_type": "markdown",
   "metadata": {},
   "source": [
    "## Aufgabe 1: Wiederholung\n",
    "\n",
    "Lest euch nochmal die Inhalte zur Sitzung heute unter dem neuen Kapitel \"APIs (Exkurs)\" auf unserer [Kurs-Website](https://lipogg.github.io/webscraping-mit-python/) sowie die beiden Beispiele zur DraCor- und zur LOC-API durch. Achtet dabei insbesondere auf die Beispiele zu den drei verschiedenen Rate Limiting Strategien. Formuliert ein bis drei Fragen zu einem Inhalt, der euch noch nicht ganz klar ist.\n"
   ]
  },
  {
   "cell_type": "markdown",
   "metadata": {},
   "source": [
    "**Frage 1:**"
   ]
  },
  {
   "cell_type": "markdown",
   "metadata": {
    "deletable": false,
    "nbgrader": {
     "cell_type": "markdown",
     "checksum": "a9176e8bffd5edee7bb7b516839bf6b5",
     "grade": true,
     "grade_id": "frage1",
     "locked": false,
     "points": 0,
     "schema_version": 3,
     "solution": true,
     "task": false
    }
   },
   "source": [
    "ANTWORT HIER EINGEBEN"
   ]
  },
  {
   "cell_type": "markdown",
   "metadata": {},
   "source": [
    "**Frage 2:**"
   ]
  },
  {
   "cell_type": "markdown",
   "metadata": {
    "deletable": false,
    "nbgrader": {
     "cell_type": "markdown",
     "checksum": "8d9886b31087a621002fb9ce0cac2470",
     "grade": true,
     "grade_id": "frage2",
     "locked": false,
     "points": 0,
     "schema_version": 3,
     "solution": true,
     "task": false
    }
   },
   "source": [
    "ANTWORT HIER EINGEBEN"
   ]
  },
  {
   "cell_type": "markdown",
   "metadata": {},
   "source": [
    "**Frage 3:**"
   ]
  },
  {
   "cell_type": "markdown",
   "metadata": {
    "deletable": false,
    "nbgrader": {
     "cell_type": "markdown",
     "checksum": "ed9f71fca32b42aefee544cc1384e46b",
     "grade": true,
     "grade_id": "frage3",
     "locked": false,
     "points": 0,
     "schema_version": 3,
     "solution": true,
     "task": false
    }
   },
   "source": [
    "ANTWORT HIER EINGEBEN"
   ]
  },
  {
   "cell_type": "markdown",
   "metadata": {},
   "source": [
    "## Aufgabe 2: Verständnis\n",
    "\n",
    "Der folgende Code stellt drei Anfragen an die QuotesToScrape-Seite. Dabei wird die Abfragerate nicht kontrolliert. Schreibt den Code mithilfe von Python Dekoratoren so um, dass nur eine Anfrage alle 20 Sekunden gestellt wird. \n",
    "\n",
    "*Hinweis: Macht euch zunächst klar, was der Code eigentlich macht. Vergleicht dann den Aufbau des Codes mit dem Schema unter [\"2. Python Dekoratoren aus dem Paket ratelimit\"](https://lipogg.github.io/webscraping-mit-python/chapters/08/subchapters/03_loc_api.html#rate-limits-berucksichtigen-und-die-abfragerate-steuern). Schreibt danach den Code so um, dass der Aufbau dem Schema entspricht. Fügt zuletzt Python Dekoratoren hinzu, um die Anfragerate zu verringern.*"
   ]
  },
  {
   "cell_type": "code",
   "execution_count": null,
   "metadata": {
    "deletable": false,
    "editable": false,
    "nbgrader": {
     "cell_type": "code",
     "checksum": "40c539267a0c23281d69b1bcbe53243a",
     "grade": false,
     "grade_id": "a2_1_code",
     "locked": true,
     "schema_version": 3,
     "solution": false,
     "task": false
    }
   },
   "outputs": [],
   "source": [
    "import requests\n",
    "\n",
    "def get_status_codes(urls):\n",
    "    codes_list = [requests.get(url).status_code for url in urls]\n",
    "    return codes_list\n",
    "\n",
    "request_urls = [\"https://quotes.toscrape.com/page/1\", \"https://quotes.toscrape.com/page/4\", \"https://quotes.toscrape.com/page/7\"]\n",
    "status_codes = get_status_codes(request_urls)"
   ]
  },
  {
   "cell_type": "code",
   "execution_count": null,
   "metadata": {
    "deletable": false,
    "nbgrader": {
     "cell_type": "code",
     "checksum": "8d884d63a5210b72f150bf1b346a729e",
     "grade": true,
     "grade_id": "a2_1",
     "locked": false,
     "points": 1,
     "schema_version": 3,
     "solution": true,
     "task": false
    }
   },
   "outputs": [],
   "source": [
    "# CODE HIER EINGEBEN"
   ]
  },
  {
   "cell_type": "markdown",
   "metadata": {},
   "source": [
    "## Aufgabe 3: Praxis\n",
    "\n",
    "*Hinweis: Bei der Bearbeitung dieser Aufgaben könnt ihr euch nach dem LOC-Beispiel auf der Kurswebsite richten.*"
   ]
  },
  {
   "cell_type": "markdown",
   "metadata": {},
   "source": [
    "1.) In der letzten Stunde haben wir uns die Chronicling America API der Library of Congress angesehen. In dieser Übung werdet ihr euch mit einer weiteren LOC-API beschäftigen. Lest euch die Dokumentationsseiten unter https://www.loc.gov/apis/json-and-yaml/, https://www.loc.gov/apis/json-and-yaml/requests/endpoints/ und https://www.loc.gov/apis/json-and-yaml/requests/ durch. Welche Daten stellt die API bereit? Hat die API einen Endpunkt für den \"Prints and Photographs Online Catalog\"? Falls nicht: bietet der Katalog vielleicht eine eigene API an? An wen richtet sich die API? Recherchiert selbst.  "
   ]
  },
  {
   "cell_type": "markdown",
   "metadata": {
    "deletable": false,
    "nbgrader": {
     "cell_type": "markdown",
     "checksum": "e07dee0ec6f00670cb7729ffa9c84277",
     "grade": true,
     "grade_id": "praxis-1",
     "locked": false,
     "points": 1,
     "schema_version": 3,
     "solution": true,
     "task": false
    }
   },
   "source": [
    "ANTWORT HIER EINGEBEN"
   ]
  },
  {
   "cell_type": "markdown",
   "metadata": {},
   "source": [
    "**Im Folgenden sollt ihr mithilfe der loc.gov-API alle Bilder von Suffragetten aus dem [\"Prints and Photographs Online Catalog\"](https://loc.gov/pictures/) der LOC abfragen und in einem neuen Verzeichnis auf eurem Computer speichern. Wenn ihr herausgefordert werden wollt, bearbeitet die Aufgabe selbstständig. Wenn ihr etwas Hilfestellung benötigt, bearbeitet nacheinander die folgenden Teilaufgaben.** "
   ]
  },
  {
   "cell_type": "markdown",
   "metadata": {},
   "source": [
    "2.) Importiert zunächst die erforderlichen Pakete."
   ]
  },
  {
   "cell_type": "code",
   "execution_count": null,
   "metadata": {
    "deletable": false,
    "nbgrader": {
     "cell_type": "code",
     "checksum": "407383251ac453bc66ed8ccbd68901e6",
     "grade": true,
     "grade_id": "praxis-2",
     "locked": false,
     "points": 1,
     "schema_version": 3,
     "solution": true,
     "task": false
    }
   },
   "outputs": [],
   "source": [
    "# CODE HIER EINGEBEN"
   ]
  },
  {
   "cell_type": "markdown",
   "metadata": {},
   "source": [
    "3.) Seht euch die Dokumentation zur API des \"Prints and Photographs Online Catalog\" auf der Seite https://www.loc.gov/pictures/api an. Welche Basis-URL müsst ihr verwenden, wenn ihr Daten aus dem \"Prints and Photographs Online Catalog\" beziehen wollt? Erstellt eine neue Variable `base_url` und weist ihr den String zu."
   ]
  },
  {
   "cell_type": "code",
   "execution_count": null,
   "metadata": {
    "deletable": false,
    "nbgrader": {
     "cell_type": "code",
     "checksum": "d6a2c4c7fcce936722d9afe6274fb74b",
     "grade": false,
     "grade_id": "praxis-3",
     "locked": false,
     "schema_version": 3,
     "solution": true,
     "task": false
    }
   },
   "outputs": [],
   "source": [
    "# CODE HIER EINGEBEN"
   ]
  },
  {
   "cell_type": "code",
   "execution_count": null,
   "metadata": {
    "deletable": false,
    "editable": false,
    "nbgrader": {
     "cell_type": "code",
     "checksum": "7dd68f40b71a8c7506ba20577f78e087",
     "grade": true,
     "grade_id": "praxis-3_test",
     "locked": true,
     "points": 1,
     "schema_version": 3,
     "solution": false,
     "task": false
    }
   },
   "outputs": [],
   "source": []
  },
  {
   "cell_type": "markdown",
   "metadata": {},
   "source": [
    "4.) Welchen Endpunkt müsst ihr verwenden, wenn ihr den Katalog bei der Abfrage nach bestimmten Suchbegriffen durchsuchen wollt? Erstellt eine neue Variable `endpoint` und weist ihr den Namen des Endpunkts als String zu."
   ]
  },
  {
   "cell_type": "code",
   "execution_count": null,
   "metadata": {
    "deletable": false,
    "nbgrader": {
     "cell_type": "code",
     "checksum": "4d02c2d8b94e929cc55ecb20641e471b",
     "grade": false,
     "grade_id": "praxis-4",
     "locked": false,
     "schema_version": 3,
     "solution": true,
     "task": false
    }
   },
   "outputs": [],
   "source": [
    "# CODE HIER EINGEBEN"
   ]
  },
  {
   "cell_type": "code",
   "execution_count": null,
   "metadata": {
    "deletable": false,
    "editable": false,
    "nbgrader": {
     "cell_type": "code",
     "checksum": "b479fa8983e49231bd0097af6fc7c545",
     "grade": true,
     "grade_id": "praxis-4_test",
     "locked": true,
     "points": 1,
     "schema_version": 3,
     "solution": false,
     "task": false
    }
   },
   "outputs": [],
   "source": []
  },
  {
   "cell_type": "markdown",
   "metadata": {},
   "source": [
    "5.) Lest euch die Dokumentation zum search-Endpunkt auf der Seite https://www.loc.gov/pictures/api durch. Wie muss die Basis-URL ergänzt werden, wenn nach dem Suchbegriff \"suffragettes\" und Format \"json\" gesucht werden soll? Erstellt zwei neue Variablen `searchterm = \"suffragettes\"` und `response_format = \"json\"`. Erstellt anschließend eine Variable `url` und weist ihr einen F-String zu, der die Basis-URL aus Teilaufgabe 3, den Endpunkt aus Teilaufgabe 4 und die beiden Suchparameter in einen String mit der korrekten Syntax zusammenfügt. "
   ]
  },
  {
   "cell_type": "code",
   "execution_count": null,
   "metadata": {
    "deletable": false,
    "nbgrader": {
     "cell_type": "code",
     "checksum": "95eeb4767628bf5aba99bf44fa34f118",
     "grade": false,
     "grade_id": "praxis-5",
     "locked": false,
     "schema_version": 3,
     "solution": true,
     "task": false
    }
   },
   "outputs": [],
   "source": [
    "# CODE HIER EINGEBEN"
   ]
  },
  {
   "cell_type": "code",
   "execution_count": null,
   "metadata": {
    "deletable": false,
    "editable": false,
    "nbgrader": {
     "cell_type": "code",
     "checksum": "4498beefa8d720e901cdb14829eca36b",
     "grade": true,
     "grade_id": "praxis-5_test",
     "locked": true,
     "points": 1,
     "schema_version": 3,
     "solution": false,
     "task": false
    }
   },
   "outputs": [],
   "source": []
  },
  {
   "cell_type": "markdown",
   "metadata": {},
   "source": [
    "6.) Führt eine HTTP GET-Anfrage für die soeben zusammengesetzte URL durch, wandelt die Antwort in ein Python Dictionary um und weist das Dictionary einer Variable zu. "
   ]
  },
  {
   "cell_type": "code",
   "execution_count": null,
   "metadata": {
    "deletable": false,
    "nbgrader": {
     "cell_type": "code",
     "checksum": "6096585c70cb22b63a1a45901003678e",
     "grade": true,
     "grade_id": "praxis-6",
     "locked": false,
     "points": 1,
     "schema_version": 3,
     "solution": true,
     "task": false
    }
   },
   "outputs": [],
   "source": [
    "# CODE HIER EINGEBEN"
   ]
  },
  {
   "cell_type": "markdown",
   "metadata": {},
   "source": [
    "7.) Seht euch das Dictionary genau an. Unter welchem Schlüssel befinden sich die Suchergebnisse? Wie sind die Suchergebnisse organisiert? Wie viele Suchergebnisse hat die GET-Anfrage geliefert? Sind das alle Suchergebnisse oder nur die Ergebnisse von der ersten Ergebnisseite? Wie viele Ergebnisseiten gibt es insgesamt? Überprüft eure Antworten, indem ihr unter https://loc.gov/pictures/ nach \"suffragettes\" sucht und die Ergebnisse der Suche über die Suchmaske mit den Ergebnissen aus der API-Abfrage vergleicht."
   ]
  },
  {
   "cell_type": "markdown",
   "metadata": {
    "deletable": false,
    "nbgrader": {
     "cell_type": "markdown",
     "checksum": "e8314e58c27f4d4a19cec3fb049404a9",
     "grade": true,
     "grade_id": "praxis-7",
     "locked": false,
     "points": 1,
     "schema_version": 3,
     "solution": true,
     "task": false
    }
   },
   "source": [
    "ANTWORT HIER EINGEBEN"
   ]
  },
  {
   "cell_type": "markdown",
   "metadata": {},
   "source": [
    "8.) Greift über den entsprechenden Schlüssel im Dictionary auf die Suchergebnisse zu und weist sie einer neuen Variable zu. Seht euch die ersten drei Suchergebnisse genauer an. Welcher Schlüssel enthält eine eindeutige Identifikationsnummer? Im Folgenden werdet ihr diese Identifikationsnummer zur Erstellung von eindeutigen  Dateinamen verwenden. Seht euch die Suchergebnisse noch einmal an. Welcher Schlüssel enthält einen Link zu der gefundenen Bilddatei in möglichst guter Auflösung? Wie kann man darauf zugreifen?"
   ]
  },
  {
   "cell_type": "code",
   "execution_count": null,
   "metadata": {
    "deletable": false,
    "nbgrader": {
     "cell_type": "code",
     "checksum": "8f2b32b147c099bc7e6eea2460755123",
     "grade": true,
     "grade_id": "praxis-8",
     "locked": false,
     "points": 1,
     "schema_version": 3,
     "solution": true,
     "task": false
    }
   },
   "outputs": [],
   "source": [
    "# CODE HIER EINGEBEN"
   ]
  },
  {
   "cell_type": "markdown",
   "metadata": {},
   "source": [
    "9.) Schreibt eine for-Schleife, die durch die Variable mit den Suchergebnissen iteriert. In jedem Schleifendurchlauf soll zunächst die Identifikationsnummer des aktuellen Suchergebnisses einer neuen Variable `image_id` zugewiesen werden. Danach soll der Link zu der Bilddatei in der vollen Größe einer weiteren Variable `image_url` zugewiesen werden. Danach soll eine HTTP GET-Anfrage für diese URL durchgeführt werden und der Inhalt der Antwort (Attribut `content`) soll einer neuen Variable `image` zugewiesen werden. Zuletzt soll das Bild in einer neuen Datei gespeichert werden. Beim Öffnen der Datei soll als Dateiendung \".jpg\" festgelegt werden und als Zugriffsmodus \"wb\". "
   ]
  },
  {
   "cell_type": "code",
   "execution_count": null,
   "metadata": {
    "deletable": false,
    "nbgrader": {
     "cell_type": "code",
     "checksum": "819686d710a436ffe77344150edb4b13",
     "grade": true,
     "grade_id": "praxis-9",
     "locked": false,
     "points": 1,
     "schema_version": 3,
     "solution": true,
     "task": false
    }
   },
   "outputs": [],
   "source": [
    "# CODE HIER EINGEBEN"
   ]
  },
  {
   "cell_type": "markdown",
   "metadata": {},
   "source": [
    "10.) Legt jetzt ein neues Verzeichnis an, in dem ihr später die Bilder der Suffragetten abspeichern werdet."
   ]
  },
  {
   "cell_type": "code",
   "execution_count": null,
   "metadata": {
    "deletable": false,
    "nbgrader": {
     "cell_type": "code",
     "checksum": "11def1140d570a9e4aad9902905e5800",
     "grade": true,
     "grade_id": "praxis-10",
     "locked": false,
     "points": 1,
     "schema_version": 3,
     "solution": true,
     "task": false
    }
   },
   "outputs": [],
   "source": [
    "# CODE HIER EINGEBEN"
   ]
  },
  {
   "cell_type": "markdown",
   "metadata": {},
   "source": [
    "**Im Folgenden soll die for-Schleife aus Teilaufgabe 9 für alle Ergebnisseiten reproduziert werden. Überlegt zunächst selbst, wie man dabei vorgehen könnte und formuliert in ein paar Worten einen Lösungsansatz. Versucht, euren Lösungsansatz umzusetzen. Wenn das nicht klappt, könnt ihr stattdessen meinem Lösungsansatz in den Teilaufgaben 12 und 13 folgen.**"
   ]
  },
  {
   "cell_type": "markdown",
   "metadata": {},
   "source": [
    "11.) Schaut euch zunächst noch einmal das Python Dictionary zur allerersten GET-Anfrage aus Teilaufgabe 7 und eure Antwort zu Teilaufgabe 8 an. Welcher Schlüssel enthält als Wert die Gesamtanzahl der Ergebnisseiten? Greift auf diesen Wert zu und weist ihn einer neun Variable `total_pages` zu."
   ]
  },
  {
   "cell_type": "code",
   "execution_count": null,
   "metadata": {
    "deletable": false,
    "nbgrader": {
     "cell_type": "code",
     "checksum": "643e73d450a3b9670dbc56f751ed62d0",
     "grade": true,
     "grade_id": "praxis-11",
     "locked": false,
     "points": 1,
     "schema_version": 3,
     "solution": true,
     "task": false
    }
   },
   "outputs": [],
   "source": [
    "# CODE HIER EINGEBEN"
   ]
  },
  {
   "cell_type": "markdown",
   "metadata": {},
   "source": [
    "12.) Seht euch den Schlüssel \"page_list\" mit den Ergebnisseiten an. Jede Ergebnisseite hat einen Zusatzparameter `sp` mit der aktuellen Seitenzahl. Fügt diesen Parameter an eure Abfrage-URL an. Erstellt eine for-Schleife, die alle Ergebnisseiten durchläuft. In jedem Schleifendurchlauf soll zunächst die aktuelle Seitenzahl an die Abfrage-URL angefügt werden. anschließend soll eine HTTP GET-Anfrage für die aktuelle URL durchgeführt werden und die Antwort in ein Python Dictionary umgewandelt werden (Vgl. Teilaufgabe 6). Danach sollen die Suchergebnisse einer neuen Variable zugewiesen werden (Vgl. Teilaufgabe 8). Zuletzt soll das Objekt mit den Suchergebnissen durchlaufen werden und jedes Bild soll in einer Datei mit der Identifikationsnummer als Dateiname in dem in Teilaufgabe 10 angelegten Verzeichnis gespeichert werden (Vgl. Teilaufgabe 9). Führt die Schleife noch nicht aus."
   ]
  },
  {
   "cell_type": "code",
   "execution_count": null,
   "metadata": {
    "deletable": false,
    "nbgrader": {
     "cell_type": "code",
     "checksum": "148e2a7d69f654ff93f3d022905dfd75",
     "grade": true,
     "grade_id": "praxis-12",
     "locked": false,
     "points": 1,
     "schema_version": 3,
     "solution": true,
     "task": false
    }
   },
   "outputs": [],
   "source": [
    "# CODE HIER EINGEBEN"
   ]
  },
  {
   "cell_type": "markdown",
   "metadata": {},
   "source": [
    "13.) Bevor ihr den Code aus Teilaufgabe 12 ausführt, müsst ihr noch die Abfragerate an die Vorgaben der LOC anpassen. Die erlaubte Abfragerate könnt ihr dem Abschnitt \"Collections, format, and other endpoints\" auf der Seite https://www.loc.gov/apis/json-and-yaml/working-within-limits/ entnehmen. "
   ]
  },
  {
   "cell_type": "code",
   "execution_count": null,
   "metadata": {
    "deletable": false,
    "nbgrader": {
     "cell_type": "code",
     "checksum": "0da1a685b0315f329156e1091467cc03",
     "grade": true,
     "grade_id": "praxis-13",
     "locked": false,
     "points": 1,
     "schema_version": 3,
     "solution": true,
     "task": false
    }
   },
   "outputs": [],
   "source": [
    "# CODE HIER EINGEBEN"
   ]
  },
  {
   "cell_type": "markdown",
   "metadata": {},
   "source": [
    "14.) Führt zuletzt den Code aus Teilaufgabe 12 aus und schaut euch die heruntergeladenen Dateien an. Hat alles geklappt? \n",
    "\n",
    "***Achtung:** In dem neuen Verzeichnis liegt am Ende ein Objekt mehr als die in Teilaufgabe 11 ermittelte Anzahl. Das liegt daran, dass bei der Arbeit mit Jupyter Notebooks automatisch ein unsichtbares Verzeichnis angelegt wird, das .ipynb_checkpoints heißt. Falls ihr euch also die Anzahl der Dateien in eurem Ordner anzeigen lasst und über die Zahl stolpert, wundert euch nicht: Das liegt an dem versteckten Verzeichnis.*"
   ]
  },
  {
   "cell_type": "code",
   "execution_count": null,
   "metadata": {
    "deletable": false,
    "nbgrader": {
     "cell_type": "code",
     "checksum": "b0cb7d5a89cddf80e312d08430378f6e",
     "grade": true,
     "grade_id": "praxis-14",
     "locked": false,
     "points": 1,
     "schema_version": 3,
     "solution": true,
     "task": false
    }
   },
   "outputs": [],
   "source": [
    "# CODE HIER EINGEBEN"
   ]
  },
  {
   "cell_type": "markdown",
   "metadata": {},
   "source": [
    "15.) Erläutert zuletzt, was aus eurer Sicht die Vor- und Nachteile sind, wenn man Identifikationsnummern anstelle von Titel und Datum als Dateinamen wählt: Welche Probleme könnten auftauchen, wenn die Werte der Schlüssel \"title\" und \"created_published_date\" statt \"pk\" als Dateinamen verwendet werden? "
   ]
  },
  {
   "cell_type": "markdown",
   "metadata": {
    "deletable": false,
    "nbgrader": {
     "cell_type": "markdown",
     "checksum": "dd76ea8da2c011f49d3c2c0b73f8d08d",
     "grade": true,
     "grade_id": "praxis-15",
     "locked": false,
     "points": 1,
     "schema_version": 3,
     "solution": true,
     "task": false
    }
   },
   "source": [
    "ANTWORT HIER EINGEBEN"
   ]
  },
  {
   "cell_type": "markdown",
   "metadata": {},
   "source": [
    "## Aufgabe 4: Vorblick\n",
    "\n",
    "Lest den neuen Abschnitt [\"9.1 Statisch vs. Dynamisch\"](https://lipogg.github.io/webscraping-mit-python/chapters/09/subchapters/01_statisch_vs_dynamisch.html) auf der Kurswebsite. \n",
    "\n",
    "Öffnet anschließend die Webseite, die ihr im Rahmen eurer Projektarbeit scrapen wollt im Chrome Browser. Stellt über die Entwicklerwerkzeuge JavaScript aus und ladet die Seite neu. Werden die Inhalte, die ihr extrahieren wollt, mithilfe von JavaScript geladen und dargestellt? Gibt es vielleicht eine API, welche Zugriff auf die Daten ermöglicht? "
   ]
  }
 ],
 "metadata": {
  "kernelspec": {
   "display_name": "Python 3 (ipykernel)",
   "language": "python",
   "name": "python3"
  },
  "language_info": {
   "codemirror_mode": {
    "name": "ipython",
    "version": 3
   },
   "file_extension": ".py",
   "mimetype": "text/x-python",
   "name": "python",
   "nbconvert_exporter": "python",
   "pygments_lexer": "ipython3",
   "version": "3.11.11"
  }
 },
 "nbformat": 4,
 "nbformat_minor": 4
}
