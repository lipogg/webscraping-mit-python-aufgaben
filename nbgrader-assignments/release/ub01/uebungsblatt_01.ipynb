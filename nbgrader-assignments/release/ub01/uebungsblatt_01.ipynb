{
 "cells": [
  {
   "cell_type": "markdown",
   "metadata": {},
   "source": [
    "## Wichtige Hinweise\n",
    "\n",
    "Bevor ihr diese Aufgabe abgebt stellt sicher, dass alles wie erwartet funktioniert. Befolgt dazu diese Schritte: \n",
    "\n",
    "1. Startet den Kernel neu und führt alle Zellen aus (in der Menüleiste: Run $\\rightarrow$ Restart Kernel and Run All Cells). Wenn es Fehlermeldungen gibt, behebt diese.  \n",
    "2. Speichert das Notebook (Ctrl + S bzw. Cmd + S oder über File $\\rightarrow$ Save Notebook). Ändert dabei NICHT den Dateinamen.\n",
    "3. Ladet das Notebook herunter (Rechtsklick auf das Notebook $\\rightarrow$ Download).\n",
    "\n",
    "Achtet auch darauf, alle Stellen auszufüllen, an denen CODE HIER EINGEBEN oder “ANTWORT HIER EINGEBEN” steht, und achtet auf die Hinweise zu den Aufgaben. Wenn ihr eine Antwort nicht wisst, könnt ihr einfach die entsprechende Zelle leer lassen bzw. die Platzhalter (z.B. `antwort = __`) stehen lassen. **Die leeren Codezellen, die ihr nicht bearbeiten könnt, beinhalten versteckte Tests zur automatisierten Korrektur der Aufgaben. Löscht diese Zellen nicht.** \n",
    "\n",
    "Gebt außerdem die Namen aller Bearbeiter\\:innen an:"
   ]
  },
  {
   "cell_type": "code",
   "execution_count": null,
   "metadata": {},
   "outputs": [],
   "source": [
    "NAME_1 = \"\"\n",
    "NAME_2 = \"\""
   ]
  },
  {
   "cell_type": "markdown",
   "metadata": {},
   "source": [
    "---"
   ]
  },
  {
   "cell_type": "markdown",
   "metadata": {},
   "source": [
    "## Aufgabe 1: Wiederholung\n",
    "\n",
    "Lest euch nochmal die Inhalte zur Sitzung heute unter dem neuen Kapitel \"Python I\" auf unserer [Kurs-Website](https://lipogg.github.io/webscraping-mit-python/) durch. Formuliert ein bis drei Fragen zu einem Inhalt, der euch noch nicht ganz klar ist.\n"
   ]
  },
  {
   "cell_type": "markdown",
   "metadata": {},
   "source": [
    "**Frage 1:**"
   ]
  },
  {
   "cell_type": "markdown",
   "metadata": {
    "deletable": false,
    "nbgrader": {
     "cell_type": "markdown",
     "checksum": "a9176e8bffd5edee7bb7b516839bf6b5",
     "grade": true,
     "grade_id": "frage1",
     "locked": false,
     "points": 0,
     "schema_version": 3,
     "solution": true,
     "task": false
    }
   },
   "source": [
    "ANTWORT HIER EINGEBEN"
   ]
  },
  {
   "cell_type": "markdown",
   "metadata": {},
   "source": [
    "**Frage 2:**"
   ]
  },
  {
   "cell_type": "markdown",
   "metadata": {
    "deletable": false,
    "nbgrader": {
     "cell_type": "markdown",
     "checksum": "8d9886b31087a621002fb9ce0cac2470",
     "grade": true,
     "grade_id": "frage2",
     "locked": false,
     "points": 0,
     "schema_version": 3,
     "solution": true,
     "task": false
    }
   },
   "source": [
    "ANTWORT HIER EINGEBEN"
   ]
  },
  {
   "cell_type": "markdown",
   "metadata": {},
   "source": [
    "**Frage 3:**"
   ]
  },
  {
   "cell_type": "markdown",
   "metadata": {
    "deletable": false,
    "nbgrader": {
     "cell_type": "markdown",
     "checksum": "ed9f71fca32b42aefee544cc1384e46b",
     "grade": true,
     "grade_id": "frage3",
     "locked": false,
     "points": 0,
     "schema_version": 3,
     "solution": true,
     "task": false
    }
   },
   "source": [
    "ANTWORT HIER EINGEBEN"
   ]
  },
  {
   "cell_type": "markdown",
   "metadata": {},
   "source": [
    "## Aufgabe 2: Begriffsklärung\n",
    "\n",
    "1.) Erläutert kurz in euren eigenen Worten die folgenden Begriffe: "
   ]
  },
  {
   "cell_type": "markdown",
   "metadata": {},
   "source": [
    "**Zeichenkette**"
   ]
  },
  {
   "cell_type": "markdown",
   "metadata": {
    "deletable": false,
    "nbgrader": {
     "cell_type": "markdown",
     "checksum": "904c5d1f5f062ecea07f70a90869f1bf",
     "grade": true,
     "grade_id": "a2_1_zeichenkette",
     "locked": false,
     "points": 1,
     "schema_version": 3,
     "solution": true,
     "task": false
    }
   },
   "source": [
    "ANTWORT HIER EINGEBEN"
   ]
  },
  {
   "cell_type": "markdown",
   "metadata": {},
   "source": [
    "**Datentyp**"
   ]
  },
  {
   "cell_type": "markdown",
   "metadata": {
    "deletable": false,
    "nbgrader": {
     "cell_type": "markdown",
     "checksum": "d6852bed6b35ab14727bad28f1abcfe5",
     "grade": true,
     "grade_id": "a2_1_datentyp",
     "locked": false,
     "points": 1,
     "schema_version": 3,
     "solution": true,
     "task": false
    }
   },
   "source": [
    "ANTWORT HIER EINGEBEN"
   ]
  },
  {
   "cell_type": "markdown",
   "metadata": {},
   "source": [
    "**Variable**"
   ]
  },
  {
   "cell_type": "markdown",
   "metadata": {
    "deletable": false,
    "nbgrader": {
     "cell_type": "markdown",
     "checksum": "1e697e6ec6035ee4bd28ba437aa90793",
     "grade": true,
     "grade_id": "a2_1_variable",
     "locked": false,
     "points": 1,
     "schema_version": 3,
     "solution": true,
     "task": false
    }
   },
   "source": [
    "ANTWORT HIER EINGEBEN"
   ]
  },
  {
   "cell_type": "markdown",
   "metadata": {},
   "source": [
    "2.) Sind die folgenden Variablennamen in Python erlaubt? \n",
    "\n",
    "*Hinweis: Gebt `antwort = True` für \"Ja\" ein und `antwort = False` für \"Nein\". Wenn ihr die Antwort nicht wisst, lasst einfach den Platzhalter `antwort = __` stehen.*\n",
    "\n",
    "a) `1satz`"
   ]
  },
  {
   "cell_type": "code",
   "execution_count": null,
   "metadata": {
    "deletable": false,
    "nbgrader": {
     "cell_type": "code",
     "checksum": "8a20c3955383b7f7f581004702ce4303",
     "grade": false,
     "grade_id": "a2_2_variablen_a",
     "locked": false,
     "schema_version": 3,
     "solution": true,
     "task": false
    }
   },
   "outputs": [],
   "source": [
    "# CODE HIER EINGEBEN\n",
    "antwort = __"
   ]
  },
  {
   "cell_type": "code",
   "execution_count": null,
   "metadata": {
    "deletable": false,
    "editable": false,
    "nbgrader": {
     "cell_type": "code",
     "checksum": "452463a5ef2c162ed73447fe2d18160a",
     "grade": true,
     "grade_id": "a2_2_variablen_a_test",
     "locked": true,
     "points": 1,
     "schema_version": 3,
     "solution": false,
     "task": false
    }
   },
   "outputs": [],
   "source": []
  },
  {
   "cell_type": "markdown",
   "metadata": {},
   "source": [
    "b) `1_satz`"
   ]
  },
  {
   "cell_type": "code",
   "execution_count": null,
   "metadata": {
    "deletable": false,
    "nbgrader": {
     "cell_type": "code",
     "checksum": "397908c9a65df44648cb5ebb786390dd",
     "grade": false,
     "grade_id": "a2_2_variablen_b-solution",
     "locked": false,
     "schema_version": 3,
     "solution": true,
     "task": false
    }
   },
   "outputs": [],
   "source": [
    "# CODE HIER EINGEBEN\n",
    "antwort = __"
   ]
  },
  {
   "cell_type": "code",
   "execution_count": null,
   "metadata": {
    "deletable": false,
    "editable": false,
    "nbgrader": {
     "cell_type": "code",
     "checksum": "711a3b0b44d9fdd5a199211402dadfaf",
     "grade": true,
     "grade_id": "a2_2_variablen_b-test",
     "locked": true,
     "points": 0,
     "schema_version": 3,
     "solution": false,
     "task": false
    }
   },
   "outputs": [],
   "source": []
  },
  {
   "cell_type": "markdown",
   "metadata": {},
   "source": [
    "c) `satz_5`"
   ]
  },
  {
   "cell_type": "code",
   "execution_count": null,
   "metadata": {
    "deletable": false,
    "nbgrader": {
     "cell_type": "code",
     "checksum": "df00712073ce0a9f210fb51fffda53a2",
     "grade": false,
     "grade_id": "a2_2_variablen_c",
     "locked": false,
     "schema_version": 3,
     "solution": true,
     "task": false
    }
   },
   "outputs": [],
   "source": [
    "# CODE HIER EINGEBEN\n",
    "antwort = __"
   ]
  },
  {
   "cell_type": "code",
   "execution_count": null,
   "metadata": {
    "deletable": false,
    "editable": false,
    "nbgrader": {
     "cell_type": "code",
     "checksum": "6e8517566f6e31cf0461ee5e8b81029f",
     "grade": true,
     "grade_id": "a2_2_variablen_c_test",
     "locked": true,
     "points": 1,
     "schema_version": 3,
     "solution": false,
     "task": false
    }
   },
   "outputs": [],
   "source": []
  },
  {
   "cell_type": "markdown",
   "metadata": {},
   "source": [
    "d) `ein satz`"
   ]
  },
  {
   "cell_type": "code",
   "execution_count": null,
   "metadata": {
    "deletable": false,
    "nbgrader": {
     "cell_type": "code",
     "checksum": "63ac22a251031738d459bfe4b103a2ea",
     "grade": false,
     "grade_id": "a2_2_variablen_d",
     "locked": false,
     "schema_version": 3,
     "solution": true,
     "task": false
    }
   },
   "outputs": [],
   "source": [
    "# CODE HIER EINGEBEN\n",
    "antwort = __"
   ]
  },
  {
   "cell_type": "code",
   "execution_count": null,
   "metadata": {
    "deletable": false,
    "editable": false,
    "nbgrader": {
     "cell_type": "code",
     "checksum": "5b0af262a8a8039a0f861e38a179c874",
     "grade": true,
     "grade_id": "a2_2_variablen_d_test",
     "locked": true,
     "points": 1,
     "schema_version": 3,
     "solution": false,
     "task": false
    }
   },
   "outputs": [],
   "source": []
  },
  {
   "cell_type": "markdown",
   "metadata": {},
   "source": [
    "e) `ein.satz`"
   ]
  },
  {
   "cell_type": "code",
   "execution_count": null,
   "metadata": {
    "deletable": false,
    "nbgrader": {
     "cell_type": "code",
     "checksum": "e0f5bb0bea5bb1a4d834f4158ab3bcb3",
     "grade": false,
     "grade_id": "a2_2_variablen_e",
     "locked": false,
     "schema_version": 3,
     "solution": true,
     "task": false
    }
   },
   "outputs": [],
   "source": [
    "# CODE HIER EINGEBEN\n",
    "antwort = __"
   ]
  },
  {
   "cell_type": "code",
   "execution_count": null,
   "metadata": {
    "deletable": false,
    "editable": false,
    "nbgrader": {
     "cell_type": "code",
     "checksum": "a434795e7721106b0ee658871e1d10ec",
     "grade": true,
     "grade_id": "a2_2_variablen_e_tests",
     "locked": true,
     "points": 1,
     "schema_version": 3,
     "solution": false,
     "task": false
    }
   },
   "outputs": [],
   "source": []
  },
  {
   "cell_type": "markdown",
   "metadata": {},
   "source": [
    "f) `EIN_SATZ`"
   ]
  },
  {
   "cell_type": "code",
   "execution_count": null,
   "metadata": {
    "deletable": false,
    "nbgrader": {
     "cell_type": "code",
     "checksum": "b1d61566b1899d0a3e42dff035a147ef",
     "grade": false,
     "grade_id": "a2_2_variablen_f",
     "locked": false,
     "schema_version": 3,
     "solution": true,
     "task": false
    }
   },
   "outputs": [],
   "source": [
    "# CODE HIER EINGEBEN\n",
    "antwort = __"
   ]
  },
  {
   "cell_type": "code",
   "execution_count": null,
   "metadata": {
    "deletable": false,
    "editable": false,
    "nbgrader": {
     "cell_type": "code",
     "checksum": "b123ab2b612570bbaf21c9b73ccb4365",
     "grade": true,
     "grade_id": "a2_2_variablen_f_test",
     "locked": true,
     "points": 1,
     "schema_version": 3,
     "solution": false,
     "task": false
    }
   },
   "outputs": [],
   "source": []
  },
  {
   "cell_type": "markdown",
   "metadata": {},
   "source": [
    "3.) Fügt über jeder Zeile im folgenden Code einen Kommentar hinzu, der in euren eigenen Worten beschreibt, was in der jeweiligen Zeile passiert.\n",
    "\n",
    "*Hinweis: Kommentare werden üblicherweise im Infinitiv formuliert. Ein möglicher Kommentar für die Codezeile `print(\"Hallo\")` wäre z.B. `# Zeichenkette \"Hallo\" ausgeben`.*"
   ]
  },
  {
   "cell_type": "code",
   "execution_count": null,
   "metadata": {
    "deletable": false,
    "editable": false,
    "nbgrader": {
     "cell_type": "code",
     "checksum": "c8e2a87b96901f02c935df2a15f660f9",
     "grade": false,
     "grade_id": "a2_3_kommentare_code",
     "locked": true,
     "schema_version": 3,
     "solution": false,
     "task": false
    }
   },
   "outputs": [],
   "source": [
    "begruessung = \"Guten Tag\"\n",
    "begruessung == \"Guten Abend\"\n",
    "begruessung[0]"
   ]
  },
  {
   "cell_type": "code",
   "execution_count": null,
   "metadata": {
    "deletable": false,
    "nbgrader": {
     "cell_type": "code",
     "checksum": "8454a2bea36955ad7c5d8b0f2208a8bd",
     "grade": true,
     "grade_id": "a2_3_kommentare",
     "locked": false,
     "points": 1,
     "schema_version": 3,
     "solution": true,
     "task": false
    }
   },
   "outputs": [],
   "source": [
    "# CODE HIER EINGEBEN"
   ]
  },
  {
   "cell_type": "markdown",
   "metadata": {},
   "source": [
    "4.) Welchen Datentyp haben die folgenden Objekte?\n",
    "\n",
    "*Hinweis: Verwendet dabei die englischsprachigen Abkürzungen int, float, bool und str und gebt die Antwort nach dem Schema `antwort = \"x\"` an, also z.B. `antwort = \"bool\"`. Wenn ihr die Antwort nicht wisst, lasst einfach den Platzhalter `antwort = __` stehen.*"
   ]
  },
  {
   "cell_type": "code",
   "execution_count": null,
   "metadata": {},
   "outputs": [],
   "source": [
    "True"
   ]
  },
  {
   "cell_type": "code",
   "execution_count": null,
   "metadata": {
    "deletable": false,
    "nbgrader": {
     "cell_type": "code",
     "checksum": "b50ee3d32e96db296e010ba365400f74",
     "grade": false,
     "grade_id": "a2_4_datentypen_1",
     "locked": false,
     "schema_version": 3,
     "solution": true,
     "task": false
    }
   },
   "outputs": [],
   "source": [
    "# CODE HIER EINGEBEN\n",
    "antwort = __"
   ]
  },
  {
   "cell_type": "code",
   "execution_count": null,
   "metadata": {
    "deletable": false,
    "editable": false,
    "nbgrader": {
     "cell_type": "code",
     "checksum": "f7ee62d4ebbd1cffb389b7866a76823f",
     "grade": true,
     "grade_id": "a2_4_datentypen_1_test",
     "locked": true,
     "points": 1,
     "schema_version": 3,
     "solution": false,
     "task": false
    }
   },
   "outputs": [],
   "source": []
  },
  {
   "cell_type": "code",
   "execution_count": null,
   "metadata": {},
   "outputs": [],
   "source": [
    "\"False\""
   ]
  },
  {
   "cell_type": "code",
   "execution_count": null,
   "metadata": {
    "deletable": false,
    "nbgrader": {
     "cell_type": "code",
     "checksum": "6a5bc80a46c2982ca9d797506812c34a",
     "grade": false,
     "grade_id": "a2_4_datentypen_2",
     "locked": false,
     "schema_version": 3,
     "solution": true,
     "task": false
    }
   },
   "outputs": [],
   "source": [
    "# CODE HIER EINGEBEN\n",
    "antwort = __"
   ]
  },
  {
   "cell_type": "code",
   "execution_count": null,
   "metadata": {
    "deletable": false,
    "editable": false,
    "nbgrader": {
     "cell_type": "code",
     "checksum": "1d474407b59f775abe000e83a4e359ef",
     "grade": true,
     "grade_id": "a2_4_datentypen_2_test",
     "locked": true,
     "points": 1,
     "schema_version": 3,
     "solution": false,
     "task": false
    }
   },
   "outputs": [],
   "source": []
  },
  {
   "cell_type": "code",
   "execution_count": null,
   "metadata": {},
   "outputs": [],
   "source": [
    "12**5"
   ]
  },
  {
   "cell_type": "code",
   "execution_count": null,
   "metadata": {
    "deletable": false,
    "nbgrader": {
     "cell_type": "code",
     "checksum": "6b8e4a8c9ed472c5f83cc24d09d21c65",
     "grade": false,
     "grade_id": "a2_4_datentypen_3",
     "locked": false,
     "schema_version": 3,
     "solution": true,
     "task": false
    }
   },
   "outputs": [],
   "source": [
    "# CODE HIER EINGEBEN\n",
    "antwort = __"
   ]
  },
  {
   "cell_type": "code",
   "execution_count": null,
   "metadata": {
    "deletable": false,
    "editable": false,
    "nbgrader": {
     "cell_type": "code",
     "checksum": "7f001c12238192fc33597bd71bd34f00",
     "grade": true,
     "grade_id": "a2_4_datentypen_3_test",
     "locked": true,
     "points": 1,
     "schema_version": 3,
     "solution": false,
     "task": false
    }
   },
   "outputs": [],
   "source": []
  },
  {
   "cell_type": "code",
   "execution_count": null,
   "metadata": {},
   "outputs": [],
   "source": [
    "\" \""
   ]
  },
  {
   "cell_type": "code",
   "execution_count": null,
   "metadata": {
    "deletable": false,
    "nbgrader": {
     "cell_type": "code",
     "checksum": "ebb7d33a23d7fac56f05826ae163dc1e",
     "grade": false,
     "grade_id": "a2_4_datentypen_4",
     "locked": false,
     "schema_version": 3,
     "solution": true,
     "task": false
    }
   },
   "outputs": [],
   "source": [
    "# CODE HIER EINGEBEN\n",
    "antwort = __"
   ]
  },
  {
   "cell_type": "code",
   "execution_count": null,
   "metadata": {
    "deletable": false,
    "editable": false,
    "nbgrader": {
     "cell_type": "code",
     "checksum": "737d7f7387e2328ebbfca0cf6031e3e3",
     "grade": true,
     "grade_id": "a2_4_datentypen_4_test",
     "locked": true,
     "points": 1,
     "schema_version": 3,
     "solution": false,
     "task": false
    }
   },
   "outputs": [],
   "source": []
  },
  {
   "cell_type": "code",
   "execution_count": null,
   "metadata": {},
   "outputs": [],
   "source": [
    "8.0"
   ]
  },
  {
   "cell_type": "code",
   "execution_count": null,
   "metadata": {
    "deletable": false,
    "nbgrader": {
     "cell_type": "code",
     "checksum": "0cf269655f4c43d896fffd07653b6cd3",
     "grade": false,
     "grade_id": "a2_4_datentypen_5",
     "locked": false,
     "schema_version": 3,
     "solution": true,
     "task": false
    }
   },
   "outputs": [],
   "source": [
    "# CODE HIER EINGEBEN\n",
    "antwort = __"
   ]
  },
  {
   "cell_type": "code",
   "execution_count": null,
   "metadata": {
    "deletable": false,
    "editable": false,
    "nbgrader": {
     "cell_type": "code",
     "checksum": "7ee4c9ab0d2f65cd2ac35a4369544316",
     "grade": true,
     "grade_id": "a2_4_datentypen_5_test",
     "locked": true,
     "points": 1,
     "schema_version": 3,
     "solution": false,
     "task": false
    }
   },
   "outputs": [],
   "source": []
  },
  {
   "cell_type": "code",
   "execution_count": null,
   "metadata": {},
   "outputs": [],
   "source": [
    "\"Morgen wird es 35° warm!\""
   ]
  },
  {
   "cell_type": "code",
   "execution_count": null,
   "metadata": {
    "deletable": false,
    "nbgrader": {
     "cell_type": "code",
     "checksum": "777b034873b66ba92cc063ee8f7e6f31",
     "grade": false,
     "grade_id": "a2_4_datentypen_6",
     "locked": false,
     "schema_version": 3,
     "solution": true,
     "task": false
    }
   },
   "outputs": [],
   "source": [
    "# CODE HIER EINGEBEN\n",
    "antwort = __"
   ]
  },
  {
   "cell_type": "code",
   "execution_count": null,
   "metadata": {
    "deletable": false,
    "editable": false,
    "nbgrader": {
     "cell_type": "code",
     "checksum": "75dd6ebbd43d534cacc30b67a6bb9741",
     "grade": true,
     "grade_id": "a2_4_datentypen_6_test",
     "locked": true,
     "points": 1,
     "schema_version": 3,
     "solution": false,
     "task": false
    }
   },
   "outputs": [],
   "source": []
  },
  {
   "cell_type": "markdown",
   "metadata": {},
   "source": [
    "5.) Zu welchem Wert werden die folgenden Ausdrücke evaluiert? Beantwortet die Frage ohne die Hilfe von Python und JupyterLite! \n",
    "\n",
    "*Hinweis: Gebt `antwort = True` für \"Ja\" ein und `antwort = False` für \"Nein\". Wenn ihr die Antwort nicht wisst, lasst einfach den Platzhalter `antwort = __` stehen.*"
   ]
  },
  {
   "cell_type": "code",
   "execution_count": null,
   "metadata": {},
   "outputs": [],
   "source": [
    "True and False"
   ]
  },
  {
   "cell_type": "code",
   "execution_count": null,
   "metadata": {
    "deletable": false,
    "nbgrader": {
     "cell_type": "code",
     "checksum": "a50ce3c188a20455606b590db970576a",
     "grade": false,
     "grade_id": "a2_5_operatoren_1",
     "locked": false,
     "schema_version": 3,
     "solution": true,
     "task": false
    }
   },
   "outputs": [],
   "source": [
    "# CODE HIER EINGEBEN\n",
    "antwort = __"
   ]
  },
  {
   "cell_type": "code",
   "execution_count": null,
   "metadata": {
    "deletable": false,
    "editable": false,
    "nbgrader": {
     "cell_type": "code",
     "checksum": "58bd1f3206c1584628ba1aa15bcd1dbb",
     "grade": true,
     "grade_id": "a2_5_operatoren_1_test",
     "locked": true,
     "points": 1,
     "schema_version": 3,
     "solution": false,
     "task": false
    }
   },
   "outputs": [],
   "source": []
  },
  {
   "cell_type": "code",
   "execution_count": null,
   "metadata": {},
   "outputs": [],
   "source": [
    "True or False"
   ]
  },
  {
   "cell_type": "code",
   "execution_count": null,
   "metadata": {
    "deletable": false,
    "nbgrader": {
     "cell_type": "code",
     "checksum": "3e025a2128e292db6b71987a45127a7a",
     "grade": false,
     "grade_id": "a2_5_operatoren_2",
     "locked": false,
     "schema_version": 3,
     "solution": true,
     "task": false
    }
   },
   "outputs": [],
   "source": [
    "# CODE HIER EINGEBEN\n",
    "antwort = __"
   ]
  },
  {
   "cell_type": "code",
   "execution_count": null,
   "metadata": {
    "deletable": false,
    "editable": false,
    "nbgrader": {
     "cell_type": "code",
     "checksum": "7677783b230d369d38a0ac8450ee522b",
     "grade": true,
     "grade_id": "a2_5_operatoren_2_test",
     "locked": true,
     "points": 1,
     "schema_version": 3,
     "solution": false,
     "task": false
    }
   },
   "outputs": [],
   "source": []
  },
  {
   "cell_type": "code",
   "execution_count": null,
   "metadata": {},
   "outputs": [],
   "source": [
    "True and (not False)"
   ]
  },
  {
   "cell_type": "code",
   "execution_count": null,
   "metadata": {
    "deletable": false,
    "nbgrader": {
     "cell_type": "code",
     "checksum": "5ae559300bb4a722ebff0ca503ec4e66",
     "grade": false,
     "grade_id": "a2_5_operatoren_3",
     "locked": false,
     "schema_version": 3,
     "solution": true,
     "task": false
    }
   },
   "outputs": [],
   "source": [
    "# CODE HIER EINGEBEN\n",
    "antwort = __"
   ]
  },
  {
   "cell_type": "code",
   "execution_count": null,
   "metadata": {
    "deletable": false,
    "editable": false,
    "nbgrader": {
     "cell_type": "code",
     "checksum": "95a947e2ea49198d9e53f0492ae22c32",
     "grade": true,
     "grade_id": "a2_5_operatoren_3_test",
     "locked": true,
     "points": 1,
     "schema_version": 3,
     "solution": false,
     "task": false
    }
   },
   "outputs": [],
   "source": []
  },
  {
   "cell_type": "code",
   "execution_count": null,
   "metadata": {},
   "outputs": [],
   "source": [
    "\"Hund\" == \"Hand\""
   ]
  },
  {
   "cell_type": "code",
   "execution_count": null,
   "metadata": {
    "deletable": false,
    "nbgrader": {
     "cell_type": "code",
     "checksum": "7ffcd4b3ae55f9cede648a37b00bd075",
     "grade": false,
     "grade_id": "a2_5_operatoren_4",
     "locked": false,
     "schema_version": 3,
     "solution": true,
     "task": false
    }
   },
   "outputs": [],
   "source": [
    "# CODE HIER EINGEBEN\n",
    "antwort = __"
   ]
  },
  {
   "cell_type": "code",
   "execution_count": null,
   "metadata": {
    "deletable": false,
    "editable": false,
    "nbgrader": {
     "cell_type": "code",
     "checksum": "b9e84970d144a4d8c6ceda2b05bac6d1",
     "grade": true,
     "grade_id": "a2_5_operatoren_4_test",
     "locked": true,
     "points": 1,
     "schema_version": 3,
     "solution": false,
     "task": false
    }
   },
   "outputs": [],
   "source": []
  },
  {
   "cell_type": "code",
   "execution_count": null,
   "metadata": {},
   "outputs": [],
   "source": [
    "\"Katze\" != \"Kotze\""
   ]
  },
  {
   "cell_type": "code",
   "execution_count": null,
   "metadata": {
    "deletable": false,
    "nbgrader": {
     "cell_type": "code",
     "checksum": "2df4e0b538d8cf8c359f984d506daeec",
     "grade": false,
     "grade_id": "a2_5_operatoren_5",
     "locked": false,
     "schema_version": 3,
     "solution": true,
     "task": false
    }
   },
   "outputs": [],
   "source": [
    "# CODE HIER EINGEBEN\n",
    "antwort = __"
   ]
  },
  {
   "cell_type": "code",
   "execution_count": null,
   "metadata": {
    "deletable": false,
    "editable": false,
    "nbgrader": {
     "cell_type": "code",
     "checksum": "183be68a0087e364ebea604273195958",
     "grade": true,
     "grade_id": "a2_5_operatoren_5_test",
     "locked": true,
     "points": 1,
     "schema_version": 3,
     "solution": false,
     "task": false
    }
   },
   "outputs": [],
   "source": []
  },
  {
   "cell_type": "code",
   "execution_count": null,
   "metadata": {},
   "outputs": [],
   "source": [
    "\"a\" == 97"
   ]
  },
  {
   "cell_type": "code",
   "execution_count": null,
   "metadata": {
    "deletable": false,
    "nbgrader": {
     "cell_type": "code",
     "checksum": "9bb3c355da9d7a984bccd42cbf4ea652",
     "grade": false,
     "grade_id": "a2_5_operatoren_6",
     "locked": false,
     "schema_version": 3,
     "solution": true,
     "task": false
    }
   },
   "outputs": [],
   "source": [
    "# CODE HIER EINGEBEN\n",
    "antwort = __"
   ]
  },
  {
   "cell_type": "code",
   "execution_count": null,
   "metadata": {
    "deletable": false,
    "editable": false,
    "nbgrader": {
     "cell_type": "code",
     "checksum": "a31c981e1984ea45a8fb3b25e42872a9",
     "grade": true,
     "grade_id": "a2_5_operatoren_6_test",
     "locked": true,
     "points": 1,
     "schema_version": 3,
     "solution": false,
     "task": false
    }
   },
   "outputs": [],
   "source": []
  },
  {
   "cell_type": "code",
   "execution_count": null,
   "metadata": {},
   "outputs": [],
   "source": [
    "4+5 > 3+5"
   ]
  },
  {
   "cell_type": "code",
   "execution_count": null,
   "metadata": {
    "deletable": false,
    "nbgrader": {
     "cell_type": "code",
     "checksum": "57cfbf2d186a56ef8e9d9e622e9712bb",
     "grade": false,
     "grade_id": "a2_5_operatoren_7",
     "locked": false,
     "schema_version": 3,
     "solution": true,
     "task": false
    }
   },
   "outputs": [],
   "source": [
    "# CODE HIER EINGEBEN\n",
    "antwort = __"
   ]
  },
  {
   "cell_type": "code",
   "execution_count": null,
   "metadata": {
    "deletable": false,
    "editable": false,
    "nbgrader": {
     "cell_type": "code",
     "checksum": "fd252b81afc71df8b8d53c2bd996c72e",
     "grade": true,
     "grade_id": "a2_5_operatoren_7_test",
     "locked": true,
     "points": 1,
     "schema_version": 3,
     "solution": false,
     "task": false
    }
   },
   "outputs": [],
   "source": []
  },
  {
   "cell_type": "code",
   "execution_count": null,
   "metadata": {},
   "outputs": [],
   "source": [
    "(6+4 > 5+4) != True"
   ]
  },
  {
   "cell_type": "code",
   "execution_count": null,
   "metadata": {
    "deletable": false,
    "nbgrader": {
     "cell_type": "code",
     "checksum": "2e6af7b78c5f3fa3bda4da72cf53010c",
     "grade": false,
     "grade_id": "a2_5_operatoren_8",
     "locked": false,
     "schema_version": 3,
     "solution": true,
     "task": false
    }
   },
   "outputs": [],
   "source": [
    "# CODE HIER EINGEBEN\n",
    "antwort = __"
   ]
  },
  {
   "cell_type": "code",
   "execution_count": null,
   "metadata": {
    "deletable": false,
    "editable": false,
    "nbgrader": {
     "cell_type": "code",
     "checksum": "0118ccf3fcdda87f8a49c1ff40f15bc8",
     "grade": true,
     "grade_id": "a2_5_operatoren_8_test",
     "locked": true,
     "points": 1,
     "schema_version": 3,
     "solution": false,
     "task": false
    }
   },
   "outputs": [],
   "source": []
  },
  {
   "cell_type": "code",
   "execution_count": null,
   "metadata": {},
   "outputs": [],
   "source": [
    "6+4 > 5+4 != True"
   ]
  },
  {
   "cell_type": "code",
   "execution_count": null,
   "metadata": {
    "deletable": false,
    "nbgrader": {
     "cell_type": "code",
     "checksum": "edab8cb8520bda46d0cf91e3dcc13e76",
     "grade": false,
     "grade_id": "a2_5_operatoren_9",
     "locked": false,
     "schema_version": 3,
     "solution": true,
     "task": false
    }
   },
   "outputs": [],
   "source": [
    "# CODE HIER EINGEBEN\n",
    "antwort = __"
   ]
  },
  {
   "cell_type": "code",
   "execution_count": null,
   "metadata": {
    "deletable": false,
    "editable": false,
    "nbgrader": {
     "cell_type": "code",
     "checksum": "85d6e0757dc5986ac5967d4b1cd32b22",
     "grade": true,
     "grade_id": "a2_5_operatoren_9_test",
     "locked": true,
     "points": 1,
     "schema_version": 3,
     "solution": false,
     "task": false
    }
   },
   "outputs": [],
   "source": []
  },
  {
   "cell_type": "code",
   "execution_count": null,
   "metadata": {},
   "outputs": [],
   "source": [
    "32 <= 32"
   ]
  },
  {
   "cell_type": "code",
   "execution_count": null,
   "metadata": {
    "deletable": false,
    "nbgrader": {
     "cell_type": "code",
     "checksum": "7e245d23338c391444b6fe7c3f8c85e1",
     "grade": false,
     "grade_id": "a2_5_operatoren_10",
     "locked": false,
     "schema_version": 3,
     "solution": true,
     "task": false
    }
   },
   "outputs": [],
   "source": [
    "# CODE HIER EINGEBEN\n",
    "antwort = __"
   ]
  },
  {
   "cell_type": "code",
   "execution_count": null,
   "metadata": {
    "deletable": false,
    "editable": false,
    "nbgrader": {
     "cell_type": "code",
     "checksum": "960d88883f324a2a1451c0e1808a4a7e",
     "grade": true,
     "grade_id": "a2_5_operatoren_10_test",
     "locked": true,
     "points": 1,
     "schema_version": 3,
     "solution": false,
     "task": false
    }
   },
   "outputs": [],
   "source": []
  },
  {
   "cell_type": "code",
   "execution_count": null,
   "metadata": {},
   "outputs": [],
   "source": [
    "50 >= 60"
   ]
  },
  {
   "cell_type": "code",
   "execution_count": null,
   "metadata": {
    "deletable": false,
    "nbgrader": {
     "cell_type": "code",
     "checksum": "c55caa8c26a1f3be76ee3d6c6470017e",
     "grade": false,
     "grade_id": "a2_5_operatoren_11",
     "locked": false,
     "schema_version": 3,
     "solution": true,
     "task": false
    }
   },
   "outputs": [],
   "source": [
    "# CODE HIER EINGEBEN\n",
    "antwort = __"
   ]
  },
  {
   "cell_type": "code",
   "execution_count": null,
   "metadata": {
    "deletable": false,
    "editable": false,
    "nbgrader": {
     "cell_type": "code",
     "checksum": "909521fc2e46015c96e36573c25774ce",
     "grade": true,
     "grade_id": "a2_5_operatoren_11_test",
     "locked": true,
     "points": 1,
     "schema_version": 3,
     "solution": false,
     "task": false
    }
   },
   "outputs": [],
   "source": []
  },
  {
   "cell_type": "markdown",
   "metadata": {},
   "source": [
    "## Aufgabe 3: Praxis\n"
   ]
  },
  {
   "cell_type": "markdown",
   "metadata": {},
   "source": [
    "1.) Weist dem Namen vorname euren Vornamen als Wert mit dem Datentyp str zu."
   ]
  },
  {
   "cell_type": "code",
   "execution_count": null,
   "metadata": {
    "deletable": false,
    "nbgrader": {
     "cell_type": "code",
     "checksum": "c0013c25deaa91a9c44ffb46ea0c65da",
     "grade": true,
     "grade_id": "praxis-1",
     "locked": false,
     "points": 1,
     "schema_version": 3,
     "solution": true,
     "task": false
    }
   },
   "outputs": [],
   "source": [
    "# CODE HIER EINGEBEN"
   ]
  },
  {
   "cell_type": "markdown",
   "metadata": {},
   "source": [
    "2.) Lasst euch die Variable mit der Funktion `print()` auf dem Bildschirm ausgeben."
   ]
  },
  {
   "cell_type": "code",
   "execution_count": null,
   "metadata": {
    "deletable": false,
    "nbgrader": {
     "cell_type": "code",
     "checksum": "407383251ac453bc66ed8ccbd68901e6",
     "grade": true,
     "grade_id": "praxis-2",
     "locked": false,
     "points": 1,
     "schema_version": 3,
     "solution": true,
     "task": false
    }
   },
   "outputs": [],
   "source": [
    "# CODE HIER EINGEBEN"
   ]
  },
  {
   "cell_type": "markdown",
   "metadata": {},
   "source": [
    "3.) Überlegt euch einen passenden Namen für eine Variable, die als Platzhalter für eine Zeichenkette dient, die euren Vor- und Nachnamen repräsentiert. Weist dieser Variable die Variable `vorname` zu und verkettet die Variable `vorname` dabei mit einem String, der euren Nachnamen repräsentiert. Hinweis: Nutzt dazu den Konkatenationsoperator `+`."
   ]
  },
  {
   "cell_type": "code",
   "execution_count": null,
   "metadata": {
    "deletable": false,
    "nbgrader": {
     "cell_type": "code",
     "checksum": "0167bc532ed1503e81b83adb21d58ce2",
     "grade": true,
     "grade_id": "praxis-3",
     "locked": false,
     "points": 1,
     "schema_version": 3,
     "solution": true,
     "task": false
    }
   },
   "outputs": [],
   "source": [
    "# CODE HIER EINGEBEN"
   ]
  },
  {
   "cell_type": "markdown",
   "metadata": {},
   "source": [
    "4.) Nutzt den Slicing-Operator [::], um auf eine Untersequenz, die nur euren Vornamen repräsentiert, zuzugreifen."
   ]
  },
  {
   "cell_type": "code",
   "execution_count": null,
   "metadata": {
    "deletable": false,
    "nbgrader": {
     "cell_type": "code",
     "checksum": "948aa90d90b82967a550f60061eaf858",
     "grade": true,
     "grade_id": "praxis-4",
     "locked": false,
     "points": 1,
     "schema_version": 3,
     "solution": true,
     "task": false
    }
   },
   "outputs": [],
   "source": [
    "# CODE HIER EINGEBEN"
   ]
  },
  {
   "cell_type": "markdown",
   "metadata": {},
   "source": [
    "5.) Nutzt den Zugriffsoperator [], um auf das Zeichen mit dem Index 3 zuzugreifen."
   ]
  },
  {
   "cell_type": "code",
   "execution_count": null,
   "metadata": {
    "deletable": false,
    "nbgrader": {
     "cell_type": "code",
     "checksum": "4076ef8d71347ef1057d6c2e04dee915",
     "grade": true,
     "grade_id": "praxis-5",
     "locked": false,
     "points": 1,
     "schema_version": 3,
     "solution": true,
     "task": false
    }
   },
   "outputs": [],
   "source": [
    "# CODE HIER EINGEBEN"
   ]
  }
 ],
 "metadata": {
  "kernelspec": {
   "display_name": "Python 3 (ipykernel)",
   "language": "python",
   "name": "python3"
  },
  "language_info": {
   "codemirror_mode": {
    "name": "ipython",
    "version": 3
   },
   "file_extension": ".py",
   "mimetype": "text/x-python",
   "name": "python",
   "nbconvert_exporter": "python",
   "pygments_lexer": "ipython3",
   "version": "3.11.11"
  }
 },
 "nbformat": 4,
 "nbformat_minor": 4
}
