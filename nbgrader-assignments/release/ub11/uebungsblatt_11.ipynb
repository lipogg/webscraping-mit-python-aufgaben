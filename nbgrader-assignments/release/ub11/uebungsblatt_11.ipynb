{
 "cells": [
  {
   "cell_type": "markdown",
   "metadata": {},
   "source": [
    "## Wichtige Hinweise\n",
    "\n",
    "Bevor ihr diese Aufgabe abgebt stellt sicher, dass alles wie erwartet funktioniert. Befolgt dazu diese Schritte: \n",
    "\n",
    "1. Startet den Kernel neu und führt alle Zellen aus (in der Menüleiste: Run $\\rightarrow$ Restart Kernel and Run All Cells). **Wenn es Fehlermeldungen gibt, behebt diese vor der Abgabe.**  \n",
    "2. Speichert das Notebook (Ctrl + S bzw. Cmd + S oder über File $\\rightarrow$ Save Notebook). Ändert dabei NICHT den Dateinamen.\n",
    "3. Ladet das Notebook herunter (Rechtsklick auf das Notebook $\\rightarrow$ Download).\n",
    "4. Schickt mir das Notebook per Mail an l.poggel@fu-berlin.de. Setzt dabei alle Mitbearbeiter\\:innen in Cc. \n",
    "\n",
    "Achtet auch darauf, alle Stellen auszufüllen, an denen CODE HIER EINGEBEN oder “ANTWORT HIER EINGEBEN” steht, und achtet auf die Hinweise zu den Aufgaben. Bearbeitet die Aufgaben immer genau so, wie es in der Aufgabe steht. Wenn ihr eine Antwort nicht wisst, könnt ihr einfach die entsprechende Zelle leer lassen bzw. die Platzhalter (z.B. `antwort = __`) stehen lassen. **Die leeren Codezellen, die ihr nicht bearbeiten könnt, beinhalten versteckte Tests zur automatisierten Korrektur der Aufgaben. Löscht  diese Zellen nicht und ändert nicht denn Typ der Zelle.** \n",
    "\n",
    "Gebt außerdem die Namen aller Bearbeiter\\:innen an:"
   ]
  },
  {
   "cell_type": "code",
   "execution_count": null,
   "metadata": {},
   "outputs": [],
   "source": [
    "NAME_1 = \"\"\n",
    "NAME_2 = \"\""
   ]
  },
  {
   "cell_type": "markdown",
   "metadata": {},
   "source": [
    "---"
   ]
  },
  {
   "cell_type": "markdown",
   "metadata": {},
   "source": [
    "## Aufgabe 1: Wiederholung\n",
    "\n",
    "Lest euch nochmal die Inhalte in den Kapiteln \"Pandas (Exkurs)\" und \"Tipps und Tricks\" auf unserer [Kurs-Website](https://lipogg.github.io/webscraping-mit-python/) durch. Formuliert ein bis drei Fragen zu einem Inhalt, der euch noch nicht ganz klar ist. Ihr könnt auch Fragen formulieren, die sich auf irgendeinen anderen Inhalt aus dem Seminar oder zu meinen Korrekturen beziehen.\n"
   ]
  },
  {
   "cell_type": "markdown",
   "metadata": {},
   "source": [
    "**Frage 1:**"
   ]
  },
  {
   "cell_type": "markdown",
   "metadata": {
    "deletable": false,
    "nbgrader": {
     "cell_type": "markdown",
     "checksum": "a9176e8bffd5edee7bb7b516839bf6b5",
     "grade": true,
     "grade_id": "frage1",
     "locked": false,
     "points": 0,
     "schema_version": 3,
     "solution": true,
     "task": false
    }
   },
   "source": [
    "ANTWORT HIER EINGEBEN"
   ]
  },
  {
   "cell_type": "markdown",
   "metadata": {},
   "source": [
    "**Frage 2:**"
   ]
  },
  {
   "cell_type": "markdown",
   "metadata": {
    "deletable": false,
    "nbgrader": {
     "cell_type": "markdown",
     "checksum": "8d9886b31087a621002fb9ce0cac2470",
     "grade": true,
     "grade_id": "frage2",
     "locked": false,
     "points": 0,
     "schema_version": 3,
     "solution": true,
     "task": false
    }
   },
   "source": [
    "ANTWORT HIER EINGEBEN"
   ]
  },
  {
   "cell_type": "markdown",
   "metadata": {},
   "source": [
    "**Frage 3:**"
   ]
  },
  {
   "cell_type": "markdown",
   "metadata": {
    "deletable": false,
    "nbgrader": {
     "cell_type": "markdown",
     "checksum": "ed9f71fca32b42aefee544cc1384e46b",
     "grade": true,
     "grade_id": "frage3",
     "locked": false,
     "points": 0,
     "schema_version": 3,
     "solution": true,
     "task": false
    }
   },
   "source": [
    "ANTWORT HIER EINGEBEN"
   ]
  },
  {
   "cell_type": "markdown",
   "metadata": {},
   "source": [
    "## Aufgabe 2: Verständnis Pandas\n"
   ]
  },
  {
   "cell_type": "markdown",
   "metadata": {},
   "source": [
    "1.) Was ist der Zusammenhang zwischen Pandas Dataframes und Pandas Series-Objekten?"
   ]
  },
  {
   "cell_type": "markdown",
   "metadata": {
    "deletable": false,
    "nbgrader": {
     "cell_type": "markdown",
     "checksum": "8491083ed08a01cccb9b1b2553fa1cb3",
     "grade": true,
     "grade_id": "a2_pandas1",
     "locked": false,
     "points": 1,
     "schema_version": 3,
     "solution": true,
     "task": false
    }
   },
   "source": [
    "ANTWORT HIER EINGEBEN"
   ]
  },
  {
   "cell_type": "markdown",
   "metadata": {},
   "source": [
    "2.) Angenommen, ihr habt an einem Tag Daten gescraped und in einem Pandas Dataframe gespeichert. In welchem Dateiformat sollte der  Dataframe gespeichert werden, wenn ihr ein paar Tage später in Python weiter mit den Daten arbeiten wollt und diese beispielsweise bereinigen und visualisieren möchtet? "
   ]
  },
  {
   "cell_type": "markdown",
   "metadata": {
    "deletable": false,
    "nbgrader": {
     "cell_type": "markdown",
     "checksum": "d0211814a33743704be3a0952c9d1d17",
     "grade": true,
     "grade_id": "a2_pandas2",
     "locked": false,
     "points": 1,
     "schema_version": 3,
     "solution": true,
     "task": false
    }
   },
   "source": [
    "ANTWORT HIER EINGEBEN"
   ]
  },
  {
   "cell_type": "markdown",
   "metadata": {},
   "source": [
    "## Aufgabe 3: Praxis Pandas\n"
   ]
  },
  {
   "cell_type": "markdown",
   "metadata": {},
   "source": [
    "1.) Im [Abschnitt 10.1.2. Daten extrahieren und bereinigen](https://lipogg.github.io/webscraping-mit-python/chapters/10/subchapters/01_pandas_bereinigen.html#daten-extrahieren-und-bereinigen) findet ihr ein Skript, das für drei ausgewählte Pins von der Seite https://www.pinterest.com/ideas/animals/925056443165/ die Kommentare und die URLs zu den Pinterestprofilen der Kommentator:innen extrahiert. Schreibt dieses Skript so um, dass diese Daten stattdessen für die *ersten* drei Pins von der Seite extrahiert werden. Dazu könnt ihr euren Code zum letzten Übungsblatt anpassen und mit dem Code von der Kurswebseite kombinieren."
   ]
  },
  {
   "cell_type": "code",
   "execution_count": null,
   "metadata": {
    "deletable": false,
    "nbgrader": {
     "cell_type": "code",
     "checksum": "c0013c25deaa91a9c44ffb46ea0c65da",
     "grade": true,
     "grade_id": "praxis-1",
     "locked": false,
     "points": 1,
     "schema_version": 3,
     "solution": true,
     "task": false
    }
   },
   "outputs": [],
   "source": [
    "# CODE HIER EINGEBEN"
   ]
  },
  {
   "cell_type": "markdown",
   "metadata": {},
   "source": [
    "2.) Wandelt anschließend das Objekt `comments_dict` in einen Pandas Dataframe um. "
   ]
  },
  {
   "cell_type": "code",
   "execution_count": null,
   "metadata": {
    "deletable": false,
    "nbgrader": {
     "cell_type": "code",
     "checksum": "407383251ac453bc66ed8ccbd68901e6",
     "grade": true,
     "grade_id": "praxis-2",
     "locked": false,
     "points": 1,
     "schema_version": 3,
     "solution": true,
     "task": false
    }
   },
   "outputs": [],
   "source": [
    "# CODE HIER EINGEBEN"
   ]
  },
  {
   "cell_type": "markdown",
   "metadata": {},
   "source": [
    "3.) Lasst euch die ersten 10 Zeilen des Dataframes ausgeben. "
   ]
  },
  {
   "cell_type": "code",
   "execution_count": null,
   "metadata": {
    "deletable": false,
    "nbgrader": {
     "cell_type": "code",
     "checksum": "0167bc532ed1503e81b83adb21d58ce2",
     "grade": true,
     "grade_id": "praxis-3",
     "locked": false,
     "points": 1,
     "schema_version": 3,
     "solution": true,
     "task": false
    }
   },
   "outputs": [],
   "source": [
    "# CODE HIER EINGEBEN"
   ]
  },
  {
   "cell_type": "markdown",
   "metadata": {},
   "source": [
    "4.) Lasst euch nur die Zeilen ausgeben, in denen in der Spalte `comment` ein leerer String steht. \n",
    "\n",
    "*Hinweis: Dazu müsst ihr die Zugriffsoperation `comments_df.loc[comments_df[\"commentator_id\"] == 5]` von der Kurswebseite anpassen.*"
   ]
  },
  {
   "cell_type": "code",
   "execution_count": null,
   "metadata": {
    "deletable": false,
    "nbgrader": {
     "cell_type": "code",
     "checksum": "948aa90d90b82967a550f60061eaf858",
     "grade": true,
     "grade_id": "praxis-4",
     "locked": false,
     "points": 1,
     "schema_version": 3,
     "solution": true,
     "task": false
    }
   },
   "outputs": [],
   "source": [
    "# CODE HIER EINGEBEN"
   ]
  },
  {
   "cell_type": "markdown",
   "metadata": {},
   "source": [
    "5.) Lasst euch nur die Zeilen ausgeben, in denen irgendwo im Kommentar in der Spalte `comment` der String \"cute\" vorkommt.\n",
    "\n",
    "*Hinweis: Dazu könnt ihr zum Beispiel die Methode str.contains(), welche für Pandas Series-Objekte definiert ist, verwenden: https://pandas.pydata.org/docs/reference/api/pandas.Series.str.contains.html. Den Methodenaufruf könnt ihr mit einer bedingten Zugriffsoperation wie in Teilaufgabe 4.) kombinieren, um auf die entsprechenden Zeilen zuzugreifen.*"
   ]
  },
  {
   "cell_type": "code",
   "execution_count": null,
   "metadata": {
    "deletable": false,
    "nbgrader": {
     "cell_type": "code",
     "checksum": "4076ef8d71347ef1057d6c2e04dee915",
     "grade": true,
     "grade_id": "praxis-5",
     "locked": false,
     "points": 1,
     "schema_version": 3,
     "solution": true,
     "task": false
    }
   },
   "outputs": [],
   "source": [
    "# CODE HIER EINGEBEN"
   ]
  },
  {
   "cell_type": "markdown",
   "metadata": {},
   "source": [
    "6.) Entfernt die Leerzeichen um die Kommentare in der Spalte `comments`. "
   ]
  },
  {
   "cell_type": "code",
   "execution_count": null,
   "metadata": {
    "deletable": false,
    "nbgrader": {
     "cell_type": "code",
     "checksum": "6096585c70cb22b63a1a45901003678e",
     "grade": true,
     "grade_id": "praxis-6",
     "locked": false,
     "points": 1,
     "schema_version": 3,
     "solution": true,
     "task": false
    }
   },
   "outputs": [],
   "source": [
    "# CODE HIER EINGEBEN"
   ]
  },
  {
   "cell_type": "markdown",
   "metadata": {},
   "source": [
    "7.) (fakultativ) Fügt dem Dataframe eine neue Spalte `contains_cute` hinzu, in der True steht, wenn in der Spalte `comments` \"cute\" vorkommt und sonst False. \n",
    "\n",
    "*Hinweis: Dazu könnt ihr wieder die Methode str.contains() aus Teilaufgabe 5.) nutzen.* "
   ]
  },
  {
   "cell_type": "code",
   "execution_count": null,
   "metadata": {
    "deletable": false,
    "nbgrader": {
     "cell_type": "code",
     "checksum": "bd904d1bd02499dc75ff270aa2a864f7",
     "grade": true,
     "grade_id": "praxis-7",
     "locked": false,
     "points": 1,
     "schema_version": 3,
     "solution": true,
     "task": false
    }
   },
   "outputs": [],
   "source": [
    "# CODE HIER EINGEBEN"
   ]
  },
  {
   "cell_type": "markdown",
   "metadata": {},
   "source": [
    "## Aufgabe 4: Sessions"
   ]
  },
  {
   "cell_type": "markdown",
   "metadata": {},
   "source": [
    "1.) Beantwortet kurz die folgenden Fragen: "
   ]
  },
  {
   "cell_type": "markdown",
   "metadata": {},
   "source": [
    "a) Was ist eine Session? "
   ]
  },
  {
   "cell_type": "markdown",
   "metadata": {
    "deletable": false,
    "nbgrader": {
     "cell_type": "markdown",
     "checksum": "259d4d63545093599f2151ef2d0da24b",
     "grade": true,
     "grade_id": "a4_sessions1a",
     "locked": false,
     "points": 1,
     "schema_version": 3,
     "solution": true,
     "task": false
    }
   },
   "source": [
    "ANTWORT HIER EINGEBEN"
   ]
  },
  {
   "cell_type": "markdown",
   "metadata": {},
   "source": [
    "b) Was hat es für einen Vorteil, wenn wiederholte Anfragen aus derselben Sessions heraus gestellt werden? "
   ]
  },
  {
   "cell_type": "markdown",
   "metadata": {
    "deletable": false,
    "nbgrader": {
     "cell_type": "markdown",
     "checksum": "a877a1ec1c0f56b2557c9f22343d1b5e",
     "grade": true,
     "grade_id": "a4_sessions1b",
     "locked": false,
     "points": 1,
     "schema_version": 3,
     "solution": true,
     "task": false
    }
   },
   "source": [
    "ANTWORT HIER EINGEBEN"
   ]
  },
  {
   "cell_type": "markdown",
   "metadata": {},
   "source": [
    "2.) Wie könnte der folgende Code aus den Sitzungen zum Webscrapen mit BeautifulSoup am Anfang des Semesters umgeschrieben werden, sodass alle Anfragen aus derselben Session heraus gestellt werden?"
   ]
  },
  {
   "cell_type": "code",
   "execution_count": null,
   "metadata": {
    "deletable": false,
    "editable": false,
    "nbgrader": {
     "cell_type": "code",
     "checksum": "a8618e494eb9b8b4648dcbebde0af441",
     "grade": false,
     "grade_id": "a4_sessions2-code",
     "locked": true,
     "schema_version": 3,
     "solution": false,
     "task": false
    }
   },
   "outputs": [],
   "source": [
    "base_url = \"http://quotes.toscrape.com\"\n",
    "current_url = base_url\n",
    "quotes = []\n",
    "\n",
    "while True:\n",
    "    page = requests.get(current_url)\n",
    "    soup = BeautifulSoup(page.content, \"html.parser\")\n",
    "    for quote in soup.select(\".quote > .text\"):\n",
    "        quotes.append(quote.text)\n",
    "\n",
    "    next_elem = soup.select_one(\".next > a\")\n",
    "\n",
    "    if next_elem is not None:\n",
    "        next_path = next_elem['href'] # auf den Wert des Attributs \"href\" zugreifen\n",
    "        current_url = base_url + next_path\n",
    "    else:\n",
    "        break"
   ]
  },
  {
   "cell_type": "code",
   "execution_count": null,
   "metadata": {
    "deletable": false,
    "nbgrader": {
     "cell_type": "code",
     "checksum": "127d65200c1fc7d277cd71fca037a806",
     "grade": true,
     "grade_id": "a4_sessions2",
     "locked": false,
     "points": 1,
     "schema_version": 3,
     "solution": true,
     "task": false
    }
   },
   "outputs": [],
   "source": [
    "# CODE HIER EINGEBEN"
   ]
  },
  {
   "cell_type": "markdown",
   "metadata": {},
   "source": [
    "## Aufgabe 5: Rundumschlag"
   ]
  },
  {
   "cell_type": "markdown",
   "metadata": {},
   "source": [
    "1.) Untersucht die folgenden drei Webseiten und entscheidet euch, welche der vorgestellten Methoden zur Extraktion der genannten Daten verwendet werden sollte (d.h. Webscraping mit BeautifulSoup, Webscraping mit Selenium, API-Abfrage oder Direktdownload über den Netzwerktab).\n",
    "\n",
    "- Buchtitel und Anzahl der Votes für alle Bücher auf der Seite https://www.goodreads.com/choiceawards/readers-favorite-science-fiction-books-2024\n",
    "- Titel und Autor:innen aller Beiträge auf der Seite https://specials.dekoder.org/, für alle Sprachversionen, in denen die Website verfügbar ist (die Sprachen seht ihr oben rechts)\n",
    "- Die 100 Top Posts auf Bluesky, die das Wort \"election\" enthalten: https://bsky.app/\n",
    "\n",
    "Bewertet danach, welche rechtlichen Einschränkungen jeweils gelten. "
   ]
  },
  {
   "cell_type": "markdown",
   "metadata": {
    "deletable": false,
    "nbgrader": {
     "cell_type": "markdown",
     "checksum": "831be9b72cf3979b691373cca5d33144",
     "grade": true,
     "grade_id": "a5_1",
     "locked": false,
     "points": 1,
     "schema_version": 3,
     "solution": true,
     "task": false
    }
   },
   "source": [
    "ANTWORT HIER EINGEBEN"
   ]
  },
  {
   "cell_type": "markdown",
   "metadata": {},
   "source": [
    "2.) Sucht euch eine der drei Webseiten aus und extrahiert die genannten Inhalte mit der gewählten Strategie. Achtung: Entscheidet dabei zunächst, ob ihr die gesuchten Inhalte überhaupt scrapen dürft. "
   ]
  },
  {
   "cell_type": "code",
   "execution_count": null,
   "metadata": {
    "deletable": false,
    "nbgrader": {
     "cell_type": "code",
     "checksum": "a695f84d4f04f2d58e64cbd4be888db4",
     "grade": true,
     "grade_id": "a5_2",
     "locked": false,
     "points": 1,
     "schema_version": 3,
     "solution": true,
     "task": false
    }
   },
   "outputs": [],
   "source": [
    "# CODE HIER EINGEBEN"
   ]
  }
 ],
 "metadata": {
  "kernelspec": {
   "display_name": "Python 3 (ipykernel)",
   "language": "python",
   "name": "python3"
  },
  "language_info": {
   "codemirror_mode": {
    "name": "ipython",
    "version": 3
   },
   "file_extension": ".py",
   "mimetype": "text/x-python",
   "name": "python",
   "nbconvert_exporter": "python",
   "pygments_lexer": "ipython3",
   "version": "3.11.11"
  }
 },
 "nbformat": 4,
 "nbformat_minor": 4
}
