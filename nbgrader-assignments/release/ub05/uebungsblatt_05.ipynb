{
 "cells": [
  {
   "cell_type": "markdown",
   "metadata": {},
   "source": [
    "## Wichtige Hinweise\n",
    "\n",
    "Bevor ihr diese Aufgabe abgebt stellt sicher, dass alles wie erwartet funktioniert. Befolgt dazu diese Schritte: \n",
    "\n",
    "1. Startet den Kernel neu und führt alle Zellen aus (in der Menüleiste: Run $\\rightarrow$ Restart Kernel and Run All Cells). **Wenn es Fehlermeldungen gibt, behebt diese vor der Abgabe.**  \n",
    "2. Speichert das Notebook (Ctrl + S bzw. Cmd + S oder über File $\\rightarrow$ Save Notebook). Ändert dabei NICHT den Dateinamen.\n",
    "3. Ladet das Notebook herunter (Rechtsklick auf das Notebook $\\rightarrow$ Download).\n",
    "4. Schickt mir das Notebook per Mail an l.poggel@fu-berlin.de. Setzt dabei alle Mitbearbeiter\\:innen in Cc. \n",
    "\n",
    "Achtet auch darauf, alle Stellen auszufüllen, an denen CODE HIER EINGEBEN oder “ANTWORT HIER EINGEBEN” steht, und achtet auf die Hinweise zu den Aufgaben. Bearbeitet die Aufgaben immer genau so, wie es in der Aufgabe steht. Wenn ihr eine Antwort nicht wisst, könnt ihr einfach die entsprechende Zelle leer lassen bzw. die Platzhalter (z.B. `antwort = __`) stehen lassen. **Die leeren Codezellen, die ihr nicht bearbeiten könnt, beinhalten versteckte Tests zur automatisierten Korrektur der Aufgaben. Löscht  diese Zellen nicht und ändert nicht denn Typ der Zelle.** \n",
    "\n",
    "Gebt außerdem die Namen aller Bearbeiter\\:innen an:"
   ]
  },
  {
   "cell_type": "code",
   "execution_count": null,
   "metadata": {},
   "outputs": [],
   "source": [
    "NAME_1 = \"\"\n",
    "NAME_2 = \"\""
   ]
  },
  {
   "cell_type": "markdown",
   "metadata": {},
   "source": [
    "---"
   ]
  },
  {
   "cell_type": "markdown",
   "metadata": {},
   "source": [
    "**Dieses und alle weiteren Übungsblätter bearbeitet ihr in JupyterLab, nicht mehr in JupyterLite**. JupyterLab könnt ihr wie folgt starten: Öffnet euer Terminal bzw. Anaconda Prompt. Navigiert mit dem Befehl `cd` in den Ordner, in dem ihr dieses Übungsnotebook abgelegt habt. Aktiviert die virtuelle Umgebung, indem ihr eingebt `conda activate ws-env` und drückt Enter. Startet JupyterLab, indem ihr `jupyter lab` eingebt und auf Enter drückt. Wechselt jetzt in das Browserfenster, in dem JupyterLab geöffnet wurde. Das Übungsnotebook sollte bereits im JupyterLab File Browser erscheinen. Falls nicht, habt ihr wahrscheinlich vergessen, das Verzeichnis zu wechseln, bevor ihr JupyterLab gestartet habt. Ihr könnt in diesem Fall auch einfach das Notebook per Drag und Drop in JupyterLab ziehen oder JupyterLab neu starten. Öffnet anschließend das Übungsnotebook und wählt in der Werkzeugleiste im oberen rechten Rand des Notebooks den Kernel \"Python 3.12 (Webscraping)\" aus (dort sollte standardmäßig Python 3 (ipykernel) stehen). Vergesst nicht, nach dem Bearbeiten des Übungsblatts JupyterLab zu beenden. Das geht durch gleichzeitiges Drücken der Tasten `Ctrl` und `c` im Terminal bzw. Anaconda Prompt und Bestätigen durch Eingabe von `y` und `Enter`. "
   ]
  },
  {
   "cell_type": "markdown",
   "metadata": {},
   "source": [
    "## Aufgabe 1: HTML und CSS\n",
    "\n",
    "1.) Lest euch nochmal die Abschnitte zu HTML und CSS im Kapitel \"Einstieg Webscraping\" auf unserer [Kurs-Website](https://lipogg.github.io/webscraping-mit-python) durch. Formuliert ggf. eine Frage zu einem Inhalt, der euch noch nicht ganz klar ist und beantwortet anschließend die folgenden Fragen."
   ]
  },
  {
   "cell_type": "markdown",
   "metadata": {},
   "source": [
    "**Frage:**"
   ]
  },
  {
   "cell_type": "markdown",
   "metadata": {
    "deletable": false,
    "nbgrader": {
     "cell_type": "markdown",
     "checksum": "31c51ba2c7db3eb9559381258cdcd483",
     "grade": true,
     "grade_id": "frage_html-css",
     "locked": false,
     "points": 0,
     "schema_version": 3,
     "solution": true,
     "task": false
    }
   },
   "source": [
    "ANTWORT HIER EINGEBEN"
   ]
  },
  {
   "cell_type": "markdown",
   "metadata": {},
   "source": [
    "2.) Welchen Anwendungsbereich haben die Sprachen HTML, CSS und JavaScript in Webseiten?"
   ]
  },
  {
   "cell_type": "markdown",
   "metadata": {
    "deletable": false,
    "nbgrader": {
     "cell_type": "markdown",
     "checksum": "5a85fbba9eedc0b24984dec35c4dbe24",
     "grade": true,
     "grade_id": "a1_1",
     "locked": false,
     "points": 1,
     "schema_version": 3,
     "solution": true,
     "task": false
    }
   },
   "source": [
    "ANTWORT HIER EINGEBEN"
   ]
  },
  {
   "cell_type": "markdown",
   "metadata": {},
   "source": [
    "3.) Benennt alle Bestandteile des folgenden HTML Codes. Wie viele HTML-Elemente gibt es? Was ist die Bedeutung der Elemente? Sind sie auf der \"gerenderten\" Seite sichtbar oder unsichtbar? Was sind die Öffnungs- und Schließtags der Elemente? Welchen Inhalt haben die Elemente? Wie viele Kindelemente hat jedes Element? Welche Attribute gibt es und wozu werden sie verwendet? Hinweis: Gebt als Kindelemente nur die Elemente an, die sich direkt eine Ebene unterhalb des Elternelements befinden. Elemente, die auf tieferen Ebenen liegen (also Kindelemente von Kindelementen), sollten nicht berücksichtigt werden."
   ]
  },
  {
   "cell_type": "code",
   "execution_count": null,
   "metadata": {
    "deletable": false,
    "editable": false,
    "nbgrader": {
     "cell_type": "code",
     "checksum": "267cefe4fc1d8caca8360dea68c4bae8",
     "grade": false,
     "grade_id": "a1_2_code",
     "locked": true,
     "schema_version": 3,
     "solution": false,
     "task": false
    }
   },
   "outputs": [],
   "source": [
    "<html>\n",
    "    <head>\n",
    "        <title>Meine Webseite</title>\n",
    "    </head>\n",
    "    <body>\n",
    "        <h1>Meine Webseite</h1>\n",
    "        <div id=\"welcome\">\n",
    "            <p>Willkommen auf meiner Webseite. Schaut euch auch mein\n",
    "            Portfolio auf <a href=\"https://github.com/\">Github</a> an.</p>\n",
    "        </div>\n",
    "        <div>\n",
    "            <p>Für Anfragen nutzt bitte das <a href=\"/contact.html\">\n",
    "            Kontaktformular</a>.</p>\n",
    "        </div>\n",
    "    </body>\n",
    "</html>"
   ]
  },
  {
   "cell_type": "markdown",
   "metadata": {
    "deletable": false,
    "nbgrader": {
     "cell_type": "markdown",
     "checksum": "06b6c8dad134f722eafe34fd7c5fe2be",
     "grade": true,
     "grade_id": "a1_2",
     "locked": false,
     "points": 1,
     "schema_version": 3,
     "solution": true,
     "task": false
    }
   },
   "source": [
    "ANTWORT HIER EINGEBEN"
   ]
  },
  {
   "cell_type": "markdown",
   "metadata": {},
   "source": [
    "## Aufgabe 2: HTTP\n",
    "\n",
    "1.) Schaut bitte diese beiden Videos (je etwa 10 Minuten):\n",
    "\n",
    "- Network Fundamentals - Network Devices: https://www.youtube.com/watch?v=bj-Yfakjllc\n",
    "- Network Fundamentals - Network Protocols: https://www.youtube.com/watch?v=E5bSumTAHZE\n",
    "\n",
    "Beschreibt anschließend die folgenden Begriffe. Ihr könnte dazu einfach die Definitionen aus dem Video auf Deutsch übersetzen: Host, Client, Server, Webserver, IP-Adresse, Netzwerk, Internet, Protokoll, HTTP"
   ]
  },
  {
   "cell_type": "markdown",
   "metadata": {
    "deletable": false,
    "nbgrader": {
     "cell_type": "markdown",
     "checksum": "af003c57c593d9eac799d22a5a989829",
     "grade": true,
     "grade_id": "a2_1",
     "locked": false,
     "points": 1,
     "schema_version": 3,
     "solution": true,
     "task": false
    }
   },
   "source": [
    "ANTWORT HIER EINGEBEN"
   ]
  },
  {
   "cell_type": "markdown",
   "metadata": {},
   "source": [
    "2.) Lest anschließend den Abschnitt zu HTTP im Kapitel \"Einstieg Webscraping\" auf unserer [Kurs-Website](https://lipogg.github.io/webscraping-mit-python). Formuliert ggf. eine Frage zu einem Inhalt, der euch noch nicht ganz klar ist und beantwortet anschließend die folgenden Fragen."
   ]
  },
  {
   "cell_type": "markdown",
   "metadata": {},
   "source": [
    "**Frage:**"
   ]
  },
  {
   "cell_type": "markdown",
   "metadata": {
    "deletable": false,
    "nbgrader": {
     "cell_type": "markdown",
     "checksum": "ef7c18e5167b07438360e27975c97eb5",
     "grade": true,
     "grade_id": "frage_http",
     "locked": false,
     "points": 0,
     "schema_version": 3,
     "solution": true,
     "task": false
    }
   },
   "source": [
    "ANTWORT HIER EINGEBEN"
   ]
  },
  {
   "cell_type": "markdown",
   "metadata": {},
   "source": [
    "3.) Was bedeutet der Statuscode im Header einer HTTP-Response? "
   ]
  },
  {
   "cell_type": "markdown",
   "metadata": {
    "deletable": false,
    "nbgrader": {
     "cell_type": "markdown",
     "checksum": "af8c7fa048097bb21c0cd807a5276205",
     "grade": true,
     "grade_id": "a2_2",
     "locked": false,
     "points": 1,
     "schema_version": 3,
     "solution": true,
     "task": false
    }
   },
   "source": [
    "ANTWORT HIER EINGEBEN"
   ]
  },
  {
   "cell_type": "markdown",
   "metadata": {},
   "source": [
    "4.) Wozu wird die HTTP-GET-Methode verwendet? "
   ]
  },
  {
   "cell_type": "markdown",
   "metadata": {
    "deletable": false,
    "nbgrader": {
     "cell_type": "markdown",
     "checksum": "15fd75251edb856210f3e894393cd196",
     "grade": true,
     "grade_id": "a2_3",
     "locked": false,
     "points": 1,
     "schema_version": 3,
     "solution": true,
     "task": false
    }
   },
   "source": [
    "ANTWORT HIER EINGEBEN"
   ]
  },
  {
   "cell_type": "markdown",
   "metadata": {},
   "source": [
    "## Aufgabe 3: Rechtlicher Rahmen und Projektidee\n",
    "\n",
    "1.) Lest euch nochmal das Kapitel zum rechtlichen Rahmen des Webscraping auf unserer [Kurs-Website](https://lipogg.github.io/webscraping-mit-python) durch. Formuliert ggf. eine Frage zu einem Inhalt, der euch noch nicht ganz klar ist."
   ]
  },
  {
   "cell_type": "markdown",
   "metadata": {},
   "source": [
    "**Frage:**"
   ]
  },
  {
   "cell_type": "markdown",
   "metadata": {
    "deletable": false,
    "nbgrader": {
     "cell_type": "markdown",
     "checksum": "93b9e466c9031a77c6d2e1c55c6a2a6b",
     "grade": true,
     "grade_id": "frage_rechtliches",
     "locked": false,
     "points": 0,
     "schema_version": 3,
     "solution": true,
     "task": false
    }
   },
   "source": [
    "ANTWORT HIER EINGEBEN"
   ]
  },
  {
   "cell_type": "markdown",
   "metadata": {},
   "source": [
    "2.) Überlegt euch eine Projektidee für ein Webscraping-Projekt. Wenn ihr einen Leistungsschein für dieses Seminar machen wollt, kann das direkt das Projekt sein, das ihr am Ende des Seminars bearbeiten wollt. Wenn ihr keinen Leistungsschein machen wollt, beschreibt das Forschungsprojekt, an dem ihr arbeitet. Erläutert in drei Sätzen, welche Daten ihr von welcher Website (oder Websites) scrapen wollt, und welche Fragestellung ihr damit bearbeiten wollt. "
   ]
  },
  {
   "cell_type": "markdown",
   "metadata": {
    "deletable": false,
    "nbgrader": {
     "cell_type": "markdown",
     "checksum": "d9409c6f58d612c43c7dddf838d1593a",
     "grade": true,
     "grade_id": "a3_2",
     "locked": false,
     "points": 0,
     "schema_version": 3,
     "solution": true,
     "task": false
    }
   },
   "source": [
    "ANTWORT HIER EINGEBEN"
   ]
  },
  {
   "cell_type": "markdown",
   "metadata": {},
   "source": [
    "3.) Schaut euch die robots.txt-Datei eurer Website an, indem ihr die Website-URL eingebt gefolgt von `/robots.txt`. Darf euer Web Scraper alle Seiten aufrufen? Oder gibt es Unterseiten, die ihr nicht scrapen dürft? Müsst ihr beim Web Scrapen laut robots.txt sonst irgendetwas beachten? Zur Interpretation der robots.txt-Datei könnt ihr diese Seite zu Rate ziehen: [https://www.seerinteractive.com/insights/how-to-read-robots-txt](https://www.seerinteractive.com/insights/how-to-read-robots-txt)."
   ]
  },
  {
   "cell_type": "markdown",
   "metadata": {
    "deletable": false,
    "nbgrader": {
     "cell_type": "markdown",
     "checksum": "47e79036d28fd52b4064f50717adc862",
     "grade": true,
     "grade_id": "a3_3",
     "locked": false,
     "points": 0,
     "schema_version": 3,
     "solution": true,
     "task": false
    }
   },
   "source": [
    "ANTWORT HIER EINGEBEN"
   ]
  },
  {
   "cell_type": "markdown",
   "metadata": {},
   "source": [
    "4.) Sind die Daten, die ihr sammeln wollt, urheberrechtlich geschützt? Handelt es sich dabei um personenbezogene Daten laut DSGVO?"
   ]
  },
  {
   "cell_type": "markdown",
   "metadata": {
    "deletable": false,
    "nbgrader": {
     "cell_type": "markdown",
     "checksum": "dc4d79af39158613a0767b7fdfc00350",
     "grade": true,
     "grade_id": "a3_4",
     "locked": false,
     "points": 0,
     "schema_version": 3,
     "solution": true,
     "task": false
    }
   },
   "source": [
    "ANTWORT HIER EINGEBEN"
   ]
  },
  {
   "cell_type": "markdown",
   "metadata": {},
   "source": [
    "## Aufgabe 4: Praxis\n",
    "\n",
    "1.) Lest euch nochmal das neue Kapitel \"Statische Webseiten\" auf unserer [Kurs-Website](https://lipogg.github.io/webscraping-mit-python) durch. Formuliert ggf. eine Frage zu einem Inhalt, der euch noch nicht ganz klar ist."
   ]
  },
  {
   "cell_type": "markdown",
   "metadata": {},
   "source": [
    "**Frage:**"
   ]
  },
  {
   "cell_type": "markdown",
   "metadata": {
    "deletable": false,
    "nbgrader": {
     "cell_type": "markdown",
     "checksum": "aeca581e5b29783c1e2200ddb03ac87d",
     "grade": true,
     "grade_id": "frage_einstieg_webscraping",
     "locked": false,
     "points": 0,
     "schema_version": 3,
     "solution": true,
     "task": false
    }
   },
   "source": [
    "ANTWORT HIER EINGEBEN"
   ]
  },
  {
   "cell_type": "markdown",
   "metadata": {},
   "source": [
    "2.) Importiert die beiden Pakete requests und BeautifulSoup. "
   ]
  },
  {
   "cell_type": "code",
   "execution_count": null,
   "metadata": {
    "deletable": false,
    "nbgrader": {
     "cell_type": "code",
     "checksum": "c0013c25deaa91a9c44ffb46ea0c65da",
     "grade": true,
     "grade_id": "praxis-1",
     "locked": false,
     "points": 1,
     "schema_version": 3,
     "solution": true,
     "task": false
    }
   },
   "outputs": [],
   "source": [
    "# CODE HIER EINGEBEN"
   ]
  },
  {
   "cell_type": "markdown",
   "metadata": {},
   "source": [
    "3.) Stellt eine HTTP GET-Anfrage an den Server der Seite https://quotes.toscrape.com und weist die HTTP-Response einer Variable `response` zu."
   ]
  },
  {
   "cell_type": "code",
   "execution_count": null,
   "metadata": {
    "deletable": false,
    "nbgrader": {
     "cell_type": "code",
     "checksum": "407383251ac453bc66ed8ccbd68901e6",
     "grade": true,
     "grade_id": "praxis-2",
     "locked": false,
     "points": 1,
     "schema_version": 3,
     "solution": true,
     "task": false
    }
   },
   "outputs": [],
   "source": [
    "# CODE HIER EINGEBEN"
   ]
  },
  {
   "cell_type": "markdown",
   "metadata": {},
   "source": [
    "4.)  Ruft den Statuscode der HTTP-Response ab. War die Anfrage erfolgreich?"
   ]
  },
  {
   "cell_type": "code",
   "execution_count": null,
   "metadata": {
    "deletable": false,
    "nbgrader": {
     "cell_type": "code",
     "checksum": "0167bc532ed1503e81b83adb21d58ce2",
     "grade": true,
     "grade_id": "praxis-3",
     "locked": false,
     "points": 1,
     "schema_version": 3,
     "solution": true,
     "task": false
    }
   },
   "outputs": [],
   "source": [
    "# CODE HIER EINGEBEN"
   ]
  },
  {
   "cell_type": "markdown",
   "metadata": {},
   "source": [
    "5.) Erstellt ein BeautifulSoup-Objekt. Hinweis: Dazu könnt ihr der Vorlage auf unserer Kurs-Website folgen. Ihr müsst nur die Variable `page` durch die soeben erstellte Variable ersetzen."
   ]
  },
  {
   "cell_type": "code",
   "execution_count": null,
   "metadata": {
    "deletable": false,
    "nbgrader": {
     "cell_type": "code",
     "checksum": "948aa90d90b82967a550f60061eaf858",
     "grade": true,
     "grade_id": "praxis-4",
     "locked": false,
     "points": 1,
     "schema_version": 3,
     "solution": true,
     "task": false
    }
   },
   "outputs": [],
   "source": [
    "# CODE HIER EINGEBEN"
   ]
  },
  {
   "cell_type": "markdown",
   "metadata": {},
   "source": [
    "6.) Oben rechts auf der Webseite https://quotes.toscrape.com seht ihr eine Überschrift \"Top Ten tags\". Wir wollen jetzt alle zehn Tags aus dem Quellcode der Webseite extrahieren. Wenn ihr herausgefordert werden wollt, versucht, die Aufgabe nur mithilfe den Browser-Entwicklertools, den [BeautifulSoup-Dokumentationsseiten](https://beautiful-soup-4.readthedocs.io/en/latest/) und/oder den bereits bekannten BeautifulSoup-Methoden zu lösen. Ansonsten könnt ihr auch dieser Anleitung folgen:\n",
    "\n",
    "Öffnet in den Browser-Entwicklertools den Tab \"Elemente\". Bewegt den Cursor über die HTML-Elemente, bis der Bereich der Webseite, der die Top Ten Tags enthält, markiert wird. Falls ihr das HTML-Element nicht findet, könnt ihr auch die Überschrift \"Top Ten Tags\" auf der Webseite markieren. Mit Rechtsklick wird euch ein Menü angezeigt mit der Option \"Inspect\". Wenn ihr darauf klickt, springt die Anzeige in den Entwicklertools automatisch zu dem HTML-Element, das ihr sucht. Schaut euch jetzt die HTML-Elemente an, die die Auflistung der Top Ten Tags strukturieren. Welche HTML-Elemente oder Attribute beschreiben ausschließlich die Top Ten Tags? Sucht nach diesen Elementen oder Attributen mithilfe der Methode `.find_all()`. Ihr könnt euch dabei an dem Beispiel im Abschnitt \"Einstieg BeautifulSoup\" auf der Kurs-Website orientieren. Schreibt anschließend die for-Schleife aus dem Beispiel um, sodass die Tags statt die Zitate auf dem Bildschirm ausgegeben werde.\n",
    "\n",
    "*Hinweis: Wenn ihr euch die Tags auf dem Bildschirm ausgeben lasst, werdet ihr sehen, dass die Tags von Whitespace, also Leerzeichen, umgeben sind. Wie kann man die überschüssigen Leerzeichen direkt beim Extrahieren entfernen? Schaut in den Dokumentationsseiten zur Methode `get_text()` nach: https://beautiful-soup-4.readthedocs.io/en/latest/index.html?highlight=get_text#get-text*"
   ]
  },
  {
   "cell_type": "code",
   "execution_count": null,
   "metadata": {
    "deletable": false,
    "nbgrader": {
     "cell_type": "code",
     "checksum": "4076ef8d71347ef1057d6c2e04dee915",
     "grade": true,
     "grade_id": "praxis-5",
     "locked": false,
     "points": 1,
     "schema_version": 3,
     "solution": true,
     "task": false
    }
   },
   "outputs": [],
   "source": [
    "# CODE HIER EINGEBEN"
   ]
  }
 ],
 "metadata": {
  "kernelspec": {
   "display_name": "Python 3 (ipykernel)",
   "language": "python",
   "name": "python3"
  },
  "language_info": {
   "codemirror_mode": {
    "name": "ipython",
    "version": 3
   },
   "file_extension": ".py",
   "mimetype": "text/x-python",
   "name": "python",
   "nbconvert_exporter": "python",
   "pygments_lexer": "ipython3",
   "version": "3.11.11"
  }
 },
 "nbformat": 4,
 "nbformat_minor": 4
}
