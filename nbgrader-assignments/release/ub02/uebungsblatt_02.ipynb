{
 "cells": [
  {
   "cell_type": "markdown",
   "metadata": {},
   "source": [
    "## Wichtige Hinweise\n",
    "\n",
    "Bevor ihr diese Aufgabe abgebt stellt sicher, dass alles wie erwartet funktioniert. Befolgt dazu diese Schritte: \n",
    "\n",
    "1. Startet den Kernel neu und führt alle Zellen aus (in der Menüleiste: Run $\\rightarrow$ Restart Kernel and Run All Cells). **Wenn es Fehlermeldungen gibt, behebt diese vor der Abgabe.**  \n",
    "2. Speichert das Notebook (Ctrl + S bzw. Cmd + S oder über File $\\rightarrow$ Save Notebook). Ändert dabei NICHT den Dateinamen.\n",
    "3. Ladet das Notebook herunter (Rechtsklick auf das Notebook $\\rightarrow$ Download).\n",
    "4. Schickt mir das Notebook per Mail an l.poggel@fu-berlin.de. Setzt dabei alle Mitbearbeiter\\:innen in Cc. \n",
    "\n",
    "Achtet auch darauf, alle Stellen auszufüllen, an denen CODE HIER EINGEBEN oder “ANTWORT HIER EINGEBEN” steht, und achtet auf die Hinweise zu den Aufgaben. Bearbeitet die Aufgaben immer genau so, wie es in der Aufgabe steht. Wenn ihr eine Antwort nicht wisst, könnt ihr einfach die entsprechende Zelle leer lassen bzw. die Platzhalter (z.B. `antwort = __`) stehen lassen. **Die leeren Codezellen, die ihr nicht bearbeiten könnt, beinhalten versteckte Tests zur automatisierten Korrektur der Aufgaben. Löscht  diese Zellen nicht und ändert nicht denn Typ der Zelle.** \n",
    "\n",
    "Gebt außerdem die Namen aller Bearbeiter\\:innen an:"
   ]
  },
  {
   "cell_type": "code",
   "execution_count": null,
   "metadata": {},
   "outputs": [],
   "source": [
    "NAME_1 = \"\"\n",
    "NAME_2 = \"\""
   ]
  },
  {
   "cell_type": "markdown",
   "metadata": {},
   "source": [
    "---"
   ]
  },
  {
   "cell_type": "markdown",
   "metadata": {},
   "source": [
    "## Aufgabe 1: Wiederholung\n",
    "\n",
    "Lest euch nochmal die Inhalte zur Sitzung heute unter dem neuen Kapitel \"Python II\" auf unserer [Kurs-Website](https://lipogg.github.io/webscraping-mit-python/) durch. Formuliert ein bis drei Fragen zu einem Inhalt, der euch noch nicht ganz klar ist.\n"
   ]
  },
  {
   "cell_type": "markdown",
   "metadata": {},
   "source": [
    "**Frage 1:**"
   ]
  },
  {
   "cell_type": "markdown",
   "metadata": {
    "deletable": false,
    "nbgrader": {
     "cell_type": "markdown",
     "checksum": "a9176e8bffd5edee7bb7b516839bf6b5",
     "grade": true,
     "grade_id": "frage1",
     "locked": false,
     "points": 0,
     "schema_version": 3,
     "solution": true,
     "task": false
    }
   },
   "source": [
    "ANTWORT HIER EINGEBEN"
   ]
  },
  {
   "cell_type": "markdown",
   "metadata": {},
   "source": [
    "**Frage 2:**"
   ]
  },
  {
   "cell_type": "markdown",
   "metadata": {
    "deletable": false,
    "nbgrader": {
     "cell_type": "markdown",
     "checksum": "8d9886b31087a621002fb9ce0cac2470",
     "grade": true,
     "grade_id": "frage2",
     "locked": false,
     "points": 0,
     "schema_version": 3,
     "solution": true,
     "task": false
    }
   },
   "source": [
    "ANTWORT HIER EINGEBEN"
   ]
  },
  {
   "cell_type": "markdown",
   "metadata": {},
   "source": [
    "**Frage 3:**"
   ]
  },
  {
   "cell_type": "markdown",
   "metadata": {
    "deletable": false,
    "nbgrader": {
     "cell_type": "markdown",
     "checksum": "ed9f71fca32b42aefee544cc1384e46b",
     "grade": true,
     "grade_id": "frage3",
     "locked": false,
     "points": 0,
     "schema_version": 3,
     "solution": true,
     "task": false
    }
   },
   "source": [
    "ANTWORT HIER EINGEBEN"
   ]
  },
  {
   "cell_type": "markdown",
   "metadata": {},
   "source": [
    "## Aufgabe 2: Verständnis\n",
    "\n",
    "1.) Was bedeutet es, wenn ein Objekt **unveränderbar** ist? Erläutert kurz in euren eigenen Worten. "
   ]
  },
  {
   "cell_type": "markdown",
   "metadata": {
    "deletable": false,
    "nbgrader": {
     "cell_type": "markdown",
     "checksum": "904c5d1f5f062ecea07f70a90869f1bf",
     "grade": true,
     "grade_id": "a2_1_zeichenkette",
     "locked": false,
     "points": 1,
     "schema_version": 3,
     "solution": true,
     "task": false
    }
   },
   "source": [
    "ANTWORT HIER EINGEBEN"
   ]
  },
  {
   "cell_type": "markdown",
   "metadata": {},
   "source": [
    "2.) Sind die folgenden Datentypen **veränderbar**? \n",
    "\n",
    "*Hinweis: Gebt `antwort = True` für \"Ja\" ein und `antwort = False` für \"Nein\". Wenn ihr die Antwort nicht wisst, lasst einfach den Platzhalter `antwort = __` stehen.*\n",
    "\n",
    "a) Strings"
   ]
  },
  {
   "cell_type": "code",
   "execution_count": null,
   "metadata": {
    "deletable": false,
    "nbgrader": {
     "cell_type": "code",
     "checksum": "8a20c3955383b7f7f581004702ce4303",
     "grade": false,
     "grade_id": "a2_2_variablen_a",
     "locked": false,
     "schema_version": 3,
     "solution": true,
     "task": false
    }
   },
   "outputs": [],
   "source": [
    "# CODE HIER EINGEBEN\n",
    "antwort = __"
   ]
  },
  {
   "cell_type": "code",
   "execution_count": null,
   "metadata": {
    "deletable": false,
    "editable": false,
    "nbgrader": {
     "cell_type": "code",
     "checksum": "452463a5ef2c162ed73447fe2d18160a",
     "grade": true,
     "grade_id": "a2_2_variablen_a_test",
     "locked": true,
     "points": 1,
     "schema_version": 3,
     "solution": false,
     "task": false
    }
   },
   "outputs": [],
   "source": []
  },
  {
   "cell_type": "markdown",
   "metadata": {},
   "source": [
    "b) Tupel"
   ]
  },
  {
   "cell_type": "code",
   "execution_count": null,
   "metadata": {
    "deletable": false,
    "nbgrader": {
     "cell_type": "code",
     "checksum": "397908c9a65df44648cb5ebb786390dd",
     "grade": false,
     "grade_id": "a2_2_variablen_b-solution",
     "locked": false,
     "schema_version": 3,
     "solution": true,
     "task": false
    }
   },
   "outputs": [],
   "source": [
    "# CODE HIER EINGEBEN\n",
    "antwort = __"
   ]
  },
  {
   "cell_type": "code",
   "execution_count": null,
   "metadata": {
    "deletable": false,
    "editable": false,
    "nbgrader": {
     "cell_type": "code",
     "checksum": "711a3b0b44d9fdd5a199211402dadfaf",
     "grade": true,
     "grade_id": "a2_2_variablen_b-test",
     "locked": true,
     "points": 0,
     "schema_version": 3,
     "solution": false,
     "task": false
    }
   },
   "outputs": [],
   "source": []
  },
  {
   "cell_type": "markdown",
   "metadata": {},
   "source": [
    "c) Sets"
   ]
  },
  {
   "cell_type": "code",
   "execution_count": null,
   "metadata": {
    "deletable": false,
    "nbgrader": {
     "cell_type": "code",
     "checksum": "df00712073ce0a9f210fb51fffda53a2",
     "grade": false,
     "grade_id": "a2_2_variablen_c",
     "locked": false,
     "schema_version": 3,
     "solution": true,
     "task": false
    }
   },
   "outputs": [],
   "source": [
    "# CODE HIER EINGEBEN\n",
    "antwort = __"
   ]
  },
  {
   "cell_type": "code",
   "execution_count": null,
   "metadata": {
    "deletable": false,
    "editable": false,
    "nbgrader": {
     "cell_type": "code",
     "checksum": "6e8517566f6e31cf0461ee5e8b81029f",
     "grade": true,
     "grade_id": "a2_2_variablen_c_test",
     "locked": true,
     "points": 1,
     "schema_version": 3,
     "solution": false,
     "task": false
    }
   },
   "outputs": [],
   "source": []
  },
  {
   "cell_type": "markdown",
   "metadata": {},
   "source": [
    "d) Dictionaries"
   ]
  },
  {
   "cell_type": "code",
   "execution_count": null,
   "metadata": {
    "deletable": false,
    "nbgrader": {
     "cell_type": "code",
     "checksum": "63ac22a251031738d459bfe4b103a2ea",
     "grade": false,
     "grade_id": "a2_2_variablen_d",
     "locked": false,
     "schema_version": 3,
     "solution": true,
     "task": false
    }
   },
   "outputs": [],
   "source": [
    "# CODE HIER EINGEBEN\n",
    "antwort = __"
   ]
  },
  {
   "cell_type": "code",
   "execution_count": null,
   "metadata": {
    "deletable": false,
    "editable": false,
    "nbgrader": {
     "cell_type": "code",
     "checksum": "5b0af262a8a8039a0f861e38a179c874",
     "grade": true,
     "grade_id": "a2_2_variablen_d_test",
     "locked": true,
     "points": 1,
     "schema_version": 3,
     "solution": false,
     "task": false
    }
   },
   "outputs": [],
   "source": []
  },
  {
   "cell_type": "markdown",
   "metadata": {},
   "source": [
    "e) Listen"
   ]
  },
  {
   "cell_type": "code",
   "execution_count": null,
   "metadata": {
    "deletable": false,
    "nbgrader": {
     "cell_type": "code",
     "checksum": "e0f5bb0bea5bb1a4d834f4158ab3bcb3",
     "grade": false,
     "grade_id": "a2_2_variablen_e",
     "locked": false,
     "schema_version": 3,
     "solution": true,
     "task": false
    }
   },
   "outputs": [],
   "source": [
    "# CODE HIER EINGEBEN\n",
    "antwort = __"
   ]
  },
  {
   "cell_type": "code",
   "execution_count": null,
   "metadata": {
    "deletable": false,
    "editable": false,
    "nbgrader": {
     "cell_type": "code",
     "checksum": "a434795e7721106b0ee658871e1d10ec",
     "grade": true,
     "grade_id": "a2_2_variablen_e_tests",
     "locked": true,
     "points": 1,
     "schema_version": 3,
     "solution": false,
     "task": false
    }
   },
   "outputs": [],
   "source": []
  },
  {
   "cell_type": "markdown",
   "metadata": {},
   "source": [
    "3.) Fügt über jeder Zeile im folgenden Code einen Kommentar hinzu, der in euren eigenen Worten beschreibt, was in der jeweiligen Zeile passiert.\n",
    "\n",
    "*Hinweis: Kommentare werden üblicherweise im Infinitiv formuliert. Ein möglicher Kommentar für die Codezeile `print(\"Hallo\")` wäre z.B. `# Zeichenkette \"Hallo\" ausgeben`.*"
   ]
  },
  {
   "cell_type": "code",
   "execution_count": null,
   "metadata": {
    "deletable": false,
    "editable": false,
    "nbgrader": {
     "cell_type": "code",
     "checksum": "dad705297a44d7a1196a3b534d448da6",
     "grade": false,
     "grade_id": "a2_3_kommentare_code",
     "locked": true,
     "schema_version": 3,
     "solution": false,
     "task": false
    }
   },
   "outputs": [],
   "source": [
    "genres = [\"Jazz\", \"Klassik\", \"Rap\", \"Punk\", \"Techno\"]\n",
    "genres[4] = \"House\"\n",
    "genres.append(\"Rock\")\n",
    "(genres[0], genres[1]) = (genres[1], genres[0])\n",
    "print(genres)"
   ]
  },
  {
   "cell_type": "code",
   "execution_count": null,
   "metadata": {
    "deletable": false,
    "nbgrader": {
     "cell_type": "code",
     "checksum": "8454a2bea36955ad7c5d8b0f2208a8bd",
     "grade": true,
     "grade_id": "a2_3_kommentare",
     "locked": false,
     "points": 1,
     "schema_version": 3,
     "solution": true,
     "task": false
    }
   },
   "outputs": [],
   "source": [
    "# CODE HIER EINGEBEN"
   ]
  },
  {
   "cell_type": "markdown",
   "metadata": {},
   "source": [
    "4.) Was wird auf dem Bildschirm ausgegeben und warum? Beantwortet die Frage ohne die Hilfe von Python und JupyterLite!"
   ]
  },
  {
   "cell_type": "code",
   "execution_count": null,
   "metadata": {
    "deletable": false,
    "editable": false,
    "nbgrader": {
     "cell_type": "code",
     "checksum": "a445aea1b7da1562f63dc161f9eba770",
     "grade": false,
     "grade_id": "a2_4_ausgabe_code",
     "locked": true,
     "schema_version": 3,
     "solution": false,
     "task": false
    }
   },
   "outputs": [],
   "source": [
    "fruechte = [\"Apfel\", \"Orange\", \"Apfel\", \"Birne\", \"Birne\", \"Banane\"]\n",
    "fruechte_set = set(fruechte)\n",
    "fruechte_neu = list(fruechte_set)\n",
    "print(fruechte_neu)"
   ]
  },
  {
   "cell_type": "markdown",
   "metadata": {
    "deletable": false,
    "nbgrader": {
     "cell_type": "markdown",
     "checksum": "3d2eb377580a28269d977e595c25d5f2",
     "grade": true,
     "grade_id": "a2_4_ausgabe",
     "locked": false,
     "points": 1,
     "schema_version": 3,
     "solution": true,
     "task": false
    }
   },
   "source": [
    "ANTWORT HIER EINGEBEN"
   ]
  },
  {
   "cell_type": "markdown",
   "metadata": {},
   "source": [
    "## Aufgabe 3: Praxis\n"
   ]
  },
  {
   "cell_type": "markdown",
   "metadata": {},
   "source": [
    "1.) Stellt euch folgende Situation vor: In diesem Jahr seid ihr bisher oft ins Kino gegangen. Ihr habt euch fünf Mal einen Film im Kino \"International\" angesehen, drei Mal im \"Cinemaxx\" und sieben Mal im \"Babylon\". Ihr wollt am Ende des Jahres eine Visualisierung eurer Kinobesuche im Jahr 2024 in Python erstellen, um eure Freund:innen zu beeindrucken. Dazu wollt ihr die Kinobesuche nachverfolgen. Erstellt zunächst ein neues Dictionary, das eure bisherigen Kinobesuche enthält, und nennt es `kinobesuche`."
   ]
  },
  {
   "cell_type": "code",
   "execution_count": null,
   "metadata": {
    "deletable": false,
    "nbgrader": {
     "cell_type": "code",
     "checksum": "c0013c25deaa91a9c44ffb46ea0c65da",
     "grade": true,
     "grade_id": "praxis-1",
     "locked": false,
     "points": 1,
     "schema_version": 3,
     "solution": true,
     "task": false
    }
   },
   "outputs": [],
   "source": [
    "# CODE HIER EINGEBEN"
   ]
  },
  {
   "cell_type": "markdown",
   "metadata": {},
   "source": [
    "2.) Zwei Wochen später geht ihr wieder ins Kino, diesmal ins Kino \"Delphi LUX\". Fügt eurem Dictionary einen neuen Eintrag mit dem String \"Delphi\" als Schlüssel hinzu."
   ]
  },
  {
   "cell_type": "code",
   "execution_count": null,
   "metadata": {
    "deletable": false,
    "nbgrader": {
     "cell_type": "code",
     "checksum": "407383251ac453bc66ed8ccbd68901e6",
     "grade": true,
     "grade_id": "praxis-2",
     "locked": false,
     "points": 1,
     "schema_version": 3,
     "solution": true,
     "task": false
    }
   },
   "outputs": [],
   "source": [
    "# CODE HIER EINGEBEN"
   ]
  },
  {
   "cell_type": "markdown",
   "metadata": {},
   "source": [
    "3.) Weitere zwei Wochen später geht ihr wieder ins Kino, und zwar in den \"Delphi Filmpalast\". Ihr wollt auch diesen Kinobesuch in eurem Dictionary festhalten, allerdings erinnert ihr euch nicht mehr daran, welchen Schlüssel ihr für das \"Delphi LUX\" gewählt habt. Da ihr euch daran erinnert, dass jeder Schlüssel in einem Dictionary nur einmal vorkommen darf, wollt ihr einen anderen Schlüssel für euren Besuch im \"Delphi Filmpalast\" verwenden. Lasst euch alle Schlüssel eures Dictionaries ausgeben."
   ]
  },
  {
   "cell_type": "code",
   "execution_count": null,
   "metadata": {
    "deletable": false,
    "nbgrader": {
     "cell_type": "code",
     "checksum": "0167bc532ed1503e81b83adb21d58ce2",
     "grade": true,
     "grade_id": "praxis-3",
     "locked": false,
     "points": 1,
     "schema_version": 3,
     "solution": true,
     "task": false
    }
   },
   "outputs": [],
   "source": [
    "# CODE HIER EINGEBEN"
   ]
  },
  {
   "cell_type": "markdown",
   "metadata": {},
   "source": [
    "4.) Der Schlüssel \"Delphi\" ist also schon vergeben. Fügt eurem Dictionary einen neuen Eintrag für euren Besuch im \"Delphi Filmpalast\" hinzu und wählt dabei einen geeigneten Schlüssel."
   ]
  },
  {
   "cell_type": "code",
   "execution_count": null,
   "metadata": {
    "deletable": false,
    "nbgrader": {
     "cell_type": "code",
     "checksum": "948aa90d90b82967a550f60061eaf858",
     "grade": true,
     "grade_id": "praxis-4",
     "locked": false,
     "points": 1,
     "schema_version": 3,
     "solution": true,
     "task": false
    }
   },
   "outputs": [],
   "source": [
    "# CODE HIER EINGEBEN"
   ]
  },
  {
   "cell_type": "markdown",
   "metadata": {},
   "source": [
    "5.) Ihr bemerkt plötzlich, dass ihr euch beim Erstellen des Dictionaries vertan habt: Ihr ward gar nicht fünf mal im \"International\" und drei Mal im \"Cinemaxx\", sondern drei Mal im \"International\" und fünf Mal im \"Cinemaxx\". Korrigiert euren Fehler."
   ]
  },
  {
   "cell_type": "code",
   "execution_count": null,
   "metadata": {
    "deletable": false,
    "nbgrader": {
     "cell_type": "code",
     "checksum": "4076ef8d71347ef1057d6c2e04dee915",
     "grade": true,
     "grade_id": "praxis-5",
     "locked": false,
     "points": 1,
     "schema_version": 3,
     "solution": true,
     "task": false
    }
   },
   "outputs": [],
   "source": [
    "# CODE HIER EINGEBEN"
   ]
  },
  {
   "cell_type": "markdown",
   "metadata": {},
   "source": [
    "6.) Lasst euch das korrigierte Dictionary auf dem Bildschirm ausgeben. In welchem Kino ward ihr am häufigsten?"
   ]
  },
  {
   "cell_type": "code",
   "execution_count": null,
   "metadata": {
    "deletable": false,
    "nbgrader": {
     "cell_type": "code",
     "checksum": "6096585c70cb22b63a1a45901003678e",
     "grade": true,
     "grade_id": "praxis-6",
     "locked": false,
     "points": 1,
     "schema_version": 3,
     "solution": true,
     "task": false
    }
   },
   "outputs": [],
   "source": [
    "# CODE HIER EINGEBEN"
   ]
  }
 ],
 "metadata": {
  "kernelspec": {
   "display_name": "Python 3 (ipykernel)",
   "language": "python",
   "name": "python3"
  },
  "language_info": {
   "codemirror_mode": {
    "name": "ipython",
    "version": 3
   },
   "file_extension": ".py",
   "mimetype": "text/x-python",
   "name": "python",
   "nbconvert_exporter": "python",
   "pygments_lexer": "ipython3",
   "version": "3.11.11"
  }
 },
 "nbformat": 4,
 "nbformat_minor": 4
}
